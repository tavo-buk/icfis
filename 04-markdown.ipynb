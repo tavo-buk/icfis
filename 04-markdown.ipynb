{
 "cells": [
  {
   "cell_type": "markdown",
   "metadata": {},
   "source": [
    "# Breve tutorial de Markdown\n",
    "## para uso no jupyter-notebook  \n",
    "\n",
    "\n",
    "Para introduzir texto no `jupyter` podemos usar `Markdown`. Ele é uma ferramenta para convertir *texto-a-html*.  O texto pode ser inserido de forma simples e para quem lé documentos em `Markdown` também é simples de entender. \n",
    "\n",
    "Este notebook ensina algumas coisas fundamentais do `Markdown`.  Compare o documento fonte com o notebook gerado. Assim vc aprenderá usar o editor. \n",
    "\n",
    "\n",
    "# Titulo 1\n",
    "## Titulo 2\n",
    "### Titulo 3\n",
    "\n",
    "\n",
    "Há diferentes tipos de enfases:\n",
    "\n",
    "**enfase 1**  \n",
    "*enfase 2*  \n",
    "`enfase 3`  \n",
    "\n",
    "Para criar listas, pode se usar\n",
    "\n",
    "**Exemplo de lista 1**\n",
    "* item A\n",
    "* item B\n",
    "* item C\n",
    "\n",
    "**Exemplo de lista numerada**\n",
    "1. item A\n",
    "2. item B\n",
    "3. item C\n",
    "\n",
    "    * sub-item a\n",
    "    * sub-item b\n",
    "    \n",
    "\n",
    "Para inserir links use:\n",
    "\n",
    "* [tutorial de Markdown](https://daringfireball.net/projects/markdown/)\n",
    "\n",
    "## Para inserir equações de LaTeX\n",
    "\n",
    "Se queremos inserir uma equação na linha de texto usamos $e^{i\\pi} + 1 = 0$ .   \n",
    "\n",
    "Se queremos inserir a equação numa nova linha usamos\n",
    "\n",
    "$$e^x=\\sum_{i=0}^\\infty \\frac{1}{i!}x^i$$\n",
    "\n",
    "\n",
    "## Finalmente, para inserir figuras\n",
    "\n",
    "<img src=\"Figs/contour-cmb.png\" width=50% >\n",
    "\n"
   ]
  },
  {
   "cell_type": "code",
   "execution_count": null,
   "metadata": {
    "collapsed": true
   },
   "outputs": [],
   "source": []
  }
 ],
 "metadata": {
  "kernelspec": {
   "display_name": "Python 3 (ipykernel)",
   "language": "python",
   "name": "python3"
  },
  "language_info": {
   "codemirror_mode": {
    "name": "ipython",
    "version": 3
   },
   "file_extension": ".py",
   "mimetype": "text/x-python",
   "name": "python",
   "nbconvert_exporter": "python",
   "pygments_lexer": "ipython3",
   "version": "3.9.13"
  }
 },
 "nbformat": 4,
 "nbformat_minor": 2
}
