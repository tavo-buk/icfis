{
 "cells": [
  {
   "cell_type": "markdown",
   "metadata": {},
   "source": [
    "# Introdução à Computação em Física 2023-2\n",
    "O objetivo desse curso é apresentar ao aluno as **ferramentas computacionais** necessárias para desenvolver sua pesquisa cientifica. Serão introduzidas tanto ferramentas quanto métodos computacionais que são comunmente usados na física e outras áreas da ciência.\n",
    "\n",
    "## Professor: \n",
    "Gustavo Guerrero  \n",
    "guerrero@fisica.ufmg.br  \n",
    "Sala 4120\n",
    "\n",
    "## Salas de aula\n",
    "Ter  20:55 - 22:35, Sala 1010  \n",
    "Qui  19:00 - 20:40, Sala 1010  \n",
    "\n"
   ]
  },
  {
   "cell_type": "markdown",
   "metadata": {},
   "source": [
    "## Programa do curso\n",
    "\n",
    "### Teremos 30 aulas com o seguinte conteúdo:\n",
    "\n",
    "1. Introdução ao curso\n",
    "2. [Introdução ao SO Linux e Vim](./01-linux-vim.ipynb)\n",
    "3. Linux 2\n",
    "4. Editando documentos em LaTex 1  - Uso de [overleaf](https://www.overleaf.com)\n",
    "<img src=\"Figs/word_vs_latex_1_eng.png\" width=50% >\n",
    "5. Editando documentos em LaTex 2\n",
    "6. [Python 1: Introdução](./02-Introducao_ao_Python.ipynb)\n",
    "<img src=\"Figs/growth_major_languages.png\" width=50% >\n",
    "7. [Python 2: Modulos, Numpy, Scipy](./03-Introducao_ao_Python_2.ipynb)\n",
    "8. Jupyter notebook\n",
    "    * Jupyter [(o futuro das publicações científicas)](https://www.theatlantic.com/science/archive/2018/04/the-scientific-paper-is-obsolete/556676/)\n",
    "    * [Breve tutorial de Markdown](./04-markdown.ipynb)\n",
    "9.  [A expansão em serie de Taylor, diferenciação numérica](05-taylor-series.ipynb)\n",
    "10. [Integração numérica](06-Integracao-numerica.ipynb)\n",
    "<img src=\"Figs/Integral_as_region_under_curve.png\" width=50% >\n",
    "11. Prova prática 1\n",
    "15. [Ajuste de curvas: minimos quadrados, regressão linear](07-Regressao-linear.ipynb)\n",
    "12. [Leitura e escritura de dados](08-leitura_escritura.ipynb)\n",
    "[(anatomia de matplotlib)](https://github.com/matplotlib/AnatomyOfMatplotlib)\n",
    "14. Graficando em Python 2\n",
    "<img src=\"Figs/Curve_fitting.png\" width=50% >\n",
    "16. Pratica\n",
    "17. Gráficos com níveis de contorno\n",
    "<img src=\"Figs/contour-cmb.png\" width=50% >\n",
    "\n",
    "18. Gráficos 3D\n",
    "19. [Interpolação e extrapolação 1](09a-interpolacao-Lagrange.ipynb)\n",
    "20. [Interpolação e extrapolação 2](09b-cubic_splines.ipynb)\n",
    "<img src=\"Figs/extrapolation-points.png\" width=50% >\n",
    "21. Prova prática 2\n",
    "22. [Algebra matricial 1](10-algebra-linear.ipynb)\n",
    "23. [Algebra matricial 2](10-algebra-linear.ipynb)\n",
    "24. Analise de séries temporais 1\n",
    "25. Analise de séries temporais 2\n",
    "26. [EDO 1, Solução de equações diferenciais ordinárias](11-EDO.ipynb)\n",
    "27. [EDO 2, O projetil e o péndulo](11-EDO2.ipynb)\n",
    "28. [EDO 3, graficando linhas de campo e diagramas de contorno](11-EDO2.ipynb)\n",
    "28. [Introudução a redes neurais e aprendizado de máquina](12-redes_neurais.ipynb)\n",
    "<img src=\"Figs/machine-learning.png\" width=50% >\n",
    "30. Prova prática 3.\n",
    "\n",
    "# Avaliação\n",
    "\n",
    "1. 3 provas teorico-praticas 75%\n",
    "2. Exercícios 25%\n"
   ]
  },
  {
   "cell_type": "markdown",
   "metadata": {},
   "source": [
    "## Bibliografia básica\n",
    "1. [Scientific data analysis, Graham Currell, OUP Oxford, 2015](https://www.amazon.com/Scientific-Data-Analysis-Graham-Currell/dp/0198712545)\n",
    "2. [Computational Physics, Landau R. et al., 3rd edition](https://www.amazon.com/Computational-Physics-Problem-Solving-Python/dp/3527413154/ref=pd_lpo_sbs_14_t_1?_encoding=UTF8&psc=1&refRID=3D4E33CAJKFK4C3RMYS9)\n",
    "3. [Data analysis: Statistical and Computational Methods for Scientist and Engeniers, Siegmund Brandt, Springer](https://www.amazon.com/Data-Analysis-Statistical-Computational-Scientists/dp/0387984984)\n",
    "4. [Numerical Recipes 3rd edition: The art of scientific computing, Press et al, 2007](http://numerical.recipes/)\n",
    "5. [One hundred physics visualilzations using matlab, Green Dan](https://www.amazon.com/Hundred-Physics-Visualizations-Using-Matlab/dp/9814518441)"
   ]
  },
  {
   "cell_type": "markdown",
   "metadata": {},
   "source": [
    "# Vejamos o simples que é fazer uma figura no Python\n",
    "\n",
    "Vamos fazer o sin(x), de 0 a Pi"
   ]
  },
  {
   "cell_type": "code",
   "execution_count": 2,
   "metadata": {},
   "outputs": [
    {
     "data": {
      "image/png": "[encoded data removed]",
      "text/plain": [
       "<matplotlib.figure.Figure at 0x7f72a6b67290>"
      ]
     },
     "metadata": {},
     "output_type": "display_data"
    }
   ],
   "source": [
    "import numpy as np\n",
    "import matplotlib.pylab as mpl\n",
    "x = np.linspace(0,4)\n",
    "y = np.sin(x)\n",
    "mpl.plot(x,y)\n",
    "mpl.plot(x,np.cos(x))\n",
    "mpl.show()"
   ]
  },
  {
   "cell_type": "code",
   "execution_count": null,
   "metadata": {},
   "outputs": [],
   "source": []
  }
 ],
 "metadata": {
  "kernelspec": {
   "display_name": "Python 3 (ipykernel)",
   "language": "python",
   "name": "python3"
  },
  "language_info": {
   "codemirror_mode": {
    "name": "ipython",
    "version": 3
   },
   "file_extension": ".py",
   "mimetype": "text/x-python",
   "name": "python",
   "nbconvert_exporter": "python",
   "pygments_lexer": "ipython3",
   "version": "3.9.13"
  }
 },
 "nbformat": 4,
 "nbformat_minor": 2
}
