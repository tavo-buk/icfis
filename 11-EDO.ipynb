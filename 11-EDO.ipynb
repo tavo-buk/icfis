{
 "cells": [
  {
   "cell_type": "markdown",
   "metadata": {},
   "source": [
    "# Solução de equações diferenciais ordinarias (EDO)\n",
    "\n",
    "  \n",
    "\n",
    "\n",
    "Equações diferenciais são ubicuas na ciência e são as ferramentas pelas\n",
    "quais tentamos expresar as leis de movimento da natureza. \n",
    "\n",
    "\n",
    "Nesse capitulo vamos revisar os métodos mais usados na resolução de\n",
    "equações e sistemas de equações diferenciais ordinarias ODE.\n",
    "Vamos estudar varias aplicações físicas desses métodos: decaimento radiativo, circuito RL,  o lançamento do projetil, o movimento de uma particula carregada num campo magnético, o pendulo clásico e a estrutura de estrelas (incluindo estrelas de neutrons).\n",
    "\n",
    "Vamos também utilizar a solução de sistemas de equações para graficar as linhas de campo eletrico gerado por cargas pontuais.\n",
    "\n",
    "O estudo das equações diferenciais parciais (EDP) é considerado en um curso mais avançado."
   ]
  },
  {
   "cell_type": "markdown",
   "metadata": {},
   "source": [
    "A ordem de uma EDO se refer a ordem da derivada ao lado esquerdo da equação, e.g.,\n",
    "\n",
    "$$\n",
    "\\frac{dy}{dt} = f(t,y)\n",
    "$$\n",
    "\n",
    "é uma equação de primeira ordem com $f$ sendo uma função arbitraria. Uma equação de\n",
    "segunda ordem é:\n",
    "\n",
    "$$\n",
    "\\frac{d^2y}{dt^2} = f(t,\\frac{dy}{dt},y),\n",
    "$$\n",
    "\n",
    "cujo exemplo clásico é a segunda lei de Newton:\n",
    "\n",
    "$$\n",
    "m \\frac{d^2x}{dt^2} = -k x \\;.\n",
    "$$\n",
    "\n",
    "Em muitos casos é possível escrever uma equação de segunda ordem como duas\n",
    "EDO de primeira ordem, e.x., para a equação acima:\n",
    "\n",
    "$$\n",
    "m \\frac{dv}{dt} = -k x \\;, \\; \\; \\;    \\frac{dx}{dt} = v \\;.\n",
    "$$\n",
    "\n",
    "Nesse caso teríamos duas equações de primeira ordem acopladas.\n"
   ]
  },
  {
   "cell_type": "markdown",
   "metadata": {},
   "source": [
    "## Métodos de diferenças finitas \n",
    "\n",
    "### *Método de Euler*\n",
    "\n",
    "Supondo que temos a condição inicial dada por:\n",
    "\n",
    "$$\n",
    "y_0 = y(t = t_0)\n",
    "$$\n",
    "\n",
    "Estamos interessados em resolver uma EDO no intervalo $[a,b]$, usando $N$ pasos temporais e/ou espaciais.  Definimos nosso intervalo: $h = \\frac{b-a}{N}$\n",
    "\n",
    "Com esse passo e a derivada de $y$ podemos evaluar o valor seguinte da função $y$ em:\n",
    "\n",
    "$$\n",
    "y_1 = y(t_1 = t_0 + h) \\;,\n",
    "$$\n",
    "\n",
    "e assim sucesivamente. Se a função é suave podemos usar um valor de $h$ constante.\n",
    "Caso contrario podemos adaptar $h$ em diferentes regioes do dominio $[a,b]$. Para o caso\n",
    "de $h$ fixo:\n",
    "\n",
    "$$\n",
    "y_{i+1} = y(t = t_i + h) = y(t_i) + h \\Delta(t_i, y_i(t_i)) + {\\cal O}(h^{p+1})  \\;,\n",
    "$$\n",
    "\n",
    "onde ${\\cal O}(h^{p+1})$ representa o erro de truncamento. Para determinar $\\Delta$,\n",
    "expandimos a função $y$ em serie de Taylor:\n",
    "\n",
    "$$\n",
    "\\Delta(t_i, y_i(t_i)) = (y'(t_i) + ... + y^{(p)}(t_i) \\frac{h^{p-1}}{p!})  \\;.\n",
    "$$\n",
    "\n",
    "Definindo: $y'(t_i) = f(t_i,y_i)$, e truncando $\\Delta$ na primeira derivada, temos:\n",
    "\n",
    "$$\n",
    "y_{i+1} = y_i  + h \\; f(t_i,y_i) + {\\cal O}(h^{2})  \\;,\n",
    "$$\n",
    "\n",
    "Que com $t_{i+1} = t_i + h$, forma o algoritmo conhecido como método de Euler. A cada paso\n",
    "temos um erro de truncamento de ordem ${\\cal O}(h^{2})$, levando a um erro global de\n",
    "$N{\\cal O}(h^{2}) \\simeq {\\cal O}(h)$.  Aumentar $N$ arbitrariamente pode ajudar más podemos\n",
    "entrar em problemas de *roundoff*.\n"
   ]
  },
  {
   "cell_type": "markdown",
   "metadata": {},
   "source": [
    "Se incluimos a segunda derivada no calculo de $\\Delta$ temos:\n",
    "\n",
    "$$\n",
    "\\Delta(t_i, y_i(t_i)) = f(t_i) + \\frac{h}{2}\\frac{df(t_i,y_i)}{dt} + {\\cal O}(h^{3})\n",
    "$$\n",
    "\n",
    "a segunda derivada pode se escrever como:\n",
    "\n",
    "$$\n",
    "y'' = f' = \\frac{df}{dt} = \\frac{\\partial f}{\\partial t} \n",
    "+ \\frac{\\partial f}{\\partial y} \\frac{\\partial y}{\\partial t} = \\frac{\\partial f}{\\partial t}  + \\frac{\\partial f}{\\partial y}  f\n",
    "$$ \n",
    "\n",
    "o que leva a\n",
    "\n",
    "$$\n",
    "y_{i+1} = y_i  + h f(t_i) + \\frac{h^2}{2}\\left( \\frac{\\partial f}{\\partial t}  + \\frac{\\partial f}{\\partial y} f \\right)\n",
    "        + {\\cal O}(h^{3})  \\;,\n",
    "$$\n",
    "\n",
    "com um erro local de ${\\cal O}(h^{3})$ e um erro global de ${\\cal O}(h^{2})$.\n",
    "Podemos aprimorar o método tomando a derivada até uma ordem arbitraria, mas calcular numericamente derivadas de alta ordem não é recomendável.\n"
   ]
  },
  {
   "cell_type": "markdown",
   "metadata": {},
   "source": [
    "### *Métodos Runge-Kutta*\n",
    "\n",
    "Os métodos Runge-Kutta também são baseados em expansões de Taylor, não entanto levam a\n",
    "melhores algoritmos para a solução de EDOs. A filosofía básica desses métodos é o calculo\n",
    "de um paso intermediario no cálculo de $y_{i+1}$. Consideremos as definições seguintes:\n",
    "\n",
    "<!-- Equation labels as ordinary links -->\n",
    "<div id=\"_auto25\"></div>\n",
    "\n",
    "$$\n",
    "\\begin{equation}\n",
    "   \\frac{dy}{dt}=f(t,y),  \n",
    "\\label{_auto25} \\tag{1}\n",
    "\\end{equation}\n",
    "$$\n",
    "\n",
    "<!-- Equation labels as ordinary links -->\n",
    "<div id=\"_auto26\"></div>\n",
    "\n",
    "$$\n",
    "\\begin{equation}\n",
    "   y(t)=\\int f(t,y) dt,  \n",
    "\\label{_auto26} \\tag{2}\n",
    "\\end{equation}\n",
    "$$\n",
    "\n",
    "<!-- Equation labels as ordinary links -->\n",
    "<div id=\"_auto27\"></div>\n",
    "\n",
    "$$\n",
    "\\begin{equation}\n",
    "  y_{i+1}=y_i+ \\int_{t_i}^{t_{i+1}} f(t,y) dt.\n",
    "\\label{_auto27} \\tag{3}\n",
    "\\end{equation}\n",
    "$$\n",
    "\n",
    "\n",
    "Para demonstrar a filosofia dos metodos RK, vamos considerar\n",
    "inicialmente o método de segunda ordem: RK2. Expandimos $f(t,y)$ arredor do centro\n",
    "do intervalo de integração $[t_i,t_{i+1}]$, ou seja, em $t_{i+1/2} = t_{i+h/2}$.  Usando a formula da integral no ponto médio, $y(t_i + h/2)$ temos:\n"
   ]
  },
  {
   "cell_type": "markdown",
   "metadata": {},
   "source": [
    "<!-- Equation labels as ordinary links -->\n",
    "<div id=\"_auto28\"></div>\n",
    "\n",
    "$$\n",
    "\\begin{equation}\n",
    "    \\int_{t_i}^{t_{i+1}} f(t,y) dt \\approx hf(t_{i+1/2},y_{i+1/2}) +O(h^3).\n",
    "\\label{_auto28} \\tag{4}\n",
    "\\end{equation}\n",
    "$$\n",
    "\n",
    "Isto significa que temos\n",
    "\n",
    "<!-- Equation labels as ordinary links -->\n",
    "<div id=\"_auto29\"></div>\n",
    "$$\n",
    "\\begin{equation}\n",
    "     y_{i+1}=y_i + hf(t_{i+1/2},y_{i+1/2}) +O(h^3).\n",
    "\\label{_auto29} \\tag{5}\n",
    "\\end{equation}\n",
    "$$\n",
    "\n",
    "No entanto, o valor de $y_{i+1/2}$ ainda é desconhecido. Usamos o método de Euler para aproximar $y_{i+1/2}$, o que leva a:"
   ]
  },
  {
   "cell_type": "markdown",
   "metadata": {},
   "source": [
    "<!-- Equation labels as ordinary links -->\n",
    "<div id=\"_auto30\"></div>\n",
    "\n",
    "$$\n",
    "\\begin{equation}\n",
    "   y_{(i+1/2)}=y_i + \\frac{h}{2}\\frac{dy}{dt} =\n",
    "   y(t_i) + \\frac{h}{2}f(t_i,y_i).\n",
    "\\label{_auto30} \\tag{6}\n",
    "\\end{equation}\n",
    "$$\n",
    "\n",
    "Assim, um algoritmo para o método RK2 seria:\n",
    "\n",
    "<!-- Equation labels as ordinary links -->\n",
    "<div id=\"_auto31\"></div>\n",
    "\n",
    "$$\n",
    "\\begin{equation}\n",
    "  k_1=hf(t_{i},y_i),\n",
    "\\label{_auto31} \\tag{7}\n",
    "\\end{equation}\n",
    "$$\n",
    "\n",
    "\n",
    "<!-- Equation labels as ordinary links -->\n",
    "<div id=\"_auto32\"></div>\n",
    "\n",
    "$$\n",
    "\\begin{equation}\n",
    "  k_2=hf(t_{i+1/2},y_i+k_1/2),\n",
    "\\label{_auto32} \\tag{8}\n",
    "\\end{equation}\n",
    "$$\n",
    "\n",
    "Com valor final:\n",
    "\n",
    "<!-- Equation labels as ordinary links -->\n",
    "<div id=\"_auto33\"></div>\n",
    "\n",
    "$$\n",
    "\\begin{equation} \n",
    "  y_{i+i}\\approx y_i + k_2 +O(h^3). \n",
    "\\label{_auto33} \\tag{9}\n",
    "\\end{equation}\n",
    "$$\n",
    "\n",
    "A diferença com o método de Euler é que agora precisamos calcular um passo intermediario na nossa avaliação da derivada $f$, $t_{i} + h/2 = t_{1+1/2}$.  Isto necessariamente requer mais operações, porem, há um ganho significativo na estabilidade das soluções."
   ]
  },
  {
   "cell_type": "markdown",
   "metadata": {},
   "source": [
    "### Runge-Kutta de 4a ordem\n",
    "\n",
    "Começamos novamente  com a equação:\n",
    "\n",
    "$$\n",
    "y_{i+1} = y_i + \\int_{t_1}^{t_{i+1}} f(t,y) dt\n",
    "$$\n",
    "\n",
    "Mas nao calculamos a integral calculando o ponto médio mas a formula de Simpson:\n",
    "\n",
    "$$\n",
    "\\int_{t_1}^{t_{i+1}} f(t,y) dt \\simeq \\frac{h}{6} \\left[ f(t_i,y_i) + 4 f(t_{i+1/2}, y_{i+1/2}) + f(t_{i+1},y_{i+1}) \\right] + {\\cal O}(h^5)\n",
    "$$\n",
    "\n",
    "Substituindo temos:\n",
    "\n",
    "$$\n",
    "y_{i+1} = y_i + \\frac{h}{6} \\left[ f(t_i,y_i) +  4 f(t_{i+1/2}, y_{i+1/2}) + f(t_{i+1},y_{i+1}) \\right] + {\\cal O}(h^5)\n",
    "$$\n",
    "\n",
    "De onde $y_{i+1/2}$ e $y_{i+1}$ são ainda desconhecidos. Podemos dividir a seguir a avaliação do ponto médio em dois passos:\n",
    "\n",
    "$$\n",
    "y_{i+1} = y_i + \\frac{h}{6} \\left[ f(t_i,y_i) + 2 f(t_{i+1/2}, y_{i+1/2}) + 2 f(t_{i+1/2}, y_{i+1/2}) + f(t_{i+1},y_{i+1}) \\right] + {\\cal O}(h^5)\n",
    "$$\n"
   ]
  },
  {
   "cell_type": "markdown",
   "metadata": {},
   "source": [
    "O algoritmo do método RK4 ficaria:\n",
    "\n",
    "* Computamos primeiro: $k_1 = h f(t_i,y_i)$ (parando aqui teriamos o metodo de Euler)\n",
    "* calculamos a inclinação no ponto médio usando o método de Euler:\n",
    "\n",
    "$$\n",
    "k_2 = h f(t_i+h/2, y_i+k_1/2).\n",
    "$$\n",
    "\n",
    "* A inclinação corrigida é usada para calcular a inclinação de $y_{i+1/2}$ calculando\n",
    "\n",
    "$$\n",
    "k_3 = h f(t_i+h/2, y_i+k_2/2).\n",
    "$$\n",
    "\n",
    "* Com a última inclinação podemos preveer o valar de $y_{i+1}$ usando\n",
    "\n",
    "$$\n",
    "k_4 = h f(t_i+h, y_i+k_3).\n",
    "$$\n",
    "\n",
    "A última conta é\n",
    "\n",
    "$$\n",
    "y_{i+1} = y_i + \\frac{1}{6}(k_1 + 2 k_2 + 2k_3 + k_4). \n",
    "$$\n",
    "\n",
    "\n",
    "Dessa forma, o algoritmo consiste em calcular inicialmente $k_1$ a partir de $t_1$, $y_1$ e $f$ como parametros de entrada. Então fazemos um incremento no passo por $h/2$ e calculamos $k_2$, $k_3$ e finalmente $k_4$.  O resultado é o valor da variável $y$ evoluida no tempo (ou no espaço).  Contrario ao metodo de Euler, onde evoluímos a variável em apenas um computo, e do método RK2, onde fazemos 2 calculos, o método RK4 requer 4 avaliações de $f$, logo é mais devagar. No entanto o método tem erro de truncamento que vai como ${\\cal O}(h^4)$.  A figura seguinte ajuda a entender de forma geométrica o método.\n"
   ]
  },
  {
   "cell_type": "markdown",
   "metadata": {},
   "source": [
    "<img src=\"Figs/rk10.png\" width=80% >"
   ]
  },
  {
   "cell_type": "code",
   "execution_count": 40,
   "metadata": {},
   "outputs": [],
   "source": [
    "import matplotlib.pylab as plt"
   ]
  },
  {
   "cell_type": "code",
   "execution_count": 121,
   "metadata": {},
   "outputs": [],
   "source": [
    "def rk4 ( t0, u0, dt, f ):\n",
    "    # Fazemos 4 avaliações da derivada\n",
    "    # cada avaliação chama a funçao f e a avalia em instantes de tempo\n",
    "    # avançados por h/2.\n",
    "    f1 = f ( t0,            u0 )\n",
    "    f2 = f ( t0 + dt / 2.0, u0 + dt * f1 / 2.0 )\n",
    "    f3 = f ( t0 + dt / 2.0, u0 + dt * f2 / 2.0 )\n",
    "    f4 = f ( t0 + dt,       u0 + dt * f3 )\n",
    "    u1 = u0 + dt * ( f1 + 2.0 * f2 + 2.0 * f3 + f4 ) / 6.0\n",
    "    return u1\n"
   ]
  },
  {
   "cell_type": "markdown",
   "metadata": {},
   "source": [
    "#### Test 1\n",
    "\n",
    "Vamos resolver a equação\n",
    "\n",
    "$$\n",
    "\\frac{dy(t)}{dt} = -k y(t)\n",
    "$$\n",
    "\n",
    "com $k=0.3$ e condição inicial, $y(0) = 5$.  O tempo máximo de evolução é $t=10$.  \n",
    "\n",
    "(Solução analítica: $y(t) = y(0) \\exp (-k t)$.)"
   ]
  },
  {
   "cell_type": "code",
   "execution_count": 112,
   "metadata": {},
   "outputs": [],
   "source": [
    "def rk4_test1 ( ):\n",
    "    import numpy as np\n",
    "    import platform\n",
    "    dt = 0.1\n",
    "    t0 = 0.0\n",
    "    tmax = 10.\n",
    "    u0 = 5.\n",
    "    t_num = int ( 2 + ( tmax - t0 ) / dt )\n",
    "    t = np.zeros ( t_num )\n",
    "    u = np.zeros ( t_num )\n",
    "    \n",
    "    i = 0\n",
    "    t[0] = t0\n",
    "    u[0] = u0\n",
    "    \n",
    "    while ( True ):\n",
    "        #print ( '  %4d  %14.6f  %14.6g' % ( i, t0, u0 ) )\n",
    "        if ( tmax <= t0 ):\n",
    "            break\n",
    "        t1 = t0 + dt\n",
    "        u1 = rk4 ( t0, u0, dt, rk4_test1_f )\n",
    "        i = i + 1\n",
    "        t[i] = t1\n",
    "        u[i] = u1\n",
    "        t0 = t1\n",
    "        u0 = u1\n",
    "    return t,u"
   ]
  },
  {
   "cell_type": "code",
   "execution_count": 113,
   "metadata": {},
   "outputs": [],
   "source": [
    "def rk4_test1_f ( t, u ):\n",
    "    import numpy as np\n",
    "    k = 0.3\n",
    "    value = -k *u \n",
    "    return value"
   ]
  },
  {
   "cell_type": "code",
   "execution_count": 114,
   "metadata": {},
   "outputs": [],
   "source": [
    "t,u = rk4_test1()"
   ]
  },
  {
   "cell_type": "code",
   "execution_count": 120,
   "metadata": {
    "scrolled": true
   },
   "outputs": [
    {
     "data": {
      "text/plain": [
       "Text(0, 0.5, 'y')"
      ]
     },
     "execution_count": 120,
     "metadata": {},
     "output_type": "execute_result"
    },
    {
     "data": {
      "image/png": "[encoded data removed]",
      "text/plain": [
       "<Figure size 432x288 with 1 Axes>"
      ]
     },
     "metadata": {
      "needs_background": "light"
     },
     "output_type": "display_data"
    }
   ],
   "source": [
    "plt.plot(t,u)\n",
    "plt.plot(t,5.*np.exp(-0.3*t),linestyle='--')\n",
    "plt.xlabel('t')\n",
    "plt.ylabel('y')"
   ]
  },
  {
   "cell_type": "markdown",
   "metadata": {},
   "source": [
    "#### Test 2\n",
    "\n",
    "Agora vamos resolver a equação \n",
    "\n",
    "$$\n",
    "5 \\frac{dy(t)}{dt} = - y(t) + V(t)\n",
    "$$\n",
    "\n",
    "Com a condição inical $y(0) = 1$.  O termo de forçamento, $V(t)$, muda de 0 a 2 quando $t=10$. \n"
   ]
  },
  {
   "cell_type": "code",
   "execution_count": 104,
   "metadata": {},
   "outputs": [],
   "source": [
    "def rk4_test2 ( ):\n",
    "    import numpy as np\n",
    "    import platform\n",
    "    \n",
    "    n = 1000\n",
    "    t = np.linspace(0.,40.,n)\n",
    "    print('shape = ',t.shape)\n",
    "    dt = t[1] - t[0]\n",
    "    \n",
    "    t0 = t[0]\n",
    "    tmax = t[-1]\n",
    "    \n",
    "    u = np.zeros_like( t )\n",
    "    u0 = 1.\n",
    "    \n",
    "    i = 0\n",
    "    t[0] = t0\n",
    "    u[0] = u0\n",
    "    \n",
    "    for i in range (n-1):\n",
    "        #print ( '  %4d  %14.6f  %14.6g' % ( i, t0, u0 ) )\n",
    "        t1 = t0 + dt\n",
    "        u1 = rk4 ( t0, u0, dt, rk4_test2_f )\n",
    "        i = i + 1\n",
    "        t[i] = t1\n",
    "        u[i] = u1\n",
    "        t0 = t1\n",
    "        u0 = u1\n",
    "    return t,u"
   ]
  },
  {
   "cell_type": "code",
   "execution_count": 105,
   "metadata": {},
   "outputs": [],
   "source": [
    "def rk4_test2_f ( t, u ):\n",
    "    import numpy as np\n",
    "    if t < 10.:\n",
    "        V = 0\n",
    "    else:\n",
    "        V = 2.\n",
    "        \n",
    "    value = (-u + V)/5.\n",
    "    return value"
   ]
  },
  {
   "cell_type": "code",
   "execution_count": 106,
   "metadata": {},
   "outputs": [
    {
     "name": "stdout",
     "output_type": "stream",
     "text": [
      "shape =  (1000,)\n"
     ]
    }
   ],
   "source": [
    "t1,u1 = rk4_test2()"
   ]
  },
  {
   "cell_type": "code",
   "execution_count": 111,
   "metadata": {
    "scrolled": true
   },
   "outputs": [
    {
     "data": {
      "text/plain": [
       "<matplotlib.legend.Legend at 0x7fb994286828>"
      ]
     },
     "execution_count": 111,
     "metadata": {},
     "output_type": "execute_result"
    },
    {
     "data": {
      "image/png": "[encoded data removed]",
      "text/plain": [
       "<Figure size 432x288 with 1 Axes>"
      ]
     },
     "metadata": {
      "needs_background": "light"
     },
     "output_type": "display_data"
    }
   ],
   "source": [
    "plt.plot(t1,u1,label='Output (y(t))')\n",
    "plt.plot([0,10,10,40],[0,0,2,2],'b-',label='Input (u(t))',c='r')\n",
    "plt.xlabel('t')\n",
    "plt.ylabel('y')\n",
    "plt.legend()"
   ]
  },
  {
   "cell_type": "markdown",
   "metadata": {},
   "source": [
    "Já que varias equações podem ser resolvidas simulataneamente, é comum utilizar\n",
    "criar um vetor ${\\bf y}$ para definir tais variáveis. Por exemplo\n",
    "\n",
    "$$\n",
    "x(t) = y^{(0)}(t)  \\;, \\; \\; \\; v(t) =  y^{(1)}(t)\n",
    "$$\n",
    "\n",
    "$$\n",
    "\\frac{y^{(0)}(t)}{dt} = y^{(2)}(t) \\;, \\; \\; \\; \\frac{y^{(1)}(t)}{dt}  =  -\\frac{k}{m} y^{(0)}(t)\\;.\n",
    "$$\n",
    "\n",
    "Para que o sistema de equações seja bem determinado, precisamos, para o exemplo anterior,\n",
    "conhecer as condiçoes iniciais $y^{(0)}(0)$  e $y^{(1)}(0)$.  Quando as equaçoes não\n",
    "evoluem no tempo mas queremos determinar a distribuição no espaço de uma determinada quantidade,  precisamos condiçoes de contorno.\n"
   ]
  },
  {
   "cell_type": "code",
   "execution_count": null,
   "metadata": {},
   "outputs": [],
   "source": []
  }
 ],
 "metadata": {
  "kernelspec": {
   "display_name": "Python 3 (ipykernel)",
   "language": "python",
   "name": "python3"
  },
  "language_info": {
   "codemirror_mode": {
    "name": "ipython",
    "version": 3
   },
   "file_extension": ".py",
   "mimetype": "text/x-python",
   "name": "python",
   "nbconvert_exporter": "python",
   "pygments_lexer": "ipython3",
   "version": "3.9.12"
  }
 },
 "nbformat": 4,
 "nbformat_minor": 2
}
