{
 "cells": [
  {
   "cell_type": "markdown",
   "metadata": {},
   "source": [
    "## Redes neurais e aprendizado de máquina\n",
    "\n",
    "Nossa aula baseiase no livro online: [Neural Networks and Deep Learning](http://neuralnetworksanddeeplearning.com/index.html) de Michael Nilsen.\n",
    "\n",
    "Vamos a aprender os conceitos de redes neurais e aprendizado de máquina enquanto \n",
    "usamos um algoritmo para reconhecer números escritos a mao. \n",
    "\n",
    "<img src=\"Figs/digits.png\" width=40% >\n",
    "\n",
    "Seguiremos as minhas [notas de aula](./redes_neurais.pdf). \n",
    "\n",
    "O código e os dados podem ser baixados da conta de github de [Michal Daniel Dobrzanski](https://github.com/MichalDanielDobrzanski/DeepLearningPython35).\n",
    "\n",
    "Abaixo usamos o codigo para reconhecer numeros da base de dados MNIST.\n"
   ]
  },
  {
   "cell_type": "code",
   "execution_count": 1,
   "metadata": {},
   "outputs": [],
   "source": [
    "import os"
   ]
  },
  {
   "cell_type": "code",
   "execution_count": 2,
   "metadata": {},
   "outputs": [],
   "source": [
    "os.chdir('./deep-learning-python-3.5-master/NN_Nielsen/')"
   ]
  },
  {
   "cell_type": "code",
   "execution_count": 3,
   "metadata": {},
   "outputs": [],
   "source": [
    "# Importamos o modulo para ler os dados que se encontram\n",
    "# no arquivo mnist.pkl.gz\n",
    "\n",
    "import mnist_loader"
   ]
  },
  {
   "cell_type": "code",
   "execution_count": 15,
   "metadata": {},
   "outputs": [],
   "source": [
    "# Agora lemos os dados\n",
    "\n",
    "training_data, validation_data, test_data =  mnist_loader.load_data_wrapper()"
   ]
  },
  {
   "cell_type": "code",
   "execution_count": 16,
   "metadata": {},
   "outputs": [],
   "source": [
    "td = list(training_data)"
   ]
  },
  {
   "cell_type": "code",
   "execution_count": 29,
   "metadata": {},
   "outputs": [],
   "source": [
    "import matplotlib.pyplot as plt\n",
    "numero = (td[-1][0])"
   ]
  },
  {
   "cell_type": "code",
   "execution_count": 30,
   "metadata": {},
   "outputs": [
    {
     "data": {
      "text/plain": [
       "784"
      ]
     },
     "execution_count": 30,
     "metadata": {},
     "output_type": "execute_result"
    }
   ],
   "source": [
    "len(numero)"
   ]
  },
  {
   "cell_type": "code",
   "execution_count": 5,
   "metadata": {},
   "outputs": [],
   "source": [
    "# Importamos o modulo da rede neural\n",
    "\n",
    "import network"
   ]
  },
  {
   "cell_type": "code",
   "execution_count": 6,
   "metadata": {},
   "outputs": [],
   "source": [
    "# A classe network cria uma rede com 3 camadas\n",
    "# a primeira tem as informações de cada digito: 784 bits\n",
    "# a segunda o tamanho da camada oculta: para o caso usamos só 10 neuronios\n",
    "# a terceira tem o tamanho da saida: sao 10 neuronios pois os numeros vao de 0 a 9\n",
    "\n",
    "net = network.Network([784, 10, 10])"
   ]
  },
  {
   "cell_type": "code",
   "execution_count": 7,
   "metadata": {},
   "outputs": [
    {
     "name": "stdout",
     "output_type": "stream",
     "text": [
      "Epoch 0 : 8668 / 10000\n",
      "Epoch 1 : 8859 / 10000\n",
      "Epoch 2 : 8909 / 10000\n",
      "Epoch 3 : 8982 / 10000\n",
      "Epoch 4 : 8956 / 10000\n",
      "Epoch 5 : 8957 / 10000\n",
      "Epoch 6 : 9046 / 10000\n",
      "Epoch 7 : 9057 / 10000\n",
      "Epoch 8 : 9090 / 10000\n",
      "Epoch 9 : 9095 / 10000\n",
      "Epoch 10 : 9099 / 10000\n",
      "Epoch 11 : 9077 / 10000\n",
      "Epoch 12 : 9093 / 10000\n",
      "Epoch 13 : 9078 / 10000\n",
      "Epoch 14 : 9139 / 10000\n",
      "Epoch 15 : 9131 / 10000\n",
      "Epoch 16 : 9111 / 10000\n",
      "Epoch 17 : 9143 / 10000\n",
      "Epoch 18 : 9092 / 10000\n",
      "Epoch 19 : 9146 / 10000\n",
      "Epoch 20 : 9131 / 10000\n",
      "Epoch 21 : 9164 / 10000\n",
      "Epoch 22 : 9168 / 10000\n",
      "Epoch 23 : 9162 / 10000\n",
      "Epoch 24 : 9074 / 10000\n",
      "Epoch 25 : 9119 / 10000\n",
      "Epoch 26 : 9172 / 10000\n",
      "Epoch 27 : 9174 / 10000\n",
      "Epoch 28 : 9164 / 10000\n",
      "Epoch 29 : 9169 / 10000\n"
     ]
    }
   ],
   "source": [
    "# Com essa rede criada, agora treinamos e testamos a rede\n",
    "# vamos ter 30 epocas, cada época vai considerar 10 numeros\n",
    "# a taxa de aprendizado é 3\n",
    "\n",
    "net.SGD(training_data, 30, 10, 3.0, test_data=test_data)"
   ]
  },
  {
   "cell_type": "code",
   "execution_count": null,
   "metadata": {},
   "outputs": [],
   "source": []
  }
 ],
 "metadata": {
  "kernelspec": {
   "display_name": "Python 3 (ipykernel)",
   "language": "python",
   "name": "python3"
  },
  "language_info": {
   "codemirror_mode": {
    "name": "ipython",
    "version": 3
   },
   "file_extension": ".py",
   "mimetype": "text/x-python",
   "name": "python",
   "nbconvert_exporter": "python",
   "pygments_lexer": "ipython3",
   "version": "3.9.13"
  }
 },
 "nbformat": 4,
 "nbformat_minor": 4
}
