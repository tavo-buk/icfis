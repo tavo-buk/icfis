{
 "cells": [
  {
   "cell_type": "markdown",
   "metadata": {},
   "source": [
    "## b) Interpolação por trazadores cúbicos (*cubic splines*)\n",
    "\n",
    "\n",
    "Permite encontrar valores intermediarios em um conjunto de dados usando polinomios cubicos.\n",
    "\n",
    "Assuma que temos $n+1$ pontos, $x_0, x_1,..., x_n$, tal que $x_0 < x_1 <...<  x_n$.\n",
    "\n",
    "Uma função *spline*, $s$ de ordem $k$, com $n+1$ pontos é definida como:  \n",
    "\n",
    "* Em cada sub-intervalo $[ x_{i-1}, x_i )$, $s$ é um polinomio de grau $k$.\n",
    "\n",
    "* $s$ têm $k-1$ derivadas continuas no intervalo total $[x_{0}, x_n]$.\n",
    "\n",
    "\n",
    "A função *spline* mais comum é aquela com $k=3$, ou *spline* cúbico.\n",
    "\n",
    "Se alem dos $n+1$  pontos temos os valores da função $y_0 = f(x_0), y_1 = f(x_1), ..., y_n = f(x_n)$.\n",
    "Por definição, os polinomios devem interpolar o mesmo ponto:\n",
    "\n",
    "$$\n",
    "s_{i-1}(x_i) = y_i = s_i(x_i) \\;,\n",
    "$$\n",
    "\n",
    "Com $0\\le i \\le n-1$. No total temos $n$ polinomios do tipo:\n",
    "\n",
    "$$\n",
    "s_{i}(x) = a_{i0} + a_{i1}x + a_{i2} x^2 + a_{i3} x^3 \\;,\n",
    "$$\n",
    "\n",
    "o que implica que teremos ${\\bf 4n}$ coeficientes para determinar. Cada sub-intervalo possui duas\n",
    "condições:\n",
    "\n",
    "$$\n",
    "y_i = s(x_i) \\; \\;{\\rm e} \\; \\;   y_{i+1} = s(x_{i+1}) \\;,\n",
    "$$\n",
    "\n",
    "que devem ser satisfeitas. Daqui temos $2n$ condições.\n",
    "\n",
    "Já que $s'$ e $s''$ são continuas, temos:\n",
    "\n",
    "$$\n",
    "s'_{i-1}(x_i) = s'_i(x_i) \\;\\;, {\\rm e }\\;\\; s''_{i-1}(x_i) = s''_i(x_i)\n",
    "$$\n",
    "\n",
    "proporcionando $n-1$ e $n-1$ condições, respetivamente. No total temos $4n$ coeficientes\n",
    "e $4n-2$ equações, precisamos ainda determinar $2$ graus de liberdade.\n",
    "\n",
    "Partindo da ultima equação definimos dois valores para a segunda derivada:\n",
    "\n",
    "$$\n",
    "s''_{i}(x_i) = f_i \\;\\;, {\\rm e }\\;\\; s''_{i}(x_{i+1}) = f_{i+1}\n",
    "$$\n",
    "\n",
    "\n",
    "Uma linha reta entre os pontos $f_i$ e $f_{i+1}$ é:\n",
    "\n",
    "$$\n",
    "s''_{i}(x) = \\frac{f_i}{x_{i+1} - x_i}(x_{i+1} - x) + \\frac{f_{i+1}}{x_{i+1} - x_i}(x - x_i)\n",
    "$$\n",
    "\n",
    "e integrando duas vezes temos:\n",
    "\n",
    "$$\n",
    "s_i(x) = \\frac{f_i}{6(x_{i+1}-x_i)}(x_{i+1}-x)^3+\n",
    "               \\frac{f_{i+1}}{6(x_{i+1}-x_i)}(x-x_i)^3\n",
    "             +c(x-x_i)+d(x_{i+1}-x).\n",
    "$$\n",
    "\n",
    "Usando as condições  $s_i(x_i)=y_i$ e $s_i(x_{i+1})=y_{i+1}$ \n",
    "podemos de fato determinar as constantes $c$ e $d$ o que resulta em\n",
    "\n",
    "\n",
    "\\begin{eqnarray} \n",
    "s_i(x) &=& \\frac{f_i}{6(x_{i+1}-x_i)}(x_{i+1}-x)^3+\n",
    "               \\frac{f_{i+1}}{6(x_{i+1}-x_i)}(x-x_i)^3 \\\\\\nonumber\n",
    "       &+& (\\frac{y_{i+1}}{x_{i+1}-x_i}-\\frac{f_{i+1}(x_{i+1}-x_i)}{6})\n",
    "              (x-x_i)+\n",
    "             (\\frac{y_{i}}{x_{i+1}-x_i}-\\frac{f_{i}(x_{i+1}-x_i)}{6})\n",
    "             (x_{i+1}-x).\n",
    "\\end{eqnarray}\n",
    "\n",
    "Mas como determinamos as segundas derivadas $f_i$ e $f_{i+1}$? Usando a condição de continuidade para\n",
    "a primeira derivada:\n",
    "\n",
    "$$\n",
    "s'_{i-1}(x_i) = s'_i(x_i) \\;\\;,\n",
    "$$\n",
    "\n",
    "e fazendo $x=x_i$.  Definindo $h = x_{i+1} - x_i$, obtemos a seguinte expressão:\n",
    "\n",
    "$$\n",
    "h_{i-1}f_{i-1}+2(h_{i}+h_{i-1})f_i+h_if_{i+1}=\n",
    "   \\frac{6}{h_i}(y_{i+1}-y_i)-\\frac{6}{h_{i-1}}(y_{i}-y_{i-1}),\n",
    "$$\n",
    "\n",
    "Finalmente fazemos a mudança de viriável: $u_i = 2(h_i + h_{i-1})$,\n",
    "$\\nu_i = \\frac{6}{h_i} (y_{i+1} - y_i) - \\frac{6}{h_{i-1}} (y_i - y_{i-1})$,\n",
    "podemos re-escrever o problema como um conjunto de equações que pode ser resolvido usando\n",
    "algebra matricial. Para o caso, pela forma da matriz precisamos de um algoritmo que\n",
    "resolva matrizes tridiagonais.\n",
    "\n",
    "$$\n",
    "\\begin{bmatrix} u_1 & h_1 &0 &\\dots & & & & \\\\\n",
    "                                 h_1 & u_2 & h_2 &0 &\\dots & & & \\\\\n",
    "                                  0   & h_2 & u_3 & h_3 &0 &\\dots & & \\\\\n",
    "                               \\dots& & \\dots &\\dots &\\dots &\\dots &\\dots & \\\\\n",
    "                                 &\\dots & & &0 &h_{n-3} &u_{n-2} &h_{n-2} \\\\\n",
    "                                 & && & &0 &h_{n-2} &u_{n-1} \\end{bmatrix}\n",
    "   \\begin{bmatrix} f_1 \\\\ \n",
    "                          f_2 \\\\\n",
    "                          f_3\\\\\n",
    "                          \\dots \\\\\n",
    "                          f_{n-2} \\\\ \n",
    "                          f_{n-1} \\end{bmatrix} =\n",
    "   \\begin{bmatrix} v_1 \\\\ \n",
    "                          v_2 \\\\\n",
    "                          v_3\\\\\n",
    "                          \\dots \\\\\n",
    "                          v_{n-2}\\\\\n",
    "                          v_{n-1} \\end{bmatrix}.\n",
    "$$\n",
    "\n",
    "Essa matriz resolve um sistema tridiagonal de equações, ou seja, so as 3 diagonais principais tem elementos. Esse sistema pode ser resolvido por substituição. Como sistemas desse tipo aparecem com frequência em problemas numéricos, existem rotinas sofisticadas para resolve-los. \n",
    "\n",
    "Uma vez encontradas as segundas derivadas, $f_i$, encontramos os $n$ polinomios substituindo as segundas derivadas na equação para $s_i(x)$.\n"
   ]
  },
  {
   "cell_type": "markdown",
   "metadata": {},
   "source": [
    "## Interpolação com `python.scipy`\n",
    "\n",
    "A biblioteca `scipy` é uma coleção muito completa de rotinas e funções comumente usados na computação científica. Nela podem se encontrar várias formas de fazer interpolação de splines. \n",
    "\n",
    "A mais simples é a função `interp1d`. \n",
    "\n",
    "* Baseada nos pontos conhecidos, `interp1d`  cria uma função que pode ser avaliada em qualquer ponto dentro do intervalo dos valores conhecidos de $x$. \n",
    "\n",
    "* Os pontos de *boundary* podem ser considerados \n",
    "\n",
    "* A ordem de interpolação também é determinada como parâmetro\n",
    "\n"
   ]
  },
  {
   "cell_type": "code",
   "execution_count": 1,
   "metadata": {
    "collapsed": true
   },
   "outputs": [],
   "source": [
    "import numpy as np\n",
    "import matplotlib.pylab as plt\n",
    "from scipy.interpolate import interp1d\n",
    "%matplotlib inline"
   ]
  },
  {
   "cell_type": "code",
   "execution_count": 2,
   "metadata": {
    "collapsed": true
   },
   "outputs": [],
   "source": [
    "# definimos os pontos\n",
    "x = np.linspace(0, 10, num=8, endpoint=True)\n",
    "y = np.cos(-x**2/9.0)\n",
    "\n",
    "# Generamos a função para interpolação com splines lineares\n",
    "f1 = interp1d(x, y)\n",
    "f3 = interp1d(x, y, kind='cubic')"
   ]
  },
  {
   "cell_type": "code",
   "execution_count": 7,
   "metadata": {},
   "outputs": [
    {
     "data": {
      "text/plain": [
       "<matplotlib.legend.Legend at 0x7f77a1a09c88>"
      ]
     },
     "execution_count": 7,
     "metadata": {},
     "output_type": "execute_result"
    },
    {
     "data": {
      "image/png": "[encoded data removed]",
      "text/plain": [
       "<Figure size 432x288 with 1 Axes>"
      ]
     },
     "metadata": {},
     "output_type": "display_data"
    }
   ],
   "source": [
    "# vamos determinar valores de x no mesmo intervalo, porem em\n",
    "# pontos intermediarios\n",
    "\n",
    "xnovo = np.linspace(0,10,64)\n",
    "\n",
    "# Agora podemos graficar\n",
    "plt.plot(x,y,'o', label='pontos')\n",
    "plt.plot(xnovo,f1(xnovo),label='linear',lw=3)\n",
    "plt.plot(xnovo,f3(xnovo),label='cubic',lw=3)\n",
    "plt.legend(loc=3)"
   ]
  },
  {
   "cell_type": "markdown",
   "metadata": {},
   "source": [
    "## Interpolação com splines, usando `splrep`\n",
    "\n",
    "A interpolação com trazadores, *splines* requer dois passos,\n",
    "\n",
    "1. Uma representação da curva com `splines`\n",
    "2. os `splines` são avaliados em qualquer ponto arbitrario\n",
    "\n",
    "A função `splrep` calcula a representação dos splines a saida é uma tupla que tem $(t,c,k)$, $t$ são so pontos,\n",
    "$c$ são os coeficientes, e $k$ a ordem.  O parâmetro $s$ especifica quanto a curva vai ser suavizada. O valor padrão de s é $m - \\sqrt{(2m)}$, onde $m$ é o número de pontos sendo ajustados. \n",
    "\n",
    "**Para não suavizar a curva devemos usar então $s=0$**."
   ]
  },
  {
   "cell_type": "code",
   "execution_count": 11,
   "metadata": {
    "collapsed": true
   },
   "outputs": [],
   "source": [
    "from scipy import interpolate"
   ]
  },
  {
   "cell_type": "code",
   "execution_count": 12,
   "metadata": {
    "collapsed": true
   },
   "outputs": [],
   "source": [
    "# A função splrep calcula a representação dos splines\n",
    "# a saida é uma tupla que tem (t,c,k), t são so pontos \n",
    "# c são os coeficientes, e k a ordem\n",
    "\n",
    "tck = interpolate.splrep(x, y, s=0)"
   ]
  },
  {
   "cell_type": "markdown",
   "metadata": {},
   "source": [
    "Uma vez que a representação em *splines* foi determinada, podemos calcular pontos interpolados usando a função `splev`."
   ]
  },
  {
   "cell_type": "code",
   "execution_count": 17,
   "metadata": {},
   "outputs": [
    {
     "data": {
      "text/plain": [
       "3"
      ]
     },
     "execution_count": 17,
     "metadata": {},
     "output_type": "execute_result"
    }
   ],
   "source": [
    "tck[2]"
   ]
  },
  {
   "cell_type": "code",
   "execution_count": 18,
   "metadata": {
    "collapsed": true
   },
   "outputs": [],
   "source": [
    "# A função receve como parâmetros os novos valores de x\n",
    "# uma tupla representando os splines, para o caso tck\n",
    "# der é a ordem da derivada qu quer ser produzida, \n",
    "# der=0: função\n",
    "# der=1: 1a derivada\n",
    "\n",
    "ycs = interpolate.splev(xnovo, tck, der=0)\n",
    "ycs_1der = interpolate.splev(xnovo, tck, der=1)\n",
    "ycs_2der = interpolate.splev(xnovo, tck, der=2)"
   ]
  },
  {
   "cell_type": "code",
   "execution_count": 19,
   "metadata": {},
   "outputs": [
    {
     "data": {
      "text/plain": [
       "<matplotlib.legend.Legend at 0x7f77a198ef60>"
      ]
     },
     "execution_count": 19,
     "metadata": {},
     "output_type": "execute_result"
    },
    {
     "data": {
      "image/png": "[encoded data removed]",
      "text/plain": [
       "<Figure size 432x288 with 1 Axes>"
      ]
     },
     "metadata": {},
     "output_type": "display_data"
    }
   ],
   "source": [
    "# Agora podemos graficar\n",
    "plt.plot(x,y,'o', label='pontos')\n",
    "plt.plot(xnovo,ycs,label='cubic-splines',lw=2)\n",
    "plt.plot(xnovo,ycs_1der,label='1a derivada',lw=2)\n",
    "plt.plot(xnovo,ycs_2der,label='2a derivada',lw=2)\n",
    "plt.legend(loc=2,ncol=2)"
   ]
  },
  {
   "cell_type": "markdown",
   "metadata": {},
   "source": [
    "## Atividade\n",
    "\n",
    "1. Vamos interpolar a função de Runge, $f(x) = \\frac{1}{1+25x^2}$, num conjunto de $n$ nós regularmente espaçados\n",
    "\n",
    "$$\n",
    "x_k =  \\frac{2k}{n} - 1, \\; \\; k = 0,1,2, \\ldots , n\n",
    "$$\n",
    "\n",
    "a. Considere $n=4$ e calcule os polinomios de intepolação de Lagrange $P_N (x)$ para 41 pontos regularmente espaçados.\n",
    "\n",
    "b. Calcule o erro específico no cálculo usando $\\epsilon = \\frac{f(x) - P_N(x)}{f(x)}$. \n",
    "\n",
    "c. Aumente o número de pontos conhecidos de 4 para 6, para 8 e finalmente para 11, descreva o resultado.  Aumentar o número de pontos melhora o resultado?\n",
    "\n",
    "d. Agora utilize *splines* cúbicos e calcule o polinomio de interpolação $S(x)$ para 41 pontos regularmente espaçados. Os pontos conhecidos iniciais são  4 tal como no ponto 1. Repita para 6 e para 8 pontos igualmente espaçados. \n",
    "\n",
    "e. Calcule o erro, $\\epsilon = \\frac{f(x) - S(x)}{f(x)}$. O aumento de número de pontos conhecidos melhora a interpolação?\n",
    "\n",
    "f. Pode disser alguma coisa sobre qual método é melhor para interpolar a função de Runge? (pesquise rapidamente e descreva o problema com a interpolaçao polinomial para a função Runge)."
   ]
  },
  {
   "cell_type": "markdown",
   "metadata": {
    "collapsed": true
   },
   "source": [
    "2. **Equação de Lagrange**\n",
    "\n",
    "\n",
    "a.  Escreva um algoritmo para interpolação polinomial usando a equação de Lagrange. \n",
    "\n",
    "b.  Considere quatro pontos internos entre 0 e 1 da função $\\exp(x^2)$. Usando esses pontos realize a interpolação para 32 pontos internos. \n",
    "\n",
    "c.  Realize a mesma interpolação utilizando o algoritmo de Leville. \n",
    "\n",
    "d.  Compare o erro relativo para os dois métodos no ponto $x=0.5$.\n"
   ]
  },
  {
   "cell_type": "code",
   "execution_count": null,
   "metadata": {},
   "outputs": [],
   "source": []
  }
 ],
 "metadata": {
  "kernelspec": {
   "display_name": "Python 3 (ipykernel)",
   "language": "python",
   "name": "python3"
  },
  "language_info": {
   "codemirror_mode": {
    "name": "ipython",
    "version": 3
   },
   "file_extension": ".py",
   "mimetype": "text/x-python",
   "name": "python",
   "nbconvert_exporter": "python",
   "pygments_lexer": "ipython3",
   "version": "3.9.12"
  }
 },
 "nbformat": 4,
 "nbformat_minor": 2
}
