{
 "cells": [
  {
   "cell_type": "markdown",
   "metadata": {},
   "source": [
    "## Regresão Linear\n",
    "\n",
    "\n",
    "Quando queremos representar dados experimentais, observacionais ou estatisticos utilizando uma forma matemática devemos recorrer aos métodos de ajustes de curva.  A regressão linear é o procedimento mais simples, pois, como o nome indica, iremos ajustar os dados a uma linha reta. Assim, para um conjunto de pontos \n",
    "\n",
    "$$\n",
    "{\\rm dados} = \\left[(x_0,y_0),(x_1,y_1),\\ldots,(x_n,y_n)\\right],\n",
    "$$\n",
    "\n",
    "vamos encontrar a função\n",
    "\n",
    "$$\n",
    "y = f(x) = a_0 +a_1 x\n",
    "$$\n",
    "\n",
    "que melhor ajuste nossos dados. \n",
    "\n",
    "O método mais comúm é o método so mínimos quadrados, vejamos de que se trata. \n",
    "\n",
    "<img src=\"Figs/ajuste.png\" width=50% >\n",
    "\n",
    "Como se ve na figura, para cada ponto no eixo horizontal, $x_i$, existe um erro entre o ponto $y_i$ e a função $f(x_i)$ correspondente. A somatoria desse erro está dado por\n",
    "\n",
    "$$\n",
    "E_c = \\sum_{i=1}^n (y_i-f(x_i))^2\n",
    "$$\n",
    "\n",
    "O ajuste de minimos quadrados tenta minimizar a soma dos quadrados dos residuos, $E_c$, que para o caso vai se uma função de $a_0$ e de $a_1$,\n",
    "\n",
    "$$\n",
    "E_c(a_0,a_1) = \\sum_{i=1}^n (y_i-a_0-a_1 x_i)^2\n",
    "$$\n",
    "\n",
    "Como é de nosso interesse minimizar o valor de $E_c$ escolhendo os melhores valores de $a_0$ e $a_1$, podemos considerar a condição matemática para encontrar um mínimo com respeito a uma ou várias variáveis:\n",
    "\n",
    "$$\n",
    "\\nabla E_c(a_0,a_1) = \\left(\\frac{\\partial E_c}{\\partial a_0},\\frac{\\partial E_c}{\\partial a_1}\\right) = (0,0)\n",
    "$$\n",
    "\n",
    "Lembremos que a derivada de uma função qualquer com respeito a uma variável independente é nula no ponto mínimo.  O procedimento apresentado no quadro leva finalmente ao sistema de equações:  \n",
    "\n",
    "$$\n",
    "\\begin{bmatrix} (n) & \\sum x_i \\\\ \\sum x_i & \\sum x_i^2 \\end{bmatrix}\\begin{bmatrix} a_0 \\\\ a_1 \\end{bmatrix} = \\begin{bmatrix} \\sum y_i \\\\ \\sum x_i y_i \\end{bmatrix},\n",
    "$$\n",
    "\n",
    "onde todas as sumatorias vão de $1$ a $n$, correspondente ao número de pontos amostrados. \n",
    "\n",
    "O resultado final é:\n",
    "\n",
    "$$\n",
    "\\begin{equation}\n",
    "    \\begin{bmatrix}a_0 \\\\ a_1 \\end{bmatrix} = \n",
    "        \\begin{bmatrix} \n",
    "        \\frac{\\sum y_i \\sum x_i^2 - \\sum x_i \\sum x_i y_i}\n",
    "        {n \\sum x_i^2 - \\left(\\sum x_i \\right)^2} \\\\ \n",
    "        \\frac{n \\sum x_i y_i - \\sum x_i \\sum y_i}\n",
    "        {n \\sum x_i^2 - \\left(\\sum x_i \\right)^2} \n",
    "    \\end{bmatrix}\n",
    "\\end{equation}\n",
    "$$\n",
    "\n",
    "### Coeficiente de correlação\n",
    "\n",
    "Para estimarmos a qualidade do ajuste realizado, podemos estimar o coeficiente de determinação $R^2$. Para tal, precisamos da soma do quadrado dos resíduais, \n",
    "\n",
    "$$\n",
    "SS_{\\rm res} = \\sum (y_i - f(x_i))^2 \n",
    "$$\n",
    "\n",
    "e a soma total dos quadrados,\n",
    "\n",
    "$$\n",
    "SS_{\\rm tot} = \\sum (y_i - \\overline{y})^2,\n",
    "$$\n",
    "\n",
    "\n",
    "onde $\\overline{y}$ é a media dos valores medidos:\n",
    "\n",
    "$$\n",
    "\\overline{y} = \\frac{\\sum y_i}{n} \n",
    "$$\n",
    "\n",
    "\n",
    "O coeficiente de determinação é então definido como:\n",
    "\n",
    "$$\n",
    "  R^2 = 1 - \\frac{SS_{\\rm res}}{SS_{\\rm tot}}\n",
    "$$\n",
    "\n",
    "No melhor dos casos $SS_{\\rm res}=0$, logo $R^2 = 1$.  Um modelo que apenas prevee a média, $\\overline{y}$,  terá $R^2 = 0$. \n",
    "\n",
    "<img src=\"Figs/correlation-coefficient.png\" width=70% >\n",
    "\n",
    "Seguem abaixo funções para obter os valores $a_0$ e $a_1$ do ajuste linear, assim como $R^2$. "
   ]
  },
  {
   "cell_type": "code",
   "execution_count": 1,
   "metadata": {},
   "outputs": [],
   "source": [
    "# importamos as bibliotecas necessarias\n",
    "import numpy as np\n",
    "import matplotlib.pylab as plt\n",
    "%matplotlib inline"
   ]
  },
  {
   "cell_type": "code",
   "execution_count": 2,
   "metadata": {},
   "outputs": [],
   "source": [
    "# Esta função calcula todas as somas para calcular a0, a1 e R2\n",
    "# \n",
    "def sums(dados):\n",
    "    [X,Y,XX,YY,XY] = [0.0,0.0,0.0,0.0,0.0]\n",
    "    for p in dados:\n",
    "        X += p[0]\n",
    "        Y += p[1]\n",
    "        XX += pow(p[0],2.0)\n",
    "        YY += pow(p[1],2.0)\n",
    "        XY += p[0]*p[1]\n",
    "    return [X,Y,XX,YY,XY]"
   ]
  },
  {
   "cell_type": "code",
   "execution_count": 12,
   "metadata": {},
   "outputs": [],
   "source": [
    "# função que calcula os coeficientes para o ajuste\n",
    "# linear de mínimos quadrados\n",
    "\n",
    "def linear_lsf(dados,**args):\n",
    "    [X,Y,XX,YY,XY] = sums(dados)\n",
    "    m = len(dados)\n",
    "    a0 = (Y*XX-X*XY)/(m*XX-X*X)\n",
    "    a1 = (m*XY-X*Y)/(m*XX-X*X)    \n",
    "    return a0,a1\n",
    "\n",
    "def linear_f(x):\n",
    "    a0,a1 = linear_lsf(dados)\n",
    "    return a0+a1*x\n",
    "\n",
    "\n",
    "def R2(dados):\n",
    "    SSr = 0.\n",
    "    SSt = 0.\n",
    "    [X,Y,XX,YY,XY] = sums(dados)\n",
    "    m = len(dados)\n",
    "    ymean = Y/m\n",
    "    a0, a1 = linear_lsf(dados)\n",
    "    for p in dados:\n",
    "        SSr += (p[1] - (a0+a1*p[0]))**2\n",
    "        SSt += (p[1] - ymean)**2\n",
    "    return 1.-SSr/SSt"
   ]
  },
  {
   "cell_type": "code",
   "execution_count": 13,
   "metadata": {},
   "outputs": [
    {
     "name": "stdout",
     "output_type": "stream",
     "text": [
      "a_0 =  -0.18333333333333332\n",
      "a_1 =  1.4899999999999998\n",
      "R^2 =  0.9864188388625592\n"
     ]
    }
   ],
   "source": [
    "# Conjunto de dados para exemplo \n",
    "\n",
    "dados = [(1.0, 1.3), (2.0, 3.5), (3.0, 4.2), (4.0, 5.0), (5.0, 7.0),(6.0, 8.8), (7.0, 10.1), (8.0, 12.5), (9.0, 13.0)]\n",
    "a0, a1 = linear_lsf(dados)\n",
    "r2  = R2(dados) # coeficiente de correlacao\n",
    "\n",
    "print('a_0 = ', a0)\n",
    "print('a_1 = ', a1)\n",
    "print('R^2 = ', r2)\n",
    "x = np.linspace(-2,9,100)\n",
    "y = linear_f(x) # modelo lineal"
   ]
  },
  {
   "cell_type": "code",
   "execution_count": 14,
   "metadata": {},
   "outputs": [
    {
     "data": {
      "image/png": "[encoded data removed]",
      "text/plain": [
       "<Figure size 432x288 with 1 Axes>"
      ]
     },
     "metadata": {
      "needs_background": "light"
     },
     "output_type": "display_data"
    }
   ],
   "source": [
    "# Graficamos o resultado\n",
    "plt.text(0,12,r'$R^2$ = '+str(r2))\n",
    "plt.text(0,10,r'$a_0$ = '+str(a0))\n",
    "plt.text(0,7.5,r'$a_1$ = '+ str(a1))\n",
    "plt.plot(x,y,'k')\n",
    "for p in dados:\n",
    "    plt.scatter(p[0],p[1],c='r')\n",
    "plt.grid(True)"
   ]
  },
  {
   "cell_type": "markdown",
   "metadata": {},
   "source": [
    "### Verificação do calculo de $R^2$\n",
    "\n",
    "Vamos degradar os nossos dados para comparar o coeficiente de correlação de um ajuste bom com um ajuste ruim. Para isso utilizamos um ruido randomico"
   ]
  },
  {
   "cell_type": "code",
   "execution_count": 26,
   "metadata": {
    "collapsed": true
   },
   "outputs": [],
   "source": [
    "m = len(dados)\n",
    "amp = 1.5\n",
    "ruido = np.random.normal(0,amp,m)\n",
    "dados_com_ruido = []\n",
    "for i,p in enumerate(dados):\n",
    "    dados_com_ruido.append((p[0],p[1]+ruido[i]))"
   ]
  },
  {
   "cell_type": "code",
   "execution_count": 27,
   "metadata": {},
   "outputs": [
    {
     "data": {
      "text/plain": [
       "[(1.0, 2.571748896657521),\n",
       " (2.0, 4.9579215592710142),\n",
       " (3.0, 4.5717523873135875),\n",
       " (4.0, 4.8603330304825878),\n",
       " (5.0, 7.718582377182722),\n",
       " (6.0, 10.847152461323802),\n",
       " (7.0, 11.634294905262085),\n",
       " (8.0, 16.592281449000161),\n",
       " (9.0, 14.56950612992555)]"
      ]
     },
     "execution_count": 27,
     "metadata": {},
     "output_type": "execute_result"
    }
   ],
   "source": [
    "dados_com_ruido"
   ]
  },
  {
   "cell_type": "code",
   "execution_count": 28,
   "metadata": {},
   "outputs": [
    {
     "name": "stdout",
     "output_type": "stream",
     "text": [
      "('a_0 = ', 0.11878482163007936)\n",
      "('a_1 = ', 1.7167668844832944)\n",
      "('R^2 = ', 0.95408639445512311)\n"
     ]
    }
   ],
   "source": [
    "# Calculamos novamente o ajuste para os dados com ruido\n",
    "a0, a1 = linear_lsf(dados_com_ruido)\n",
    "r2 = R2(dados_com_ruido) # coeficiente de correlacao\n",
    "print('a_0 = ', a0)\n",
    "print('a_1 = ', a1)\n",
    "print('R^2 = ', r2)\n",
    "x = np.linspace(-2,9,100)\n",
    "y = linear_f(x) # modelo lineal"
   ]
  },
  {
   "cell_type": "code",
   "execution_count": 29,
   "metadata": {},
   "outputs": [
    {
     "data": {
      "image/png": "[encoded data removed]",
      "text/plain": [
       "<matplotlib.figure.Figure at 0x7fd8dd6b6d10>"
      ]
     },
     "metadata": {},
     "output_type": "display_data"
    }
   ],
   "source": [
    "# Graficamos o resultado\n",
    "plt.text(0,12,r'$R^2$ = '+str(r2))\n",
    "plt.text(0,10,r'$a_0$ = '+str(a0))\n",
    "plt.text(0,7.5,r'$a_1$ = '+ str(a1))\n",
    "plt.plot(x,y,'k')\n",
    "for p in dados_com_ruido:\n",
    "    plt.scatter(p[0],p[1],c='r')\n",
    "plt.grid(True)"
   ]
  },
  {
   "cell_type": "code",
   "execution_count": null,
   "metadata": {
    "collapsed": true
   },
   "outputs": [],
   "source": []
  }
 ],
 "metadata": {
  "kernelspec": {
   "display_name": "Python 3 (ipykernel)",
   "language": "python",
   "name": "python3"
  },
  "language_info": {
   "codemirror_mode": {
    "name": "ipython",
    "version": 3
   },
   "file_extension": ".py",
   "mimetype": "text/x-python",
   "name": "python",
   "nbconvert_exporter": "python",
   "pygments_lexer": "ipython3",
   "version": "3.9.13"
  }
 },
 "nbformat": 4,
 "nbformat_minor": 2
}
