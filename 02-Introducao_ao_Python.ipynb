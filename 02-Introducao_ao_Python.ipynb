{
 "cells": [
  {
   "cell_type": "markdown",
   "metadata": {},
   "source": [
    "# Introdução a Python\n",
    "\n",
    "Gustavo Guerrero  \n",
    "guerrero@fisica.ufmg.br  \n",
    "Sala 4120\n",
    "\n",
    "Aulas baseadas em:\n",
    "1. [Scientific Computing with Python](https://github.com/jrjohansson/scientific-python-lectures)\n",
    "2. [Scipy Lecture Notes](https://www.scipy-lectures.org/)\n",
    "\n",
    "\n",
    "## Arquivos de Python\n",
    "\n",
    "* Os arquivos de Python terminam com a extensão \".py\"\n",
    "\n",
    "  \n",
    "  olamundo.py\n",
    "  \n",
    "* Cada linha de num programa de Python é considerada um comando (ou parte dele)\n",
    "     * A unica excepção são as linhas que começam com \"#\", que permitem comentar o código. Esas linhas são ignoradas pelo interpretador\n",
    "     \n",
    "* Vamos abrir o terminal com o editor Vim e escrever\n",
    "\n",
    "        print (\"ola mundo\")\n",
    "        \n",
    "  salvamos e saímos com \":wq\"\n",
    "  \n",
    "    \n",
    "     \n",
    "* Para rodar um programa de Python no terminal usamos \n",
    "\n",
    "         $ python olamundo.py\n",
    "      \n",
    "\n",
    "* Nos sistemas Unix (linux por exemplo) é comum definir o interpretador de Python na primeira linha do programa:\n",
    "\n",
    "      #!/usr/bin/env python \n",
    "     \n",
    "Se fazemos isso, e damos ao programa permissão para ser executável, podemos rodar o programa usando unicamente\n",
    "\n",
    "         $ ./olamundo.py\n",
    "\n",
    "\n",
    "## Codificação de caracteres \n",
    "\n",
    "A codificação padrão é ASCII, mas como vimos nas aulas de Latex, essa codificação não permite usar os caracteres com acento em portugués.  Se queremos usar portugués no código em Python, mesmo nos comentários, usamos então:\n",
    "\n",
    "        # -*- coding: UTF-8 -*-\n",
    "        \n",
    "## IPython notebooks\n",
    "\n",
    "Os notebooks de Python, que salvam com a extensão \".ipynb\", tal como esse arquivo, não segue os padrões de Python mas o formato [JSON](https://en.wikipedia.org/wiki/JSON). A vantagem é que podemos misturar texto, código de Python, e saídas do código. É preciso um servidor de IPython para roda-lo, portanto não é um programa de Python em si. Iremos usar o Jupyter. \n",
    "\n",
    "## Tipos de variáveis\n",
    "\n",
    "Os nomes das variáveis podem conter carateres alfanuméricos, `a-z`, `A-Z`, `0-9`, e alguns caracteres especiais como `_`.  \n",
    "\n",
    "Por convenção, os nomes das variáveis começam com minúscula, os nomes das classes com maiúscula.  \n",
    "\n",
    "Python tem um certo numero de variáveis que não podem ser usados pelo usuario:\n",
    "\n",
    "    and, as, assert, break, class, continue, def, del, elif, else, except, \n",
    "    exec, finally, for, from, global, if, import, in, is, lambda, not, or,\n",
    "    pass, print, raise, return, try, while, with, yield\n",
    "\n",
    "Python suporta os seguintes tipos de variáveis numéricas:"
   ]
  },
  {
   "cell_type": "markdown",
   "metadata": {},
   "source": [
    "### Inteiros"
   ]
  },
  {
   "cell_type": "code",
   "execution_count": null,
   "metadata": {},
   "outputs": [],
   "source": [
    "x = 1\n",
    "type(x)"
   ]
  },
  {
   "cell_type": "code",
   "execution_count": null,
   "metadata": {},
   "outputs": [],
   "source": [
    "1 + 1"
   ]
  },
  {
   "cell_type": "markdown",
   "metadata": {},
   "source": [
    "### Reais de ponto flutuante (floats)"
   ]
  },
  {
   "cell_type": "code",
   "execution_count": null,
   "metadata": {},
   "outputs": [],
   "source": [
    "x = 1.0\n",
    "type(x)"
   ]
  },
  {
   "cell_type": "markdown",
   "metadata": {},
   "source": [
    "### Complexos"
   ]
  },
  {
   "cell_type": "code",
   "execution_count": null,
   "metadata": {},
   "outputs": [],
   "source": [
    "# definimos numeros complexos assim\n",
    "a = 1.5 + 0.5j\n",
    "print (\"parte real de a = \", a.real)\n",
    "print (\"parte imaginaria de a = \", a.imag)"
   ]
  },
  {
   "cell_type": "markdown",
   "metadata": {},
   "source": [
    "### Conversão entre tipos de números:\n",
    "\n",
    "`int(x)`: converte a variável x a um número inteiro\n",
    "\n",
    "`long(x)`: converte a variável x a um número inteiro de precisão dupla\n",
    "\n",
    "`float(x)`: converte a variável x a um número de ponto flotante (real)\n",
    "\n",
    "`complex(x)`: converte a variável x a um número imaginario com parte real x e parte imaginaria 0\n",
    "\n",
    "`complex(x,y)`: converte as variáveis x e y a um número imaginario com parte real x e parte imaginaria y\n",
    "\n"
   ]
  },
  {
   "cell_type": "markdown",
   "metadata": {},
   "source": [
    "### Boleanos"
   ]
  },
  {
   "cell_type": "code",
   "execution_count": null,
   "metadata": {},
   "outputs": [],
   "source": [
    "3 > 4"
   ]
  },
  {
   "cell_type": "code",
   "execution_count": null,
   "metadata": {},
   "outputs": [],
   "source": [
    "teste = (3 > 4)\n",
    "teste\n",
    "# nesse caso a variavel teste seria um boleano"
   ]
  },
  {
   "cell_type": "markdown",
   "metadata": {},
   "source": [
    "### Operações nativas\n",
    "\n",
    "Uma terminal com Python pode substituir a calculadora do computador usando as operações aritmeticas básicas, `+`, `-`, `*`, `/`, `%` (operação modulo). "
   ]
  },
  {
   "cell_type": "code",
   "execution_count": null,
   "metadata": {},
   "outputs": [],
   "source": [
    "7*3"
   ]
  },
  {
   "cell_type": "code",
   "execution_count": null,
   "metadata": {},
   "outputs": [],
   "source": [
    "2**10"
   ]
  },
  {
   "cell_type": "code",
   "execution_count": null,
   "metadata": {},
   "outputs": [],
   "source": [
    "3/2"
   ]
  },
  {
   "cell_type": "code",
   "execution_count": null,
   "metadata": {},
   "outputs": [],
   "source": [
    "3/2."
   ]
  },
  {
   "cell_type": "code",
   "execution_count": null,
   "metadata": {},
   "outputs": [],
   "source": [
    "3/float(2)"
   ]
  },
  {
   "cell_type": "code",
   "execution_count": null,
   "metadata": {},
   "outputs": [],
   "source": [
    "float(3/2)"
   ]
  },
  {
   "cell_type": "markdown",
   "metadata": {},
   "source": [
    "### Strings e listas\n",
    "\n",
    "#### Strings\n",
    "\n",
    "São as variáveis que servem para armazenar texto"
   ]
  },
  {
   "cell_type": "code",
   "execution_count": null,
   "metadata": {},
   "outputs": [],
   "source": [
    "s= \"ola mundo\"\n",
    "type(s)"
   ]
  },
  {
   "cell_type": "code",
   "execution_count": null,
   "metadata": {},
   "outputs": [],
   "source": [
    "#no caso das variáveis string elas são armazenadas como uma lista\n",
    "len(s)"
   ]
  },
  {
   "cell_type": "code",
   "execution_count": null,
   "metadata": {},
   "outputs": [],
   "source": [
    "#os índices começam no 0\n",
    "s[0]"
   ]
  },
  {
   "cell_type": "code",
   "execution_count": null,
   "metadata": {},
   "outputs": [],
   "source": [
    "s[-1]"
   ]
  },
  {
   "cell_type": "markdown",
   "metadata": {},
   "source": [
    "#### Listas\n",
    "\n",
    "As listas são similares às *strings*, porém cada elemento da lista pode ser de qualquer tipo"
   ]
  },
  {
   "cell_type": "code",
   "execution_count": null,
   "metadata": {},
   "outputs": [],
   "source": [
    "l = [1,2,3,4]\n",
    "print type(l)"
   ]
  },
  {
   "cell_type": "code",
   "execution_count": null,
   "metadata": {},
   "outputs": [],
   "source": [
    "print l[1:3]"
   ]
  },
  {
   "cell_type": "markdown",
   "metadata": {},
   "source": [
    "Nas listas os elementos não precisam ser do mesmo tipo"
   ]
  },
  {
   "cell_type": "code",
   "execution_count": null,
   "metadata": {},
   "outputs": [],
   "source": [
    "l = [1, 'a', 1.0, 1-1j]\n",
    "print l"
   ]
  },
  {
   "cell_type": "markdown",
   "metadata": {},
   "source": [
    "podemos gerar listas usando algumas funções do Python, por exemplo"
   ]
  },
  {
   "cell_type": "code",
   "execution_count": null,
   "metadata": {
    "scrolled": true
   },
   "outputs": [],
   "source": [
    "start = 10\n",
    "stop = 30\n",
    "step = 2\n",
    "# em python2 seria unicamente \n",
    "# range(start, stop, step)\n",
    "# em python3,  \n",
    "list(range(start, stop, step))"
   ]
  },
  {
   "cell_type": "markdown",
   "metadata": {},
   "source": [
    "Podemos modificar ou adicionar elementos a uma lista, por exemplo"
   ]
  },
  {
   "cell_type": "code",
   "execution_count": null,
   "metadata": {},
   "outputs": [],
   "source": [
    "#criamos uma lista vazia\n",
    "l = []\n",
    "\n",
    "# Adicionamos elementos usando append\n",
    "l.append(\"A\")\n",
    "l.append(\"d\")\n",
    "l.append(\"d\")\n",
    "l.append([\"f\",\"g\"])\n",
    "\n",
    "print(l)"
   ]
  },
  {
   "cell_type": "code",
   "execution_count": null,
   "metadata": {},
   "outputs": [],
   "source": [
    "(l[3])[1]"
   ]
  },
  {
   "cell_type": "markdown",
   "metadata": {},
   "source": [
    "#### Tuplas\n",
    "\n",
    "São listas que não podem ser modificadas uma vez criadas. Elas são criadas usando `(...,...,...)` "
   ]
  },
  {
   "cell_type": "code",
   "execution_count": null,
   "metadata": {},
   "outputs": [],
   "source": [
    "point = (10, 20)\n",
    "\n",
    "print(point, type(point))"
   ]
  },
  {
   "cell_type": "markdown",
   "metadata": {},
   "source": [
    "### Estruturas de controle\n",
    "\n",
    "Controla a execução do código usando as palavras chave `if`, `elif` (else if), `else`"
   ]
  },
  {
   "cell_type": "code",
   "execution_count": null,
   "metadata": {},
   "outputs": [],
   "source": [
    "postulado1 = False\n",
    "postulado2 = True\n",
    "post3 = (3>2)\n",
    "\n",
    "if post3:\n",
    "    print(\"post3 é verdadeiro\")\n",
    "    \n",
    "elif postulado2:\n",
    "    print(\"postulado2 é verdadeiro\")\n",
    "    \n",
    "else:\n",
    "    print(\"os postulados 1 e 2 são falsos\")"
   ]
  },
  {
   "cell_type": "markdown",
   "metadata": {},
   "source": [
    "#### Importante\n",
    "Note que usamos uma identação para escrever linhas de código depois de cada estrutura de controle.  A identação é uma característica do Python, se ela não é correta, o programa não executa.  \n",
    "Podem usar TAB ou espaços, mas é necessário ser consistente ao longo do código. Só dessa forma não aparecerão erros de sintaxe"
   ]
  },
  {
   "cell_type": "code",
   "execution_count": null,
   "metadata": {},
   "outputs": [],
   "source": [
    "postulado1 = True\n",
    "postulado2 = True\n",
    "\n",
    "if postulado1:\n",
    "    if postulado2:\n",
    "    #identação errada\n",
    "    print(\"postulado1 é verdadeiro\")"
   ]
  },
  {
   "cell_type": "code",
   "execution_count": null,
   "metadata": {},
   "outputs": [],
   "source": [
    "# identação correta\n",
    "postulado1 = True\n",
    "postulado2 = True\n",
    "\n",
    "if postulado1:\n",
    "    if postulado2:\n",
    "        print(\"postulado1 é verdadeiro\")"
   ]
  },
  {
   "cell_type": "markdown",
   "metadata": {},
   "source": [
    "#### Loops `for`\n",
    "\n",
    "Para criarmos estruturas em forma de loop, o método mais comum é usando `for`, o qual permite iterar no interior de listas. A sintaxe basica é:"
   ]
  },
  {
   "cell_type": "code",
   "execution_count": null,
   "metadata": {},
   "outputs": [],
   "source": [
    "for x in [1,2,3]:\n",
    "    print(x)"
   ]
  },
  {
   "cell_type": "code",
   "execution_count": null,
   "metadata": {},
   "outputs": [],
   "source": [
    "i = 1\n",
    "f = 10\n",
    "p = 2\n",
    "for x in range(i,f,p): # começa sempre no 0\n",
    "    print(x)"
   ]
  },
  {
   "cell_type": "markdown",
   "metadata": {},
   "source": [
    "`range(4)` não inclui o número 4.  \n",
    "\n",
    "Note que novamente temos que usar a identação correta"
   ]
  },
  {
   "cell_type": "code",
   "execution_count": null,
   "metadata": {},
   "outputs": [],
   "source": [
    "for x in range(-3,3,1):\n",
    "    print(x)"
   ]
  },
  {
   "cell_type": "markdown",
   "metadata": {},
   "source": [
    "Podemos criar listas usando loops `for`"
   ]
  },
  {
   "cell_type": "code",
   "execution_count": null,
   "metadata": {},
   "outputs": [],
   "source": [
    "l1 = [x**2 for x in range(0,5)]\n",
    "#note que aqui range funciona, pois l1 já está criando uma lista\n",
    "print(l1)"
   ]
  },
  {
   "cell_type": "markdown",
   "metadata": {},
   "source": [
    "#### Loop `while`\n",
    "\n",
    "é outra forma condicional de manter o codigo no interior de uma condição"
   ]
  },
  {
   "cell_type": "code",
   "execution_count": null,
   "metadata": {},
   "outputs": [],
   "source": [
    "i = 0\n",
    "l2 = []\n",
    "while i < 5:\n",
    "    l2.append(i)\n",
    "    print(l2)\n",
    "    i += 1\n",
    "# note que sai da identação do loop, portanto \n",
    "# a seguinte linha de código está fora da condição i<5\n",
    "print(\"done\")\n"
   ]
  },
  {
   "cell_type": "markdown",
   "metadata": {},
   "source": [
    "## Funções\n",
    "\n",
    "As funções são blocos de código que contém comandos organizados e reusaveis, que permitem realizar uma determinada ação ou cálculo. Permitem que o código seja mais *modular*.  \n",
    "\n",
    "No que temos aprendido até agora ja usamos a função, `print ()`. Porém, essa função é implicita ao Python, vamos aprender a definir nossas proprias funções."
   ]
  },
  {
   "cell_type": "code",
   "execution_count": null,
   "metadata": {},
   "outputs": [],
   "source": [
    "# estrutura para definir uma função, note a identação\n",
    "def func0():   \n",
    "    print(\"test\")\n",
    "\n",
    "# chamamos a função por fora de dita identação\n",
    "func0()"
   ]
  },
  {
   "cell_type": "markdown",
   "metadata": {},
   "source": [
    "De forma opcional, porém muito recomendável, podemos adicionar o chamado \"docstring\", que é uma descrição da proposta e comportamento da função. O \"docstring\" deve aparecer logo depois da definição da função, assim"
   ]
  },
  {
   "cell_type": "code",
   "execution_count": null,
   "metadata": {},
   "outputs": [],
   "source": [
    "def func1(s):\n",
    "    \"\"\"\n",
    "    Imprime um string 's' diz quantos caracteres essa string tem.\n",
    "    Parametros:\n",
    "    s: string \n",
    "    Uso:\n",
    "    Para usar digite\n",
    "    func1(\"string_qualquer\")\n",
    "    \"\"\"\n",
    "    \n",
    "    print(s + \" has \" + str(len(s)) + \" characters\")"
   ]
  },
  {
   "cell_type": "code",
   "execution_count": null,
   "metadata": {
    "scrolled": true
   },
   "outputs": [],
   "source": [
    "help(func1)"
   ]
  },
  {
   "cell_type": "code",
   "execution_count": null,
   "metadata": {},
   "outputs": [],
   "source": [
    "help(print)"
   ]
  },
  {
   "cell_type": "code",
   "execution_count": null,
   "metadata": {},
   "outputs": [],
   "source": [
    "s1 = \"jupyter\"\n",
    "func1(s1)"
   ]
  },
  {
   "cell_type": "markdown",
   "metadata": {},
   "source": [
    "Funções que retornam um valor usam a palavra chave `return`"
   ]
  },
  {
   "cell_type": "code",
   "execution_count": null,
   "metadata": {},
   "outputs": [],
   "source": [
    "def square(x):\n",
    "    \"\"\"\n",
    "    Retorna o quadrado de x\n",
    "    \"\"\"\n",
    "    return float(x ** 2)"
   ]
  },
  {
   "cell_type": "code",
   "execution_count": null,
   "metadata": {},
   "outputs": [],
   "source": [
    "square(24)"
   ]
  },
  {
   "cell_type": "markdown",
   "metadata": {},
   "source": [
    "Podemos retornar vários valores de uma função usando as `tuplas` vistas acima"
   ]
  },
  {
   "cell_type": "code",
   "execution_count": null,
   "metadata": {},
   "outputs": [],
   "source": [
    "def powers(x):\n",
    "    \"\"\"\n",
    "    Retorna algumas potencias de x.\n",
    "    \"\"\"\n",
    "    return x ** 2, x ** 3, x ** 4"
   ]
  },
  {
   "cell_type": "code",
   "execution_count": null,
   "metadata": {},
   "outputs": [],
   "source": [
    "y = powers(3)\n",
    "type(y)"
   ]
  },
  {
   "cell_type": "markdown",
   "metadata": {},
   "source": [
    "Como o resultado é uma tupla podemos aceder a seus valores individualmente"
   ]
  },
  {
   "cell_type": "code",
   "execution_count": null,
   "metadata": {},
   "outputs": [],
   "source": [
    "powers(3)[1]"
   ]
  },
  {
   "cell_type": "markdown",
   "metadata": {},
   "source": [
    "### Definição de argumentos *default* (padrão) e argumentos *chave*"
   ]
  },
  {
   "cell_type": "code",
   "execution_count": null,
   "metadata": {},
   "outputs": [],
   "source": [
    "def myexp(x, p=2, debug=False):\n",
    "    if debug:\n",
    "        print(\"função que calcula x = \" + str(x) + \" elevada ao exponente p = \" + str(p))\n",
    "    return x**p"
   ]
  },
  {
   "cell_type": "markdown",
   "metadata": {},
   "source": [
    "Neste caso a função precisa de 3 argumentos, `x` é absolutamente necessário, `p` e `debug` são opcionais, se eles não são passados quando a função é chamada, esta utilizara os valores padrão deles"
   ]
  },
  {
   "cell_type": "code",
   "execution_count": null,
   "metadata": {},
   "outputs": [],
   "source": [
    "# neste caso não passamos nenhum argumento, p=2 e debug=False, são padrão\n",
    "myexp(3)"
   ]
  },
  {
   "cell_type": "code",
   "execution_count": null,
   "metadata": {},
   "outputs": [],
   "source": [
    "# neste caso passamos p=3 e debug=True, \n",
    "myexp(3,p=3,debug=True)"
   ]
  },
  {
   "cell_type": "markdown",
   "metadata": {},
   "source": [
    "Se listamos os argumentos da função de forma explicita, a ordem de definição na função não precisa ser a mesma na hora de ser chamada.  Isto é chamado de argumentos *chave* e é comunmente usado em funções que tem multiplos argumentos"
   ]
  },
  {
   "cell_type": "code",
   "execution_count": null,
   "metadata": {},
   "outputs": [],
   "source": [
    "myexp(8,3,True)"
   ]
  },
  {
   "cell_type": "code",
   "execution_count": null,
   "metadata": {},
   "outputs": [],
   "source": []
  },
  {
   "cell_type": "markdown",
   "metadata": {},
   "source": [
    "### Funções indefinidas (a função `lambda`)\n",
    "\n",
    "Podemos criar funções sem necessidade de defini-las usando a palavra chave `lambda`:"
   ]
  },
  {
   "cell_type": "code",
   "execution_count": null,
   "metadata": {},
   "outputs": [],
   "source": [
    "f1 = lambda x: x**2\n",
    "    \n",
    "# é equivalente a:\n",
    "\n",
    "def f2(x):\n",
    "    return x**2"
   ]
  },
  {
   "cell_type": "code",
   "execution_count": null,
   "metadata": {},
   "outputs": [],
   "source": [
    "f1(2), f2(2)"
   ]
  },
  {
   "cell_type": "markdown",
   "metadata": {},
   "source": [
    "Definir esse tipo de funções é útil quando queremos passar funções simples como argumento a outra função, por exemplo:"
   ]
  },
  {
   "cell_type": "code",
   "execution_count": null,
   "metadata": {},
   "outputs": [],
   "source": [
    "# map is a built-in python function\n",
    "list(map(lambda x: x**2, range(-3,4)))"
   ]
  },
  {
   "cell_type": "code",
   "execution_count": null,
   "metadata": {},
   "outputs": [],
   "source": [
    "list(map(f1, range(-3,4)))"
   ]
  },
  {
   "cell_type": "code",
   "execution_count": null,
   "metadata": {},
   "outputs": [],
   "source": [
    "help(map)"
   ]
  },
  {
   "cell_type": "markdown",
   "metadata": {},
   "source": [
    "A função `map` do python receve uma função e variáves iteráveis, como listas. Ela executa a função para cada elemento da lista."
   ]
  },
  {
   "cell_type": "markdown",
   "metadata": {},
   "source": [
    "Outro exemplo:"
   ]
  },
  {
   "cell_type": "code",
   "execution_count": null,
   "metadata": {},
   "outputs": [],
   "source": [
    "def add(x, y): \n",
    "    return x + y\n",
    "\n",
    "# é equivalente a:\n",
    "\n",
    "add = lambda x, y: x+y"
   ]
  },
  {
   "cell_type": "markdown",
   "metadata": {},
   "source": [
    "## Classes\n",
    "\n",
    "As classes são características chave do que se conhece como programação orientada a objetos (OOP).  É uma estrutura de software que representa um objeto e as operações que podem ser realizadas sob ele.   \n",
    "\n",
    "Em Python uma classe pode conter *atributos* (variáveis), e *métodos* (funções).\n",
    "\n",
    "Uma classe é definida quase como qualquer função, mas usando a palavra chave `class`. Junto com a definição da classe normalmente segue a definição de métodos da classe, ou seja das funções.\n",
    "\n",
    "* Cada função de uma classe deve ter um um argumento `self` como seu primeiro argumento. Esse objeto é uma *self-reference* (auto-referência).\n",
    "\n",
    "* Algumas das funções da clase tem nomes especiais, por exemplo:\n",
    "\n",
    "    * `__init__`: é o nome do método que é chamado quando o primeiro objeto é definido. \n",
    "    * `__str__`: é um método que é chamado quando uma *string* é necessária, ou seja, quando precisamos imprimir texto, por exemplo. \n",
    "    * há muitas mais funções especiais [veja](http://docs.python.org/2/reference/datamodel.html#special-method-names).\n",
    "    \n",
    "Uma das características mais interessantes do desenvolvimento de software orientado a objetos é que funções e variáveis se agrupam em entidades separadas e independentes\n",
    "   "
   ]
  },
  {
   "cell_type": "code",
   "execution_count": null,
   "metadata": {},
   "outputs": [],
   "source": [
    "class ponto:\n",
    "    \"\"\"\n",
    "    Classe simples para representar um ponto num plano Cartesiano.\n",
    "    \"\"\"\n",
    "    \n",
    "    def __init__(self, x, y):\n",
    "        \"\"\"\n",
    "        Cria um novo ponto em  x, y.\n",
    "        \"\"\"\n",
    "        self.x = x\n",
    "        self.y = y\n",
    "        \n",
    "    def movimente(self, dx, dy):\n",
    "        \"\"\"\n",
    "        Movimenta o ponto por dx e dy nas direções x e y.\n",
    "        \"\"\"\n",
    "        self.x += dx\n",
    "        self.y += dy\n",
    "        \n",
    "    def __str__(self):\n",
    "        return(\"O Ponto está em [%f, %f]\" % (self.x, self.y))"
   ]
  },
  {
   "cell_type": "code",
   "execution_count": null,
   "metadata": {},
   "outputs": [],
   "source": [
    "p1 = ponto(1.,2.)\n",
    "print(p1)\n",
    "p1.movimente(5,5.5)\n",
    "print(p1)"
   ]
  },
  {
   "cell_type": "code",
   "execution_count": null,
   "metadata": {},
   "outputs": [],
   "source": [
    "type(p1)"
   ]
  },
  {
   "cell_type": "code",
   "execution_count": null,
   "metadata": {},
   "outputs": [],
   "source": [
    "p2 = ponto(1,1)\n",
    "p1.movimente(1,1)\n",
    "print(p1)\n",
    "print(p2)"
   ]
  },
  {
   "cell_type": "code",
   "execution_count": null,
   "metadata": {},
   "outputs": [],
   "source": [
    "p3 = p1"
   ]
  },
  {
   "cell_type": "code",
   "execution_count": null,
   "metadata": {},
   "outputs": [],
   "source": [
    "print(p3)"
   ]
  },
  {
   "cell_type": "markdown",
   "metadata": {},
   "source": [
    "### Vejamos uma classe mais interessante\n",
    "\n",
    "Vamos criar uma classe para trabalhar com números complexos"
   ]
  },
  {
   "cell_type": "code",
   "execution_count": null,
   "metadata": {
    "scrolled": true
   },
   "outputs": [],
   "source": [
    "p4 = p1+p2"
   ]
  },
  {
   "cell_type": "code",
   "execution_count": null,
   "metadata": {},
   "outputs": [],
   "source": [
    "# Classe para trabalhar com numeros complexos                                                      \n",
    "class Complex1:\n",
    "#construtor da clase, cria um objeto chamado ComplexG\n",
    "        def __init__(z,x,y):\n",
    "                z.re = x\n",
    "                z.im = y\n",
    "\n",
    "        def soma(z1, z2):\n",
    "                return Complex1(z1.re + z2.re , z1.im + z2.im)\n",
    "\n",
    "        def subs(z1,z2):\n",
    "                return Complex1(z1.re - z2.re , z1.im - z2.im)\n",
    "\n",
    "        def mult(z1,z2):\n",
    "                return Complex1(z1.re*z2.re - z1.im*z2.im,\n",
    "                                z1.re*z2.im + z1.im*z2.re )\n",
    "\n",
    "\n",
    "        def __repr__(z):\n",
    "                return '(%f, %f)' %(z.re, z.im)"
   ]
  },
  {
   "cell_type": "code",
   "execution_count": null,
   "metadata": {},
   "outputs": [],
   "source": [
    "z1 = Complex1(2.,3.)\n",
    "print(z1)"
   ]
  },
  {
   "cell_type": "code",
   "execution_count": null,
   "metadata": {},
   "outputs": [],
   "source": [
    "z2 = Complex1(4.,6.)"
   ]
  },
  {
   "cell_type": "code",
   "execution_count": null,
   "metadata": {},
   "outputs": [],
   "source": [
    "z3 = Complex1.soma(z1,z2)"
   ]
  },
  {
   "cell_type": "code",
   "execution_count": null,
   "metadata": {},
   "outputs": [],
   "source": [
    "print(z3)"
   ]
  },
  {
   "cell_type": "code",
   "execution_count": null,
   "metadata": {},
   "outputs": [],
   "source": [
    "print ('z1 - z2 =' , Complex1.subs(z1,z2))\n",
    "print ('z1 * z2 =' , Complex1.mult(z1,z2))"
   ]
  },
  {
   "cell_type": "markdown",
   "metadata": {},
   "source": [
    "Agora vamos a usar o atributo `self`"
   ]
  },
  {
   "cell_type": "code",
   "execution_count": null,
   "metadata": {},
   "outputs": [],
   "source": [
    "class Complex2:\n",
    "# self é uma palavra reservada em python, e se refere ao objeto \n",
    "# asociado a clase, note que agora não precisamos definir z\n",
    "                                                                                                  \n",
    "        def __init__(self,x,y):\n",
    "                self.re = x\n",
    "                self.im = y\n",
    "                \n",
    "# a palavra reservada other, terá as mesmas caracteristicas que self\n",
    "\n",
    "        def soma(self, other):\n",
    "                return Complex2(self.re + other.re , self.im + other.im)\n",
    "\n",
    "        def subs(self,other):\n",
    "                return Complex2(self.re - other.re , self.im - other.im)\n",
    "\n",
    "        def mult(self,other):\n",
    "                return Complex2(self.re*other.re - self.im*other.im,\n",
    "                                self.re*other.im + self.im*other.re )\n",
    "        def abs(self):\n",
    "                return (self.re**2 + self.im**2)**0.5\n",
    "\n",
    "        def __repr__(self):\n",
    "                return '(%f, %f)' %(self.re, self.im)"
   ]
  },
  {
   "cell_type": "code",
   "execution_count": null,
   "metadata": {},
   "outputs": [],
   "source": [
    "z1 = Complex2(2.,5)\n",
    "z2 = Complex2(1.,3)"
   ]
  },
  {
   "cell_type": "code",
   "execution_count": null,
   "metadata": {},
   "outputs": [],
   "source": [
    "z3 = Complex2.subs(z1,z2)\n",
    "print(z3)"
   ]
  },
  {
   "cell_type": "markdown",
   "metadata": {},
   "source": [
    "#### Operator overloading:\n",
    "\n",
    "Podemos usar os operadores normais, `+`, `-`, `%`, etc, dentro das nossas classes. Quando algumas variáveis são criadas como pertencentes à classe, os operadores irão fazer as operações definidas na classe e não a sua operação original."
   ]
  },
  {
   "cell_type": "code",
   "execution_count": null,
   "metadata": {},
   "outputs": [],
   "source": [
    "class Complex3:\n",
    "# Nessa clase vamos sobreescrever as operações realizadas por os\n",
    "# operadores +, -, * \n",
    "\n",
    "        def __init__(self,x,y):\n",
    "                self.re = x\n",
    "                self.im = y\n",
    "\n",
    "# a função __add__ vai permitir usar o operador + para fazer\n",
    "# somas entre complexos. Assim mesmo com os outros operadores.\n",
    "\n",
    "        def __add__(self, other):\n",
    "                return Complex3(self.re + other.re , self.im + other.im)\n",
    "\n",
    "        def __sub__(self,other):\n",
    "                return Complex3(self.re - other.re , self.im - other.im)\n",
    "\n",
    "        def __mul__(self,other):\n",
    "                return Complex3(self.re*other.re - self.im*other.im,\n",
    "                                self.re*other.im + self.im*other.re )\n",
    "        def __abs__(self):\n",
    "                return (self.re**2 + self.im**2)**(0.5)\n",
    "\n",
    "        def __repr__(self):\n",
    "                return '(%f, %f)' %(self.re, self.im)"
   ]
  },
  {
   "cell_type": "code",
   "execution_count": null,
   "metadata": {},
   "outputs": [],
   "source": [
    "a = Complex3(3,-2)\n",
    "b = Complex3(1,-4)"
   ]
  },
  {
   "cell_type": "code",
   "execution_count": null,
   "metadata": {},
   "outputs": [],
   "source": [
    "c = a+b\n",
    "print(abs(c))"
   ]
  },
  {
   "cell_type": "markdown",
   "metadata": {},
   "source": [
    "### Modulos\n",
    "\n",
    "Um dos conceitos mais importantes da programação é o reuso de código e a eliminação de repetições. A ideia então é escrever funções e classes com uma proposta (funções e parâmetros) bem definida. Esse é o conceito de programação modular.\n",
    "\n",
    "Python permite programação modular em níveis diferentes, funçõs e clases são exemplos de programação modular de baixo nível.  Modulos são construções de alto nível.  Podemos agrupar classes, funções e variáveis em módulos que podem ser importados dentro de um *script* usando o comando `import`.  \n",
    "\n",
    "O exemplo seguinte é um modulo que contém uma variável, uma função e uma classe."
   ]
  },
  {
   "cell_type": "code",
   "execution_count": null,
   "metadata": {},
   "outputs": [],
   "source": [
    "%%file mymodule.py\n",
    "\"\"\"\n",
    "Exemplo de um modulo de Python. \n",
    "Contém uma variável, uma função e uma classe.\n",
    "\"\"\"\n",
    "\n",
    "my_variable = 0\n",
    "\n",
    "def my_function():\n",
    "    \"\"\"\n",
    "    Exemplo de função\n",
    "    \"\"\"\n",
    "    return my_variable\n",
    "    \n",
    "class MyClass:\n",
    "    \"\"\"\n",
    "    Exemplo de classe\n",
    "    \"\"\"\n",
    "\n",
    "    def __init__(self):\n",
    "        self.variable = my_variable\n",
    "        \n",
    "    def set_variable(self, new_value):\n",
    "        \"\"\"\n",
    "        Set self.variable to a new value\n",
    "        \"\"\"\n",
    "        self.variable = new_value\n",
    "        \n",
    "    def get_variable(self):\n",
    "        return self.variable"
   ]
  },
  {
   "cell_type": "markdown",
   "metadata": {},
   "source": [
    "Podemos importar o módulo usando `import`"
   ]
  },
  {
   "cell_type": "code",
   "execution_count": null,
   "metadata": {},
   "outputs": [],
   "source": [
    "import mymodule"
   ]
  },
  {
   "cell_type": "code",
   "execution_count": null,
   "metadata": {},
   "outputs": [],
   "source": [
    "help(mymodule)"
   ]
  },
  {
   "cell_type": "code",
   "execution_count": null,
   "metadata": {},
   "outputs": [],
   "source": [
    "mymodule.my_variable"
   ]
  },
  {
   "cell_type": "code",
   "execution_count": null,
   "metadata": {},
   "outputs": [],
   "source": [
    "mymodule.my_function() "
   ]
  },
  {
   "cell_type": "code",
   "execution_count": null,
   "metadata": {},
   "outputs": [],
   "source": [
    "my_class = mymodule.MyClass() \n",
    "my_class.set_variable(10)\n",
    "my_class.get_variable()"
   ]
  },
  {
   "cell_type": "markdown",
   "metadata": {},
   "source": [
    "Se fazemos mudançãs em `mymodule.py`, temos que re-carregar novamente, usando `reload`"
   ]
  },
  {
   "cell_type": "code",
   "execution_count": null,
   "metadata": {},
   "outputs": [],
   "source": [
    "reload(mymodule) # Funciona unicamente no Python2"
   ]
  },
  {
   "cell_type": "code",
   "execution_count": null,
   "metadata": {},
   "outputs": [],
   "source": []
  }
 ],
 "metadata": {
  "kernelspec": {
   "display_name": "Python 3 (ipykernel)",
   "language": "python",
   "name": "python3"
  },
  "language_info": {
   "codemirror_mode": {
    "name": "ipython",
    "version": 3
   },
   "file_extension": ".py",
   "mimetype": "text/x-python",
   "name": "python",
   "nbconvert_exporter": "python",
   "pygments_lexer": "ipython3",
   "version": "3.9.13"
  }
 },
 "nbformat": 4,
 "nbformat_minor": 2
}
