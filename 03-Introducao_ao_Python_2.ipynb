{
 "cells": [
  {
   "cell_type": "markdown",
   "metadata": {},
   "source": [
    "# Introdução a Python - parte 2\n",
    "\n",
    "Gustavo Guerrero  \n",
    "guerrero@fisica.ufmg.br  \n",
    "Sala 4120\n",
    "\n",
    "Aulas baseadas em:\n",
    "1. [Scientific Computing with Python](https://github.com/jrjohansson/scientific-python-lectures)\n",
    "2. [Scipy Lecture Notes](https://www.scipy-lectures.org/)"
   ]
  },
  {
   "cell_type": "markdown",
   "metadata": {},
   "source": [
    "## Modulos de Python para computação científica\n",
    "\n",
    "Vamos ver a seguir uma introdução aos módulos `Numpy`, `Scipy` e `Matplotlib`.  De momento a nossa descrição não entra nos detalhes e nos amplo conteúdo dos módulos. Porem, no final do curso o aluno deve entender e saber usar esses módulos pois vamos utilizar eles frequentemente. \n",
    "\n",
    "### Numpy - Arranjos de dados multidimensionais. \n",
    "\n",
    "O pacote (modulo) `numpy` é usado quase que em todos os calculos numéricos usando Python.  Ele tem funciones para criar e operar com estruturas de dados em forma de vetores, matrizes, ou estruturas de alta dimensionalidade.  O módulo é escrito em C e Fortran, por isso os calculos *vectorizados* do Python são efetuados com uma performance excelente. \n",
    "\n",
    "\n",
    "<img src=\"Figs/dataStructuresNew.png\" width=70% > \n",
    "\n",
    "* vectorização: é o processo de convertir um algoritmo que faz uma operação de cada vez a operar um conjunto de valores de cada vez.\n",
    "\n",
    "Para usar `numpy` temos que importar o modulo"
   ]
  },
  {
   "cell_type": "code",
   "execution_count": 1,
   "metadata": {
    "collapsed": true
   },
   "outputs": [],
   "source": [
    "import numpy as np"
   ]
  },
  {
   "cell_type": "markdown",
   "metadata": {},
   "source": [
    "todas as funções que pertencem ao modulo numpy pode agora ser chamadas usando `np.nome_da_funcao`. Veremos algumas funções importantes.\n",
    "\n",
    "### Criando arranjos e matrizes com `numpy`\n",
    "\n",
    "Podemos criar arranjos, 1D, de várias formas:\n",
    "\n",
    "* a partir de listas ou tuplas de Python\n",
    "* usando funções de numpy tais como `np.arange` ou `np.linspace`\n",
    "* a partir da leitura de arquivos de dados\n",
    "\n",
    "#### Usando listas\n",
    "\n",
    "Usamos a função `np.array`"
   ]
  },
  {
   "cell_type": "code",
   "execution_count": 4,
   "metadata": {},
   "outputs": [
    {
     "name": "stdout",
     "output_type": "stream",
     "text": [
      "assim aparece a lista v: (1, 2, 3, 4)\n",
      "assim aparece o arranjo v: [1 2 3 4]\n"
     ]
    }
   ],
   "source": [
    "# criamos uma lista\n",
    "v = (1,2,3,4)\n",
    "print(\"assim aparece a lista v:\", v)\n",
    "# depois usamos np.array para converti-la em arranjo\n",
    "# note que podemos mater o nome da lista\n",
    "v = np.array(v)\n",
    "print(\"assim aparece o arranjo v:\", v)"
   ]
  },
  {
   "cell_type": "code",
   "execution_count": 5,
   "metadata": {},
   "outputs": [
    {
     "data": {
      "text/plain": [
       "array([[1, 2],\n",
       "       [3, 4]])"
      ]
     },
     "execution_count": 5,
     "metadata": {},
     "output_type": "execute_result"
    }
   ],
   "source": [
    "# podemos criar matrizes usando listas aninhadas\n",
    "M = np.array([[1, 2], [3, 4]])\n",
    "M"
   ]
  },
  {
   "cell_type": "code",
   "execution_count": 6,
   "metadata": {},
   "outputs": [
    {
     "data": {
      "text/plain": [
       "(numpy.ndarray, numpy.ndarray)"
      ]
     },
     "execution_count": 6,
     "metadata": {},
     "output_type": "execute_result"
    }
   ],
   "source": [
    "type(v), type(M)"
   ]
  },
  {
   "cell_type": "markdown",
   "metadata": {},
   "source": [
    "A differença está unicamente nos atributos de cada objeto:"
   ]
  },
  {
   "cell_type": "code",
   "execution_count": 12,
   "metadata": {},
   "outputs": [
    {
     "data": {
      "text/plain": [
       "(4,)"
      ]
     },
     "execution_count": 12,
     "metadata": {},
     "output_type": "execute_result"
    }
   ],
   "source": [
    "v.shape"
   ]
  },
  {
   "cell_type": "code",
   "execution_count": 13,
   "metadata": {},
   "outputs": [
    {
     "data": {
      "text/plain": [
       "(2, 2)"
      ]
     },
     "execution_count": 13,
     "metadata": {},
     "output_type": "execute_result"
    }
   ],
   "source": [
    "M.shape"
   ]
  },
  {
   "cell_type": "code",
   "execution_count": 14,
   "metadata": {},
   "outputs": [
    {
     "data": {
      "text/plain": [
       "4"
      ]
     },
     "execution_count": 14,
     "metadata": {},
     "output_type": "execute_result"
    }
   ],
   "source": [
    "M.size"
   ]
  },
  {
   "cell_type": "markdown",
   "metadata": {},
   "source": [
    "Os arranjos de `numpy` parecem quase a mesma coisa que as listas de Python, assim como as matrizes de `numpy` se parecem as listas aninhadas de Python. Mas então, porque usar arrays e matrizes de `numpy`?\n",
    "\n",
    "Há vários motivos:\n",
    "\n",
    "* As listas de Python são muito gerais. Podem conter qualquer tipo de variável e podem ser escritas dinamicamente.  Ellas não permitem fazer operações matemáticas entre elas\n",
    "\n",
    "* Os arranjos de `numpy` são criados estaticamente e são homogéneos. O tipo de elementos é determinado quando os arranjos são criados.\n",
    "\n",
    "* Os arranjos de `numpy` utilizam memoria (RAM) de forma eficiente\n",
    "\n",
    "* A implementação de funções matemáticas usando esses arranjos pode ser implementada em linguagens compiladas como C ou Fortran, dessa forma podem ter melhor performance. \n",
    "\n",
    "Para determinar o tipo de dado armazenado num arranjo ou matriz, podemos usar `dtype`"
   ]
  },
  {
   "cell_type": "code",
   "execution_count": 15,
   "metadata": {},
   "outputs": [
    {
     "data": {
      "text/plain": [
       "dtype('int64')"
      ]
     },
     "execution_count": 15,
     "metadata": {},
     "output_type": "execute_result"
    }
   ],
   "source": [
    "M.dtype"
   ]
  },
  {
   "cell_type": "markdown",
   "metadata": {},
   "source": [
    "#### Usando funções geradoras de arranjos\n",
    "\n",
    "Algumas funções de `numpy` permitem criar arranjos e matrizes de forma prática.\n",
    "\n",
    "#### `np.arange` "
   ]
  },
  {
   "cell_type": "code",
   "execution_count": 22,
   "metadata": {},
   "outputs": [
    {
     "data": {
      "text/plain": [
       "(array([ 0.,  1.,  2.,  3.,  4.,  5.,  6.,  7.,  8.,  9.]),\n",
       " array([ -1.00000000e+00,  -9.00000000e-01,  -8.00000000e-01,\n",
       "         -7.00000000e-01,  -6.00000000e-01,  -5.00000000e-01,\n",
       "         -4.00000000e-01,  -3.00000000e-01,  -2.00000000e-01,\n",
       "         -1.00000000e-01,  -2.22044605e-16,   1.00000000e-01,\n",
       "          2.00000000e-01,   3.00000000e-01,   4.00000000e-01,\n",
       "          5.00000000e-01,   6.00000000e-01,   7.00000000e-01,\n",
       "          8.00000000e-01,   9.00000000e-01]))"
      ]
     },
     "execution_count": 22,
     "metadata": {},
     "output_type": "execute_result"
    }
   ],
   "source": [
    "# vamos criar o vetor x, desde 0 a 10 em \n",
    "# intervalos de 1. Similar a range de Python\n",
    "\n",
    "x1 = np.arange(0,10,1.)\n",
    "x2 = np.arange(-1,1,0.1)\n",
    "x1, x2"
   ]
  },
  {
   "cell_type": "markdown",
   "metadata": {},
   "source": [
    "#### `np.linspace` e `np.logspace`"
   ]
  },
  {
   "cell_type": "code",
   "execution_count": 23,
   "metadata": {},
   "outputs": [
    {
     "data": {
      "text/plain": [
       "array([  0.        ,   1.11111111,   2.22222222,   3.33333333,\n",
       "         4.44444444,   5.55555556,   6.66666667,   7.77777778,\n",
       "         8.88888889,  10.        ])"
      ]
     },
     "execution_count": 23,
     "metadata": {},
     "output_type": "execute_result"
    }
   ],
   "source": [
    "# nesse caso definimos não o passo entre elementos mas o número de elementos\n",
    "x1 = np.linspace(0,10,10)\n",
    "x1"
   ]
  },
  {
   "cell_type": "markdown",
   "metadata": {},
   "source": [
    "Compare as saídas de x1 criado por arange e por linspace"
   ]
  },
  {
   "cell_type": "code",
   "execution_count": 30,
   "metadata": {},
   "outputs": [
    {
     "data": {
      "text/plain": [
       "array([  1.00000000e+00,   1.29154967e+01,   1.66810054e+02,\n",
       "         2.15443469e+03,   2.78255940e+04,   3.59381366e+05,\n",
       "         4.64158883e+06,   5.99484250e+07,   7.74263683e+08,\n",
       "         1.00000000e+10])"
      ]
     },
     "execution_count": 30,
     "metadata": {},
     "output_type": "execute_result"
    }
   ],
   "source": [
    "x2 = np.logspace(0,10,10,base=10)\n",
    "x2"
   ]
  },
  {
   "cell_type": "markdown",
   "metadata": {},
   "source": [
    "### Scipy - biblioteca de algoritmos científicos\n",
    " \n",
    "O módulo `SciPy`, construído sob o módulo de baixo nível `NumPy` provee um grande número de algoritmos científicos robustos.  Alguns tópicos que o `SciPy` cobre são:\n",
    "\n",
    "* Funções especiais ([scipy.special](http://docs.scipy.org/doc/scipy/reference/special.html))\n",
    "* Integração numérica ([scipy.integrate](http://docs.scipy.org/doc/scipy/reference/integrate.html))\n",
    "* Interpolação ([scipy.interpolate](http://docs.scipy.org/doc/scipy/reference/interpolate.html))\n",
    "* Transformada de Fourier ([scipy.fftpack](http://docs.scipy.org/doc/scipy/reference/fftpack.html))\n",
    "* Algebra linear ([scipy.linalg](http://docs.scipy.org/doc/scipy/reference/linalg.html))\n",
    "* Estatística ([scipy.stats](http://docs.scipy.org/doc/scipy/reference/stats.html))\n",
    "* Leitura e escrita de dados ([scipy.io](http://docs.scipy.org/doc/scipy/reference/io.html))\n",
    "\n",
    "Cada um desses módulos contém funções e classes que podem ser usados para resolver problemas nos seus respeitivos tópicos.\n",
    "\n",
    "No seu momento iremos trabalhar com alguns deles. \n"
   ]
  },
  {
   "cell_type": "markdown",
   "metadata": {},
   "source": [
    "### Matplotlib - gráficos em 2D e 3D\n",
    "\n",
    "`matplotlib` é uma excelente biblioteca de funções que permite criar figuras científicas de alta qualidade em 2D e 3D. Algumas das vantagens de `matplotlib` são:\n",
    "\n",
    "* fácil de usar\n",
    "* suporta texto com fontes e formato de LaTeX\n",
    "* Permite controlar cada elemento da fígura: posição, tamanho e resolução\n",
    "* Saídas de alta qualidade em diferentes formatos: PNG, PDF, SVG, PDF e PGF\n",
    "*  GUI para trabalhar com as figuras de forma interativa (não funciona em jupyter)\n",
    "\n",
    "Todos os aspectos da figura podem ser controlados atraves de uma sequência de linhas de código. Esta característica, mesmo parecendo complexa, é fundamental para a reproducibilidade das figuras, ou para atualizar as figuras quando uma pequena mudança acontece nos dados, por exemplo.\n",
    "\n",
    "Informação detalhada sobre Matplotlib pode ser encontrada em [http://matplotlib.org](http://matplotlib.org/).\n",
    "\n",
    "Para poder criar figuras de `matplotlib` dentro dos notebooks de jupyter, e não abrir uma nova janela para cada figura usamos o comando"
   ]
  },
  {
   "cell_type": "code",
   "execution_count": 7,
   "metadata": {
    "collapsed": true
   },
   "outputs": [],
   "source": [
    "%matplotlib inline"
   ]
  },
  {
   "cell_type": "markdown",
   "metadata": {},
   "source": [
    "Começamos importando o modulo de `matplotlib`"
   ]
  },
  {
   "cell_type": "code",
   "execution_count": 8,
   "metadata": {
    "collapsed": true
   },
   "outputs": [],
   "source": [
    "import matplotlib\n",
    "import matplotlib.pyplot as plt\n",
    "import numpy as np"
   ]
  },
  {
   "cell_type": "markdown",
   "metadata": {},
   "source": [
    "Agora vamos a usar as funções que estão no modulo importado `plt` para criar figuras facilmente"
   ]
  },
  {
   "cell_type": "code",
   "execution_count": 15,
   "metadata": {
    "scrolled": true
   },
   "outputs": [
    {
     "data": {
      "image/png": "[encoded data removed]",
      "text/plain": [
       "<Figure size 432x288 with 1 Axes>"
      ]
     },
     "metadata": {},
     "output_type": "display_data"
    }
   ],
   "source": [
    "#criamos uma função\n",
    "def square(x):\n",
    "    return x**2\n",
    "\n",
    "#agora vamos criar valores para x usando numpy\n",
    "x = np.linspace(1,10,10)\n",
    "y = square(x)\n",
    "\n",
    "# agora fazemos a gráfica\n",
    "plt.figure()\n",
    "plt.plot(x,y,color='g',marker='h',linewidth=4,linestyle='--')\n",
    "plt.xlabel('x')\n",
    "plt.ylabel('y')\n",
    "plt.show()"
   ]
  },
  {
   "cell_type": "code",
   "execution_count": 12,
   "metadata": {
    "collapsed": true
   },
   "outputs": [],
   "source": [
    "plt.plot?"
   ]
  },
  {
   "cell_type": "markdown",
   "metadata": {},
   "source": [
    "Essa forma de uso é similar à usada em MATLAB.  \n",
    "Podemos também criar figuras múltiples, assim"
   ]
  },
  {
   "cell_type": "code",
   "execution_count": 4,
   "metadata": {},
   "outputs": [
    {
     "data": {
      "text/plain": [
       "<matplotlib.text.Text at 0x7fc15bfbd4d0>"
      ]
     },
     "execution_count": 4,
     "metadata": {},
     "output_type": "execute_result"
    },
    {
     "data": {
      "image/png": "[encoded data removed]",
      "text/plain": [
       "<matplotlib.figure.Figure at 0x7fc1601034d0>"
      ]
     },
     "metadata": {},
     "output_type": "display_data"
    }
   ],
   "source": [
    "plt.subplot(2,1,1)\n",
    "plt.plot(x, y, 'r--') # os parametros entre as aspas definem a cor e o tipo de linha\n",
    "# se queremos usar fontes tipo LaTeX usamos\n",
    "plt.ylabel(r'$y$')\n",
    "plt.xlabel(r'$x$')\n",
    "\n",
    "plt.subplot(2,1,2)\n",
    "plt.plot(x,1./y, 'g*-'); # cor + simbolo + tipo de linha\n",
    "plt.ylabel(r'$1/y$')\n",
    "plt.xlabel(r'$x$')\n"
   ]
  },
  {
   "cell_type": "markdown",
   "metadata": {},
   "source": [
    "#### API de `matplotlib` orientada a objetos\n",
    "\n",
    "A ideia principal da programação orientada a objetos é ter objetos sob os quais seja possível aplicar funções ou ações, porém, nenhum desses objetos deve ser global, tal como são as figuras criadas acima usando `plt.figure()` ou `plt.subplot()`.\n",
    "\n",
    "Com a API orientada a objetos de `matplotlib` ao invés de criar a nova figura global, armazenamos a referência a uma figura numa variável, no exemplo abaixo chamada `fig`.  A partir dela criamos a instância eixos (`axes` ou `ax`) usando o método `add_axes` na instancia `fig`. "
   ]
  },
  {
   "cell_type": "code",
   "execution_count": 31,
   "metadata": {},
   "outputs": [
    {
     "data": {
      "image/png": "[encoded data removed]",
      "text/plain": [
       "<Figure size 432x288 with 1 Axes>"
      ]
     },
     "metadata": {},
     "output_type": "display_data"
    }
   ],
   "source": [
    "# a variável fig é uma instância one esta\n",
    "# armazenada a nova figura\n",
    "fig = plt.figure()\n",
    "\n",
    "# a variável axes usa a função add_axes para \n",
    "# adicionar exios a instância fig\n",
    "# axes: esquerda, abaixo, largura, altura (valores de 0 a 1)\n",
    "axes = fig.add_axes([0., 0.1, 0.5, 0.5]) \n",
    "\n",
    "axes.plot(x, y, 'r')\n",
    "\n",
    "axes.set_xlabel(r'$x$')\n",
    "axes.set_ylabel(r'$y=x^2$')\n",
    "axes.set_title('title');"
   ]
  },
  {
   "cell_type": "markdown",
   "metadata": {},
   "source": [
    "As vantagens de programar figuras em forma de objetos realmente aparecem quando queremos criar várias figuras. Nesse caso, usamos `add_axes` mais de uma vez, definindo os eixos de cada uma das nossas figuras."
   ]
  },
  {
   "cell_type": "code",
   "execution_count": 24,
   "metadata": {
    "scrolled": true
   },
   "outputs": [
    {
     "data": {
      "image/png": "[encoded data removed]",
      "text/plain": [
       "<Figure size 432x288 with 2 Axes>"
      ]
     },
     "metadata": {},
     "output_type": "display_data"
    }
   ],
   "source": [
    "fig = plt.figure()\n",
    "\n",
    "axes1 = fig.add_axes([0.1, 0.1, 0.8, 0.8]) # eixos principais\n",
    "axes2 = fig.add_axes([0.2, 0.5, 0.3, 0.3]) # eixos internos\n",
    "\n",
    "# figura principal\n",
    "axes1.plot(x, y, 'r')\n",
    "axes1.set_xlabel(r'$x$')\n",
    "axes1.set_ylabel(r'$y$')\n",
    "axes1.set_title('title')\n",
    "\n",
    "# figura inserida dentro da figura principal\n",
    "axes2.plot(y, x, 'g')\n",
    "axes2.set_xlabel(r'$y$')\n",
    "axes2.set_ylabel(r'$x$')\n",
    "axes2.set_title('insert title');"
   ]
  },
  {
   "cell_type": "markdown",
   "metadata": {},
   "source": [
    "#### Legendas\n",
    "\n",
    "Para adicionar uma legenda na figura, usamos a função legend para adicionar a legenda à figura que está na instancia `ax`, que por sua vez está na instância mais geral chamada `fig`. Assim:"
   ]
  },
  {
   "cell_type": "code",
   "execution_count": 9,
   "metadata": {
    "scrolled": true
   },
   "outputs": [
    {
     "data": {
      "image/png": "[encoded data removed]",
      "text/plain": [
       "<matplotlib.figure.Figure at 0x7fc15bb78750>"
      ]
     },
     "metadata": {},
     "output_type": "display_data"
    }
   ],
   "source": [
    "# Aqui os eixos são criados automaticamente\n",
    "# pela função subplots\n",
    "# ax é uma instância de fig\n",
    "fig, ax = plt.subplots()\n",
    "\n",
    "# fazemos as curvas na instância ax\n",
    "ax.plot(x, x**2, label=r\"$y = \\alpha^2$\")\n",
    "ax.plot(x, x**3, label=r\"$y = \\alpha^3$\")\n",
    "\n",
    "#adicionamos a legenda\n",
    "# loc=1 (acima a direita)\n",
    "# loc=2 (acima a esquerda)\n",
    "# loc=3 (abaixo a esquerda)\n",
    "# loc=4 (abaixo a direita)\n",
    "ax.legend(loc=2) \n",
    "ax.set_xlabel(r'$\\alpha$')\n",
    "ax.set_ylabel(r'$y$')\n",
    "ax.set_title('title');"
   ]
  },
  {
   "cell_type": "markdown",
   "metadata": {},
   "source": [
    "O que aprendimos até o momento é suficiente para começar a brincar com a física usando Python."
   ]
  },
  {
   "cell_type": "code",
   "execution_count": 1,
   "metadata": {},
   "outputs": [
    {
     "data": {
      "image/jpeg": "[encoded data removed]",
      "text/html": [
       "\n",
       "        <iframe\n",
       "            width=\"400\"\n",
       "            height=\"300\"\n",
       "            src=\"https://www.youtube.com/embed/ZYgFuUl9_Vs\"\n",
       "            frameborder=\"0\"\n",
       "            allowfullscreen\n",
       "            \n",
       "        ></iframe>\n",
       "        "
      ],
      "text/plain": [
       "<IPython.lib.display.YouTubeVideo at 0x7fb630713190>"
      ]
     },
     "execution_count": 1,
     "metadata": {},
     "output_type": "execute_result"
    }
   ],
   "source": [
    "from IPython.display import YouTubeVideo\n",
    "# Experimento do circuito RLC\n",
    "# Creditos: MITTECHTV\n",
    "# No video L e C são variáveis, a voltagem é 120 VAC\n",
    "# e a lámpada é de 200 W\n",
    "YouTubeVideo('ZYgFuUl9_Vs')"
   ]
  },
  {
   "cell_type": "markdown",
   "metadata": {},
   "source": [
    "## *Aplicação 1*: o circuito RLC\n",
    "\n",
    "Em circuitos elétricos com correntes e voltagens que oscilam com fases, $\\theta$\n",
    "diferentes, trabalhar com funções trigonométricas pode ser dificil. Exemplo disso é o circuito RLC, para o qual pode se encontrar uma solução analítica. No entanto, entender e interpretar essa solução não é simples em termos de funções harmônicas.  Podemos trabalhar com funções do tipo, $e^{-i\\omega t}$ (numeros complexos), que são faceis de manipular. Temos que lembrar que a voltagem e a corrente correspondem à parte real dessas funções.\n",
    "\n",
    "<img src=\"Figs/rlc.png\" width=40% >  \n",
    "\n",
    "A equação que descreve a corrente no circuito é:\n",
    "\n",
    "\\begin{equation}\n",
    "\\frac{dV}{dt} = R \\frac{dI}{dt} + L \\frac{d^2I}{dt^2} + \\frac{I}{C}\n",
    "\\end{equation}\n",
    "\n",
    "\n",
    "Considerando, $V=V_0 e^{-i\\omega t}$ e assumindo um resultado da forma $I=I_0 e^{-i\\omega t}$ obtemos:  \n",
    "\n",
    "\n",
    "\\begin{equation}\n",
    "I(t) = \\frac{1}{Z} V_0 e^{-i \\omega t} \\;,\n",
    "\\end{equation}\n",
    "\n",
    "onde\n",
    "\\begin{equation}\n",
    "Z = R + i \\left(\\frac{1}{\\omega C} - \\omega L \\right) \\;.\n",
    "\\end{equation}\n",
    "\n",
    "Logo,\n",
    "\n",
    "\\begin{equation}\n",
    "I(t) = \\frac{V_0}{|Z|} e^{-i (\\omega t + \\theta)} = \\frac{V_0}{|Z|} \n",
    "     \\left[\\cos(\\omega t + \\theta) - i \\sin(\\omega t + \\theta) \\right] \\;,\n",
    "\\end{equation}\n",
    "\n",
    "com\n",
    "\\begin{equation}\n",
    "|Z| = \\sqrt{ R^2 + \\left(\\frac{1}{\\omega C} - \\omega L \\right)^2}   \\;, \\;  {\\rm e} \\; \\; \n",
    "       \\theta = \\tan^{-1}\\left( \\frac{1/\\omega C - \\omega L}{R} \\right)\n",
    "\\end{equation}\n",
    "\n",
    "### Atividade\n",
    "\n",
    "Utilize a classe Complex (qualquer um delas) para estudar os resultados do circuito RLC. Crie mais funções dentro da classe se for necessário.\n",
    "Considere para a indutância $L=1000$ Henry, e para a Capacitancia, $C=1/1000$ Faradios. \n",
    "\n",
    "1. Para $R = 1000/1.5$ $\\Omega$ e $\\omega = 1/\\sqrt{LC}$, grafique na mesma figura a corrente, $I$ e a voltagem $V$ como função do tempo. \n",
    "\n",
    "2. Para trés valores diferentes da resistência, $R = 1000/1.5 \\;, 1000/2 \\; {\\rm e} \\; 1000/5.2$, faça um gráfico de $1/|Z|$ vs $\\omega$, para $0 < \\omega \\le 2/\\sqrt{LC}$. Utilize as funções np.max() e np.min() para determinar o valor da frequência de resonância. \n",
    "\n",
    "3. Para os mesmos valores da resistência, grafique $\\theta$ vs $\\omega$.\n",
    "\n",
    "4. No vídeo acima, o valor que muda é a indutância. Para um valor fixo, $\\omega = 1.5$ Hz, compare $1/|Z|$ com $L$ e identifique o valor de $L$ no qual o circuito é resonante. \n",
    "\n",
    "Divertam-se. "
   ]
  },
  {
   "cell_type": "code",
   "execution_count": null,
   "metadata": {
    "collapsed": true
   },
   "outputs": [],
   "source": []
  },
  {
   "cell_type": "code",
   "execution_count": null,
   "metadata": {
    "collapsed": true
   },
   "outputs": [],
   "source": []
  }
 ],
 "metadata": {
  "kernelspec": {
   "display_name": "Python 3 (ipykernel)",
   "language": "python",
   "name": "python3"
  },
  "language_info": {
   "codemirror_mode": {
    "name": "ipython",
    "version": 3
   },
   "file_extension": ".py",
   "mimetype": "text/x-python",
   "name": "python",
   "nbconvert_exporter": "python",
   "pygments_lexer": "ipython3",
   "version": "3.9.13"
  }
 },
 "nbformat": 4,
 "nbformat_minor": 2
}
