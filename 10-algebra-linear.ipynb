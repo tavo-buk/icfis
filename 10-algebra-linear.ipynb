{
 "cells": [
  {
   "cell_type": "markdown",
   "metadata": {},
   "source": [
    "## Algebra matricial \n",
    "\n",
    "Nesse capitulo estudamos a forma de manipular matrices e vetores numéricamente. Usando\n",
    "esses objetos aprendemos a resolver sistemas de equações lineares que aparecem em\n",
    "muitas áreas da ciência.\n",
    "\n",
    "Mesmo estudando a forma de resolver sistemas de equações usando matrizes, não vamos escrever nossas rotinas mas usaremos as rotinas sofisticadas da biblioteca [`numpy.linalg`](https://docs.scipy.org/doc/numpy-1.13.0/reference/routines.linalg.html), estudaremos, no entanto, as bases matemáticas.\n"
   ]
  },
  {
   "cell_type": "markdown",
   "metadata": {},
   "source": [
    "###  propriedades matemáticas das matrizes\n",
    "\n",
    "Trabalharemos com matrizes do tipo  ${\\bf A}$ de  $n\\times n$ elementos, sendo  ${\\bf A}$\n",
    "real ou complexa. Ex:\n",
    "\n",
    "$$\n",
    "\\mathbf{A} =\n",
    "      \\begin{bmatrix} a_{11} & a_{12} & a_{13} & a_{14} \\\\\n",
    "                                 a_{21} & a_{22} & a_{23} & a_{24} \\\\\n",
    "                                   a_{31} & a_{32} & a_{33} & a_{34} \\\\\n",
    "                                  a_{41} & a_{42} & a_{43} & a_{44}\n",
    "             \\end{bmatrix}\\qquad\n",
    "\\mathbf{I} =\n",
    "      \\begin{bmatrix} 1 & 0 & 0 & 0 \\\\\n",
    "                                 0 & 1 & 0 & 0 \\\\\n",
    "                                 0 & 0 & 1 & 0 \\\\\n",
    "                                 0 & 0 & 0 & 1\n",
    "             \\end{bmatrix}\n",
    "$$\n",
    "\n",
    "\n",
    "O inverso dessa matriz, se existe, é tal que ${\\bf A}^{-1}\\cdot {\\bf A} = {\\bf I}$. $a_{ij}$ se refer  a um elemento da matriz na fila $i$ e na columna $j$.  Um vetor é um array  unidimensional, ${\\bf x}$, da forma:"
   ]
  },
  {
   "cell_type": "markdown",
   "metadata": {},
   "source": [
    "###  propriedades matemáticas das matrizes\n",
    "\n",
    "\n",
    "<table border=\"1\" style=\"width:80%\"  >\n",
    "<thead>\n",
    "<tr><th align=\"center\">              Relations               </th> <th align=\"center\">      Name     </th> <th align=\"center\">                            matrix elements                            </th> </tr>\n",
    "</thead>\n",
    "<tbody>\n",
    "<tr><td align=\"center\">   $A = A^{T}$ </td> <td align=\"center\">   symmetric  </td> <td align=\"center\">   $a_{ij} = a_{ji}$  </td> </tr>\n",
    " \n",
    "<tr><td align=\"center\">   $A = \\left (A^{T} \\right )^{-1}$          </td> <td align=\"center\">   real ortogonal    </td> <td align=\"center\">   $\\sum_k a_{ik} a_{jk} = \\sum_k a_{ki} a_{kj} = \\delta_{ij}$                </td> </tr>\n",
    "<tr><td align=\"center\">   $A = A^{ * }$                             </td> <td align=\"center\">   real matrix        </td> <td align=\"center\">   $a_{ij} = a_{ij}^{ * }$                                                    </td> </tr>\n",
    "<tr><td align=\"center\">   $A = A^{\\dagger}$                         </td> <td align=\"center\">   hermitian          </td> <td align=\"center\">   $a_{ij} = a_{ji}^{ * }$                                                    </td> </tr>\n",
    "<tr><td align=\"center\">   $A = \\left (A^{\\dagger} \\right )^{-1}$    </td> <td align=\"center\">   unitary            </td> <td align=\"center\">   $\\sum_k a_{ik} a_{jk}^{ * } = \\sum_k a_{ki}^{ * } a_{kj} = \\delta_{ij}$    </td> </tr>\n",
    "</tbody>\n",
    "</table>\n",
    "\n",
    "### Definições:\n",
    "\n",
    "* **Matriz Hermitiana**: Uma matriz é dita Hermitiana ou auto-adjunta se for idéntica à sua transposta conjugada.\n",
    "* **Matriz transposta conjugada**: a matriz transposta conjugada da matriz $A$ de $n \\times m$ é outra matriz $n \\times m$, formada pelo complexo conjugado da matriz transposta, $A^T$. Costuma se denotar por $A^{*}$.\n",
    "\n",
    "\n",
    "\n",
    "### Algumas matrizes famosas\n",
    "\n",
    "  * Diagonal if $a_{ij}=0$ for $i\\ne j$\n",
    "\n",
    "  * Upper triangular if $a_{ij}=0$ for $i > j$\n",
    "\n",
    "  * Lower triangular if $a_{ij}=0$ for $i < j$\n",
    "\n",
    "  * Tridiagonal if $a_{ij}=0$ for $|i -j| > 1$\n",
    "\n",
    "\n",
    "\n"
   ]
  },
  {
   "cell_type": "markdown",
   "metadata": {},
   "source": [
    "### Propriedades das matrizes\n",
    "\n",
    "\n",
    "Para uma matriz $N\\times N$,   $\\mathbf{A}$ as seguintes propriedades são todas equivalentes\n",
    "\n",
    "  * Se a inversa de $\\mathbf{A}$ existe, $\\mathbf{A}$ é não singular.\n",
    "\n",
    "  * A equação  $\\mathbf{Ax}=0$ implica $\\mathbf{x}=0$.\n",
    "\n",
    "  * As filas de $\\mathbf{A}$ formam uma base de $R^N$.\n",
    "\n",
    "  * As colunas de $\\mathbf{A}$ formam uma base de $R^N$.\n",
    "\n",
    "  * $\\mathbf{A}$ é um produto de matrizes elementares.\n",
    "\n",
    "  * $0$ não é um autovalor de $\\mathbf{A}$."
   ]
  },
  {
   "cell_type": "markdown",
   "metadata": {},
   "source": [
    "### Operações matemáticas importantes com matrizes\n",
    "\n",
    "#### Soma e substração \n",
    "\n",
    "<!-- Equation labels as ordinary links -->\n",
    "<div id=\"eq:mtxadd\"></div>\n",
    "$$\n",
    "\\begin{equation}\n",
    "\\mathbf{A}= \\mathbf{B}\\pm\\mathbf{C}  \\Longrightarrow a_{ij} = b_{ij}\\pm c_{ij},\n",
    "\\label{eq:mtxadd} \\tag{1}\n",
    "\\end{equation}\n",
    "$$\n"
   ]
  },
  {
   "cell_type": "markdown",
   "metadata": {},
   "source": [
    "#### multiplicação escalar-matriz\n",
    "\n",
    "<!-- Equation labels as ordinary links -->\n",
    "<div id=\"_auto1\"></div>\n",
    "$$\n",
    "\\begin{equation}\n",
    "\\mathbf{A}= \\gamma\\mathbf{B}  \\Longrightarrow a_{ij} = \\gamma b_{ij},\n",
    "\\label{_auto1} \\tag{2}\n",
    "\\end{equation}\n",
    "$$"
   ]
  },
  {
   "cell_type": "markdown",
   "metadata": {},
   "source": [
    "#### Multiplicação vetor-matriz\n",
    "\n",
    "<!-- Equation labels as ordinary links -->\n",
    "<div id=\"eq:vecmtx\"></div>\n",
    "\n",
    "$$\n",
    "\\begin{equation}\n",
    "\\mathbf{y}=\\mathbf{Ax}   \\Longrightarrow y_{i} = \\sum_{j=1}^{n} a_{ij}x_j,\n",
    "\\label{eq:vecmtx} \\tag{3}\n",
    "\\end{equation}\n",
    "$$"
   ]
  },
  {
   "cell_type": "markdown",
   "metadata": {},
   "source": [
    "#### Multiplicação Matriz-Matriz\n",
    "\n",
    "<!-- Equation labels as ordinary links -->\n",
    "<div id=\"eq:mtxmtx\"></div>\n",
    "$$\n",
    "\\begin{equation}\n",
    "\\mathbf{A}=\\mathbf{BC}   \\Longrightarrow a_{ij} = \\sum_{k=1}^{n} b_{ik}c_{kj},\n",
    "\\label{eq:mtxmtx} \\tag{4}\n",
    "\\end{equation}\n",
    "$$"
   ]
  },
  {
   "cell_type": "markdown",
   "metadata": {},
   "source": [
    "#### Transposição\n",
    "\n",
    "<!-- Equation labels as ordinary links -->\n",
    "<div id=\"_auto2\"></div>\n",
    "\n",
    "$$\n",
    "\\begin{equation}\n",
    "\\mathbf{A}=\\mathbf{B}^T   \\Longrightarrow a_{ij} = b_{ji}\n",
    "\\label{_auto2} \\tag{5}\n",
    "\\end{equation}\n",
    "$$"
   ]
  },
  {
   "cell_type": "markdown",
   "metadata": {},
   "source": [
    "### Operações matemáticas importantes com vetores\n",
    "\n",
    "#### soma e substração\n",
    "\n",
    "<!-- Equation labels as ordinary links -->\n",
    "<div id=\"_auto3\"></div>\n",
    "\n",
    "$$\n",
    "\\begin{equation}\n",
    "\\mathbf{x}= \\mathbf{y}\\pm\\mathbf{z}  \\Longrightarrow x_{i} = y_{i}\\pm z_{i},\n",
    "\\label{_auto3} \\tag{6}\n",
    "\\end{equation}\n",
    "$$"
   ]
  },
  {
   "cell_type": "markdown",
   "metadata": {},
   "source": [
    "#### Multiplicação escalar-vetor\n",
    "\n",
    "<!-- Equation labels as ordinary links -->\n",
    "<div id=\"_auto4\"></div>\n",
    "\n",
    "$$\n",
    "\\begin{equation}\n",
    "\\mathbf{x}= \\gamma\\mathbf{y}  \\Longrightarrow x_{i} = \\gamma y_{i},\n",
    "\\label{_auto4} \\tag{7}\n",
    "\\end{equation}\n",
    "$$"
   ]
  },
  {
   "cell_type": "markdown",
   "metadata": {},
   "source": [
    "#### Multiplicação vetor-vetor (multiplicação de Hadamard)\n",
    "\n",
    "*note que o resultado é um vetor*\n",
    "\n",
    "<!-- Equation labels as ordinary links -->\n",
    "<div id=\"_auto5\"></div>\n",
    "\n",
    "$$\n",
    "\\begin{equation}\n",
    "\\mathbf{x}=\\mathbf{yz}   \\Longrightarrow x_{i} = y_{i}z_i,\n",
    "\\label{_auto5} \\tag{8}\n",
    "\\end{equation}\n",
    "$$"
   ]
  },
  {
   "cell_type": "markdown",
   "metadata": {},
   "source": [
    "#### Produto interno ou produto escalar\n",
    "\n",
    "*o resultado é um escalar*\n",
    "\n",
    "<!-- Equation labels as ordinary links -->\n",
    "<div id=\"eq:innerprod\"></div>\n",
    "\n",
    "$$\n",
    "\\begin{equation}\n",
    "x=\\mathbf{y}^T\\mathbf{z}   \\Longrightarrow x = \\sum_{j=1}^{n} y_{j}z_{j},\n",
    "\\label{eq:innerprod} \\tag{9}\n",
    "\\end{equation}\n",
    "$$"
   ]
  },
  {
   "cell_type": "markdown",
   "metadata": {},
   "source": [
    "#### Produto externo\n",
    "\n",
    "*cujo resultado é uma matriz* \n",
    "\n",
    "<!-- Equation labels as ordinary links -->\n",
    "<div id=\"eq:outerprod\"></div>\n",
    "\n",
    "$$\n",
    "\\begin{equation}\n",
    "\\mathbf{A}=  \\mathbf{yz}^T \\Longrightarrow  a_{ij} = y_{i}z_{j},\n",
    "\\label{eq:outerprod} \\tag{10}\n",
    "\\end{equation}\n",
    "$$"
   ]
  },
  {
   "cell_type": "markdown",
   "metadata": {},
   "source": [
    "#### Norma de um vetor \n",
    "\n",
    "<!-- Equation labels as ordinary links -->\n",
    "<div id=\"eq:norm\"></div>\n",
    "$$\n",
    "\\begin{equation}\n",
    "|| {\\bf x} ||_p = (|x_1|^p + |x_2|^p + ... + |x_n|^p )^{1/p} \n",
    "\\label{eq:norm} \\tag{11}\n",
    "\\end{equation}\n",
    "$$"
   ]
  },
  {
   "cell_type": "markdown",
   "metadata": {},
   "source": [
    "#### Relação de Cauchy-Schwartz \n",
    "\n",
    "para todo ${\\bf x}$ real ou complexo, o produto interno satisfaz:\n",
    "\n",
    "$$\n",
    "\\begin{equation}\n",
    "|{\\bf x}^T {\\bf y}| \\le ||x||_2 ||y||_2\n",
    "\\label{eq:cauchy1} \\tag{12}\n",
    "\\end{equation}\n",
    "$$\n",
    "\n",
    "a partir da qual temos que para todos ${\\bf x}$ e ${\\bf y}$, o produto escalar satisfaz \n",
    "\n",
    "$$\n",
    "\\begin{equation}\n",
    "||{\\bf x} + {\\bf y}|| \\le ||x||_2 + ||y||_2\n",
    "\\label{eq:cauchy2} \\tag{13}\n",
    "\\end{equation}\n",
    "$$.\n"
   ]
  },
  {
   "cell_type": "markdown",
   "metadata": {},
   "source": [
    "### Declaração de matrices \n",
    "\n",
    "Em `numpy` declaramos as matrices como arrays multidimensionais:\n"
   ]
  },
  {
   "cell_type": "code",
   "execution_count": 2,
   "metadata": {},
   "outputs": [],
   "source": [
    "import numpy as np"
   ]
  },
  {
   "cell_type": "code",
   "execution_count": 3,
   "metadata": {},
   "outputs": [
    {
     "data": {
      "text/plain": [
       "array([[1, 3, 4],\n",
       "       [3, 4, 6],\n",
       "       [4, 6, 8]])"
      ]
     },
     "execution_count": 3,
     "metadata": {},
     "output_type": "execute_result"
    }
   ],
   "source": [
    "A = np.array([[1,3,4],[3,4,6],[4,6,8]])\n",
    "A"
   ]
  },
  {
   "cell_type": "code",
   "execution_count": 4,
   "metadata": {},
   "outputs": [
    {
     "data": {
      "text/plain": [
       "array([2, 4, 6])"
      ]
     },
     "execution_count": 4,
     "metadata": {},
     "output_type": "execute_result"
    }
   ],
   "source": [
    "B = np.array([2,4,6])\n",
    "B"
   ]
  },
  {
   "cell_type": "code",
   "execution_count": 5,
   "metadata": {},
   "outputs": [
    {
     "data": {
      "text/plain": [
       "array([38, 58, 80])"
      ]
     },
     "execution_count": 5,
     "metadata": {},
     "output_type": "execute_result"
    }
   ],
   "source": [
    "A.dot(B)"
   ]
  },
  {
   "cell_type": "markdown",
   "metadata": {},
   "source": [
    "Devemos ser cuidadosos ao trabalhar com matrices em Python, pois Python, assim como C e C++, organiza as matrices na memoria considerando primeiro as filas (*row major*). Fortran organiza as matrices começando pelas colunas (*column major*). \n",
    "\n",
    "As figuras seguintes ilustram ambos esquemas:\n",
    "\n",
    "\n",
    "<img src=\"Figs/decl-both2.png\" width=80% >\n",
    "<img src=\"Figs/decl-both.png\" width=80% >"
   ]
  },
  {
   "cell_type": "markdown",
   "metadata": {},
   "source": [
    "## Atividade\n",
    "\n",
    "1. Vamos agora usar a equação (4) para multiplicar duas matrices. Começamos com duas matrices pequenas, a matriz A definida acima, e a matriz C:"
   ]
  },
  {
   "cell_type": "code",
   "execution_count": 11,
   "metadata": {},
   "outputs": [
    {
     "data": {
      "text/plain": [
       "array([[-1.  ,  0.  ,  0.5 ],\n",
       "       [ 0.  , -2.  ,  1.5 ],\n",
       "       [ 0.5 ,  1.5 , -1.25]])"
      ]
     },
     "execution_count": 11,
     "metadata": {},
     "output_type": "execute_result"
    }
   ],
   "source": [
    "C = np.array([[-1,  0,  0.5],[0, -2,  1.5],[ 0.5,  1.5, -1.25]])\n",
    "C"
   ]
  },
  {
   "cell_type": "code",
   "execution_count": 13,
   "metadata": {},
   "outputs": [
    {
     "name": "stdout",
     "output_type": "stream",
     "text": [
      "3\n"
     ]
    }
   ],
   "source": [
    "m, n = C.shape\n",
    "print(n)"
   ]
  },
  {
   "cell_type": "markdown",
   "metadata": {},
   "source": [
    "2. Quando verificarmos que nossa rotina funciona, vamos fazer operações computacionalmente mais exigentes, vamos criar matrizes $n \\times n$ com $n = 100$. \n",
    "\n",
    "3. Utilizando o módulo `time` vamos comparar a velocidade da função criada por vcs com as rotinas do numpy `matmul` e `dot`. Grafique o tempo usado por cada rotina como função de $n$, para $n=10,100,1000,10000$.\n",
    "\n",
    "4. Escreva suas conclusões"
   ]
  },
  {
   "cell_type": "code",
   "execution_count": 8,
   "metadata": {},
   "outputs": [
    {
     "name": "stdout",
     "output_type": "stream",
     "text": [
      "tempo usado =  0.016446352005004883\n"
     ]
    }
   ],
   "source": [
    "import time\n",
    "\n",
    "n = 1000\n",
    "s = 1./np.sqrt(float(n))\n",
    "a1 = np.zeros([n,n])\n",
    "\n",
    "for i in range(n):\n",
    "    for j in range(n):\n",
    "        angulo = 2.*np.pi*(i-1)*(j-1)/float(n)\n",
    "        a1[i,j] = s * (np.sin(angulo) + np.cos(angulo))\n",
    "        \n",
    "b1 = np.copy(a1)\n",
    "t = time.time()\n",
    "c1 = np.matmul(a1,b1)\n",
    "t = time.time() - t\n",
    "print('tempo usado = ', t)"
   ]
  },
  {
   "cell_type": "code",
   "execution_count": 9,
   "metadata": {},
   "outputs": [
    {
     "name": "stdout",
     "output_type": "stream",
     "text": [
      "tempo usado =  0.03328728675842285\n"
     ]
    }
   ],
   "source": [
    "t = time.time()\n",
    "d1 = np.dot(a1,b1)\n",
    "t = time.time() - t\n",
    "print('tempo usado = ', t)"
   ]
  },
  {
   "cell_type": "code",
   "execution_count": 10,
   "metadata": {},
   "outputs": [],
   "source": [
    "# Função para multiplicar duas matrizes\n",
    "\n",
    "def mult_mat(A,B):\n",
    "    # extraimos a dimensão, m x n, da matriz A\n",
    "    m, n = A.shape\n",
    "    # e o numero de colunas da matriz B\n",
    "    p = B.shape[1]\n",
    "\n",
    "    C = np.zeros((m,p))\n",
    "\n",
    "    for i in range(0,m):\n",
    "        for j in range(0,p):\n",
    "            for k in range(0,n):\n",
    "                C[i,j] += A[i,k]*B[k,j] \n",
    "    return C"
   ]
  },
  {
   "cell_type": "markdown",
   "metadata": {},
   "source": [
    "## Sistemas lineares\n",
    "\n",
    "O problema mais básico a ser resolvido usando matrizes é do tipo:\n",
    "\n",
    "$$\n",
    "{\\bf A} {\\bf x} = {\\bf b} \\;,  \\; {\\bf A}_{N \\times N}  \\; {\\bf x}_{N \\times 1} = {\\bf b}_{N \\times 1}\n",
    "$$\n",
    "\n",
    "As melhores formas de resolver esses sistemas são a decomposição Gaussiana ou a decomposição LU (*lower* -- *upper*). \n",
    "\n",
    "\n",
    "Outro método é determinar a matriz inversa de ${\\bf A}$, e encontrar a solução multiplicando ambos os lados da equação por ${\\bf A}^{-1}$ :\n",
    "\n",
    "$$\n",
    "{\\bf x} =  {\\bf A}^{-1} {\\bf b} \\;,\n",
    "$$\n",
    "\n",
    "**estudaremos métodos para resolver esse tipo de sistemas lineares**"
   ]
  },
  {
   "cell_type": "markdown",
   "metadata": {},
   "source": [
    "Se o problema a ser resolvido tém a forma:\n",
    "\n",
    "$$\n",
    "{\\bf A} {\\bf x} = \\lambda {\\bf x} \\;,\n",
    "$$\n",
    "\n",
    "sendo ${\\bf x}$ desconhecido e $\\lambda$ um parâmetro desconhecido, o sistema é um problema de  autovalores no qual a solução existe  unicamente para certos valores de  $\\lambda$. Usamos a matriz identidade para reescrever a equação como:\n",
    "\n",
    "$$\n",
    "[{\\bf A} - \\lambda {\\bf I}] {\\bf x} = 0 \\;,\n",
    "$$\n",
    "\n",
    "O sistema tém a solução trivial ${\\bf x} = 0$. Há outra solução que requer a existência de uma condição que proibe multiplicar ambos os lados da equação acima por $[{\\bf A} - \\lambda {\\bf I}]^{-1}$.\n",
    "(A condição da não existência do inverso).  Essa condição é cumplida quando:\n",
    "\n",
    "$$\n",
    "{\\rm det}[{\\bf A} - \\lambda {\\bf I}] = 0 \\;,\n",
    "$$\n",
    "\n",
    "Os valores de $\\lambda$ que satisfazem essa condição são os autovalores procurados.\n",
    "\n",
    "Nesse caso são necessárias rotinas que calculem o determinante de uma matriz e os zeros de um sistema de equações.\n",
    "\n",
    "**Esse tipo de problema não sera estudado nesse curso.**\n"
   ]
  },
  {
   "cell_type": "markdown",
   "metadata": {},
   "source": [
    "## Eliminação Gaussiana\n",
    "\n",
    "### Substituição *forward* e *backward* \n",
    "\n",
    "O método de substituição *forward* e *backward* é o método classico para resolver sistemas de equações. \n",
    "\n",
    "Nosso sistema de equações é:\n",
    "\n",
    "$$\n",
    "{\\bf A} {\\bf x} = {\\bf w} \\;,  D\\; {\\bf A}_{N \\times N}  \\; {\\bf x}_{N \\times 1} = {\\bf w}_{N \\times 1}\n",
    "$$ \n",
    "\n",
    "A matriz ${\\bf A}$ é não singular e que os elementos da diagonal principal não são nulos  (i.e., $a_{ii} \\ne 0$). Um exemplo de um sistema com uma matriz $4 \\times 4$\n",
    "\n",
    "$$\n",
    "\\begin{bmatrix}\n",
    "                           a_{11}& a_{12} &a_{13}& a_{14}\\\\\n",
    "                           a_{21}& a_{22} &a_{23}& a_{24}\\\\\n",
    "                           a_{31}& a_{32} &a_{33}& a_{34}\\\\\n",
    "                           a_{41}& a_{42} &a_{43}& a_{44}\\\\\n",
    "                      \\end{bmatrix} \\begin{bmatrix}\n",
    "                           x_1\\\\\n",
    "                           x_2\\\\\n",
    "                           x_3 \\\\\n",
    "                           x_4  \\\\\n",
    "                      \\end{bmatrix}\n",
    "  =\\begin{bmatrix}\n",
    "                           w_1\\\\\n",
    "                           w_2\\\\\n",
    "                           w_3 \\\\\n",
    "                           w_4\\\\\n",
    "                      \\end{bmatrix}.\n",
    "$$"
   ]
  },
  {
   "cell_type": "markdown",
   "metadata": {},
   "source": [
    "Que pode também ser escrito da forma\n",
    "\n",
    "$$\n",
    "a_{11}x_1 +a_{12}x_2 +a_{13}x_3 + a_{14}x_4=w_1 \\nonumber\n",
    "$$\n",
    "\n",
    "$$\n",
    "a_{21}x_1 + a_{22}x_2 + a_{23}x_3 + a_{24}x_4=w_2 \\nonumber\n",
    "$$\n",
    "\n",
    "$$\n",
    "a_{31}x_1 + a_{32}x_2 + a_{33}x_3 + a_{34}x_4=w_3 \\nonumber\n",
    "$$\n",
    "\n",
    "$$\n",
    "a_{41}x_1 + a_{42}x_2 + a_{43}x_3 + a_{44}x_4=w_4. \\nonumber\n",
    "$$"
   ]
  },
  {
   "cell_type": "markdown",
   "metadata": {},
   "source": [
    "A ideia é usar a primeira equação para eliminar $x_1$ das $n-1$ equações restantes. Logo, usamos a segunda equação para eliminar $x_2$ das $n-2$ equações restantes. Com $n-1$ eliminações do tipo encontramos uma matriz triangular da forma:\n",
    "\n",
    "<!-- Equation labels as ordinary links -->\n",
    "<div id=\"eq:gaussbacksub\"></div>\n",
    "\\begin{eqnarray}\n",
    "b_{11}x_1 +b_{12}x_2 +b_{13}x_3 + b_{14}x_4 &=& y_1 \\\\\\nonumber\n",
    "b_{22}x_2 + b_{23}x_3 + b_{24}x_4 &=& y_2 \\\\\\nonumber\n",
    "b_{33}x_3 + b_{34}x_4 &=& y_3 \\\\\\nonumber\n",
    "b_{44}x_4 &=& y_4\n",
    "\\label{eq:gaussbacksub} \\tag{14}\n",
    "\\end{eqnarray}\n",
    "\n",
    "Que pode ser resolvido recursivamente partindo de $x_n$ ($x_4$ para o caso)"
   ]
  },
  {
   "cell_type": "markdown",
   "metadata": {},
   "source": [
    "Esse processo pode se expressar matematicamente como\n",
    "\n",
    "<!-- Equation labels as ordinary links -->\n",
    "<div id=\"_auto6\"></div>\n",
    "\n",
    "$$\n",
    "\\begin{equation}\n",
    "   x_m = \\frac{1}{b_{mm}}\\left(y_m-\\sum_{k=m+1}^nb_{mk}x_k\\right)\\quad m=n-1,n-2,\\dots,1.\n",
    "\\label{_auto6} \\tag{15}\n",
    "\\end{equation}\n",
    "$$"
   ]
  },
  {
   "cell_type": "markdown",
   "metadata": {},
   "source": [
    "Para chegar ao sistema *upper triangular* começãmos elimnando $x_1$ para $j=2,..., n$. Fazemos isso multiplicando a primeira equação por $a_{j1}/a_{11}$ e depois substraindo o resultado da equação $j_{\\rm esima}$. \n",
    "\n",
    "Para o caso $4 \\times 4$ teremos:\n",
    "\n",
    "$$\n",
    "\\begin{bmatrix}\n",
    "                           a_{11}& a_{12} &a_{13}& a_{14}\\\\\n",
    "                           0& (a_{22}-\\frac{a_{21}a_{12}}{a_{11}}) &(a_{23}-\\frac{a_{21}a_{13}}{a_{11}}) & (a_{24}-\\frac{a_{21}a_{14}}{a_{11}})\\\\\n",
    "0& (a_{32}-\\frac{a_{31}a_{12}}{a_{11}})& (a_{33}-\\frac{a_{31}a_{13}}{a_{11}})& (a_{34}-\\frac{a_{31}a_{14}}{a_{11}})\\\\\n",
    "0&(a_{42}-\\frac{a_{41}a_{12}}{a_{11}}) &(a_{43}-\\frac{a_{41}a_{13}}{a_{11}}) & (a_{44}-\\frac{a_{41}a_{14}}{a_{11}}) \\\\\n",
    "                      \\end{bmatrix} \\begin{bmatrix}\n",
    "                           x_1\\\\\n",
    "                           x_2\\\\\n",
    "                           x_3 \\\\\n",
    "                           x_4  \\\\\n",
    "                      \\end{bmatrix} \n",
    "  =\\begin{bmatrix}\n",
    "                           y_1\\\\\n",
    "                           w_2^{(2)}\\\\\n",
    "                           w_3^{(2)} \\\\\n",
    "                           w_4^{(2)}\\\\\n",
    "                      \\end{bmatrix},\n",
    "$$"
   ]
  },
  {
   "cell_type": "markdown",
   "metadata": {},
   "source": [
    "ou\n",
    "\n",
    "\\begin{eqnarray}\n",
    "b_{11}x_1 +b_{12}x_2 +b_{13}x_3 + b_{14}x_4 &=& y_1 \\\\\\nonumber\n",
    "a^{(2)}_{22}x_2 + a^{(2)}_{23}x_3 + a^{(2)}_{24}x_4 &=& w^{(2)}_2 \\\\\\nonumber\n",
    "a^{(2)}_{32}x_2 + a^{(2)}_{33}x_3 + a^{(2)}_{34}x_4 &=& w^{(2)}_3 \\\\\\nonumber\n",
    "a^{(2)}_{42}x_2 + a^{(2)}_{43}x_3 + a^{(2)}_{44}x_4 &=& w^{(2)}_4, \n",
    "\\end{eqnarray}\n"
   ]
  },
  {
   "cell_type": "markdown",
   "metadata": {},
   "source": [
    "Os novos coeficientes são:\n",
    "\n",
    "<!-- Equation labels as ordinary links -->\n",
    "<div id=\"_auto8\"></div>\n",
    "\n",
    "$$\n",
    "\\begin{equation}\n",
    "   b_{1k} = a_{1k}^{(1)} \\quad k=1,\\dots,n,\n",
    "\\label{_auto8} \\tag{16}\n",
    "\\end{equation}\n",
    "$$\n",
    "\n",
    "Os outros coeficientes serão:\n",
    "\n",
    "<!-- Equation labels as ordinary links -->\n",
    "<div id=\"_auto9\"></div>\n",
    "\n",
    "$$\n",
    "\\begin{equation}\n",
    "a_{jk}^{(2)} = a_{jk}^{(1)}-\\frac{a_{j1}^{(1)}a_{1k}^{(1)}}{a_{11}^{(1)}} \\quad j,k=2,\\dots,n,\n",
    "\\label{_auto9} \\tag{17}\n",
    "\\end{equation}\n",
    "$$"
   ]
  },
  {
   "cell_type": "markdown",
   "metadata": {},
   "source": [
    "o novo lado direito da equação é dada por:\n",
    "\n",
    "<!-- Equation labels as ordinary links -->\n",
    "<div id=\"_auto10\"></div>\n",
    "\n",
    "$$\n",
    "\\begin{equation}\n",
    "y_{1}=w_1^{(1)}, \\quad w_j^{(2)} =w_j^{(1)}-\\frac{a_{j1}^{(1)}w_1^{(1)}}{a_{11}^{(1)}} \\quad j=2,\\dots,n.\n",
    "\\label{_auto10} \\tag{18}\n",
    "\\end{equation}\n",
    "$$\n",
    "\n",
    "O sistema de $x_1, ..., x_n$ desconhecidos transforma-se assim num sistema $(n-1) \\times (n-1)$. \n",
    "\n",
    "O passo seguinte é eliminar $x_2$ da terceira equação.\n",
    "\n",
    "Uma expresão geral para substituição direta é:\n",
    "\n",
    "<!-- Equation labels as ordinary links -->\n",
    "<div id=\"_auto11\"></div>\n",
    "\n",
    "$$\n",
    "\\begin{equation}\n",
    "   a_{jk}^{(m+1)} = a_{jk}^{(m)}-\\frac{a_{jm}^{(m)}a_{mk}^{(m)}}{a_{mm}^{(m)}} \\quad j,k=m+1,\\dots,n,\n",
    "\\label{_auto11} \\tag{19}\n",
    "\\end{equation}\n",
    "$$\n",
    "\n",
    "\n",
    "com $m=1,\\dots,n-1$ e o lado direito dado por\n",
    "\n",
    "<!-- Equation labels as ordinary links -->\n",
    "<div id=\"_auto12\"></div>\n",
    "\n",
    "$$\n",
    "\\begin{equation}\n",
    "   w_j^{(m+1)} =w_j^{(m)}-\\frac{a_{jm}^{(m)}w_m^{(m)}}{a_{mm}^{(m)}}\\quad j=m+1,\\dots,n.\n",
    "\\label{_auto12} \\tag{20}\n",
    "\\end{equation}\n",
    "$$\n",
    "\n",
    "Se valores pequenos (ou zeros) aparecem na diagonal da matriz, podem ser removidos reorganizando a matriz e os vetores permutando filas e colunas. Esse procedimento se chama *pivoting*.\n",
    "\n",
    "**Veja exemplo de pivoting no quadro**\n"
   ]
  },
  {
   "cell_type": "markdown",
   "metadata": {},
   "source": [
    "### Resolvendo circuitos com Python\n",
    "\n",
    "\n",
    "Quando queremos encontrar as correntes que percorrem um circuito encontramos finalmente um sistema de $n$ equações lineares acopladas. No caso, o circuito teria $n$ correntes. \n",
    "\n",
    "\n",
    "<img src=\"Figs/circuit2.gif\" width=50% >\n",
    "\n",
    "Há varias formas de resolver os circuitos de malhas. Um deles é propor direções iniciais arbitrarias para as correntes e considerar que se a corrente chega num nó, ela é positiva, se ela sai do nó, ela é negativa.  \n",
    "\n",
    "Considerando a conservação da carga aplicamos essa conveção para formular a primeria equação:\n",
    "\n",
    "$$\n",
    "I_1 - I_2 - I_3 = 0\n",
    "$$\n",
    "\n",
    "Depois criamos loops para passar por cada elemento da nossa malha. Para o caso, a lei física que deve ser respeitada é a seguinte:\n",
    "\n",
    "$$\n",
    "\\oint_{CF} E \\cdot dl = 0\n",
    "$$\n",
    "\n",
    "Ou seja, no caso de cada circuito fechado, a soma das tensões deve ser nula.  Aplicamos a lei de Ohm, $V = IR$, para calcular a tensão em cada resistência. \n",
    "\n",
    "Começamos desde qualquer ponto seguindo a direção do loop.  Se a direção do loop e a direção sugerida da corrente em cada resistência são iguais, teremos uma queda de potencial.  Se a direção do loop e a direção da corrente são contrarias teremos um ganho de potencial.  \n",
    "\n",
    "Quanto as fontes, se a fonte vai de $-$ para $+$ na direção do loop, colocamos a voltagem positiva. Se vai de $+$ para $-$, colocamos a voltagem negativa, pois a voltagem esta decaindo. \n",
    "\n",
    "Usando essas regras podemos construir as duas equações restantes:\n",
    "\n",
    "$$\n",
    "-2 I_1 + 24 - 3 I_2 =0\n",
    "$$\n",
    "\n",
    "$$\n",
    "-6I_3 + 3 I_2 = 0\n",
    "$$\n",
    "\n",
    "As trés equações podem ser organizadas em forma matricial:\n",
    "\n",
    "$$\n",
    "\\begin{bmatrix}\n",
    "                           1 & -1 & -1 \\\\\n",
    "                          -2 & -3 &  0 \\\\\n",
    "                           0 &  3 & -6 \\\\\n",
    "                      \\end{bmatrix} \\begin{bmatrix}\n",
    "                           I_1\\\\\n",
    "                           I_2\\\\\n",
    "                           I_3 \\\\\n",
    "                      \\end{bmatrix}\n",
    "  =\\begin{bmatrix}\n",
    "                           0  \\\\\n",
    "                          -24 \\\\\n",
    "                           0  \\\\\n",
    "                      \\end{bmatrix}.\n",
    "$$\n",
    "\n",
    "Resolvemos o sistema de equações, se o resultado para alguma corrente for negativo, significa que o nosso chute inicial está errado e a direção de tal corrente é a oposta. \n",
    "\n",
    "Utilizamos `numpy.linal.solve` para resolver esse sistema. Tres linhas de código são suficientes para resolver o problema. "
   ]
  },
  {
   "cell_type": "code",
   "execution_count": 3,
   "metadata": {},
   "outputs": [
    {
     "name": "stdout",
     "output_type": "stream",
     "text": [
      "as correntes encontradas sao\n",
      "I_1 = 6.0\n",
      "I_2 = 4.0\n",
      "I_3 = 2.0\n"
     ]
    }
   ],
   "source": [
    "# Solução do sistema de equações encontrado\n",
    "# no circuito anterior\n",
    "\n",
    "A = np.array([[1.,-1.,-1.],[-2.,-3.,0],[0.,3.,-6.]])\n",
    "V = np.array([0.,-24.,0.])\n",
    "I = np.linalg.solve(A,V)\n",
    "\n",
    "print('as correntes encontradas sao')\n",
    "print('I_1 =', I[0])\n",
    "print('I_2 =', I[1])\n",
    "print('I_3 =', I[2])"
   ]
  },
  {
   "cell_type": "markdown",
   "metadata": {},
   "source": [
    "**A sugestão inical da direção das correntes estava certa.**"
   ]
  },
  {
   "cell_type": "markdown",
   "metadata": {},
   "source": [
    "### Atividade \n",
    "\n",
    "Encontre as correntes no circuito seguinte, considere as direções iniciais indicadas na figura. \n",
    "\n",
    "<img src=\"Figs/dcp8.gif\" width=70% >\n",
    "\n",
    "\n"
   ]
  },
  {
   "cell_type": "markdown",
   "metadata": {},
   "source": [
    "### Decomposição LU\n",
    "\n",
    "É uma forma de eliminção Gaussiana. A ideia é decompor a matriz ${\\bf A}$ em termos de uma matriz ${\\bf L}$ com elementos só embaixo da diagonal, e uma matriz ${\\bf U}$ contendo a diagonal e os elementos acima dela.\n",
    "\n",
    "$$\n",
    "\\begin{bmatrix}\n",
    "                          a_{11} & a_{12} & a_{13} & a_{14} \\\\\n",
    "                          a_{21} & a_{22} & a_{23} & a_{24} \\\\\n",
    "                          a_{31} & a_{32} & a_{33} & a_{34} \\\\\n",
    "                          a_{41} & a_{42} & a_{43} & a_{44}\n",
    "                      \\end{bmatrix}\n",
    "                      = \\begin{bmatrix}\n",
    "                              1  & 0      & 0      & 0 \\\\\n",
    "                          l_{21} & 1      & 0      & 0 \\\\\n",
    "                          l_{31} & l_{32} & 1      & 0 \\\\\n",
    "                          l_{41} & l_{42} & l_{43} & 1\n",
    "                      \\end{bmatrix}\n",
    "                        \\begin{bmatrix}\n",
    "                          u_{11} & u_{12} & u_{13} & u_{14} \\\\\n",
    "                               0 & u_{22} & u_{23} & u_{24} \\\\\n",
    "                               0 & 0      & u_{33} & u_{34} \\\\\n",
    "                               0 & 0      &  0     & u_{44}\n",
    "             \\end{bmatrix}.\n",
    "$$\n",
    "\n",
    "A matriz ${\\bf A}$ tem decomposição LU se o seu determinante é diferente de zero. Se a factorização LU existe, e ${\\bf A}$ é não singular, o determinante é dado por \n",
    "\n",
    "$${\\rm det}\\{{\\bf A}\\} = u_{11}u_{22}...u_{nn},$$\n",
    "\n",
    "a demonstração pode ser encontrada em G. Golub \\& C. Van Loan (1996).\n"
   ]
  },
  {
   "cell_type": "markdown",
   "metadata": {},
   "source": [
    "O algoritmo para calcular as matrices L e U é simples de construir, porém vamos nos focar na utilidade da decomposição\n",
    "\n",
    "Queremos resolver um sistema do tipo: ${\\bf A} {\\bf x} = {\\bf w}$, ou\n",
    "\n",
    "$$\n",
    "a_{11}x_1 +a_{12}x_2 +a_{13}x_3 + a_{14}x_4=w_1 \\nonumber\n",
    "$$\n",
    "\n",
    "$$\n",
    "a_{21}x_1 + a_{22}x_2 + a_{23}x_3 + a_{24}x_4=w_2 \\nonumber\n",
    "$$\n",
    "\n",
    "$$\n",
    "a_{31}x_1 + a_{32}x_2 + a_{33}x_3 + a_{34}x_4=w_3 \\nonumber\n",
    "$$\n",
    "\n",
    "$$\n",
    "a_{41}x_1 + a_{42}x_2 + a_{43}x_3 + a_{44}x_4=w_4. \\nonumber\n",
    "$$"
   ]
  },
  {
   "cell_type": "markdown",
   "metadata": {},
   "source": [
    "Usando a decomposição LU escrevemos:\n",
    "\n",
    "$$\n",
    "{\\bf A} {\\bf x} = {\\bf L}{\\bf U} {\\bf x} = {\\bf w}\n",
    "$$\n",
    "\n",
    "Essa equação pode ser calculada em dois passos:\n",
    "\n",
    "$$\n",
    "{\\bf L}{\\bf y} = {\\bf w} \\;, {\\rm e} \\; \\; {\\bf U}{\\bf x} = {\\bf y}\n",
    "$$\n"
   ]
  },
  {
   "cell_type": "markdown",
   "metadata": {},
   "source": [
    "Para nosso exemplo $4 \\times 4$ temos\n",
    "\n",
    "\\begin{eqnarray}\n",
    "y_1 &=& w_1 \\\\\\nonumber\n",
    "l_{21}y_1 + y_2 &=& w_2 \\\\\\nonumber\n",
    "l_{31}y_1 + l_{32}y_2 + y_3 &=& w_3 \\\\\\nonumber\n",
    "l_{41}y_1 + l_{42}y_2 + l_{43}y_3 + y_4 &=& w_4.\n",
    "\\end{eqnarray}\n",
    "\n",
    "Junto com\n",
    "\n",
    "\\begin{eqnarray}\n",
    "u_{11}x_1 +u_{12}x_2 +u_{13}x_3 + u_{14}x_4 &=& y_1 \\\\\\nonumber\n",
    "u_{22}x_2 + u_{23}x_3 + u_{24}x_4 &=& y_2 \\\\\\nonumber\n",
    "u_{33}x_3 + u_{34}x_4 &=& y_3 \\\\\\nonumber\n",
    "u_{44}x_4 &=& y_4 \n",
    "\\end{eqnarray}\n"
   ]
  },
  {
   "cell_type": "markdown",
   "metadata": {},
   "source": [
    "#### Determinante e inverso de uma matriz\n",
    "\n",
    "A definição do determinante é:\n",
    "\n",
    "$$\n",
    "det\\{A\\}  = \\sum_{p} \\left( (-1)^p  \\prod_{i=1}^n a_{i,{p_i}}  \\right)\n",
    "$$\n",
    "\n",
    "Onde a soma é calculada sob todas as permutações $p$ do conjunto $\\{1, 2, \\ldots, n \\}$\n",
    "\n",
    "Já calcular o inverso de uma matriz de una matriz $ n\\times n$ é mais difícil:  precisamos calcular o cofactor complementario $a^{ij}$ para cada elemento $a_{ij}$. \n",
    "\n",
    "Este é o determinante de ordem $(n-1)$ obtido cobrindo a fila $i$ e a coluna $j$ na qual o elemento $a_{ij}$ aparece.  O inverso é então a transposta da matriz com elementos $(-)^{i+j} a{ij}$. Por exemplo, se\n",
    "\n",
    "$$\n",
    "A = \\begin{bmatrix}\n",
    "     a & b\\\\\n",
    "     c & d \\\\\n",
    "     \\end{bmatrix},\n",
    "$$\n",
    "\n",
    "\n",
    "$$\n",
    "A^{-1} = \\frac{1}{|A|}\n",
    "     \\begin{bmatrix}\n",
    "     d & -b\\\\\n",
    "     -c & a \\\\\n",
    "     \\end{bmatrix} = \n",
    "     \\frac{1}{ad-bc}\n",
    "     \\begin{bmatrix}\n",
    "     d & -b\\\\\n",
    "     -c & a \\\\\n",
    "     \\end{bmatrix}\n",
    "$$\n",
    "\n",
    "Se a matriz for $3 \\times 3$:\n",
    "\n",
    "$$\n",
    "A = \\begin{bmatrix}\n",
    "     a_{11} & a_{12} & a_{13}\\\\\n",
    "     a_{21} & a_{22} & a_{23}\\\\\n",
    "     a_{31} & a_{32} & a_{33}\\\\\n",
    "     \\end{bmatrix},\n",
    "$$\n",
    "\n",
    "Os calculos do determinante e a matriz inversa são mais complicados (**veja exemplo no quadro**).\n",
    "\n",
    "**Um método mais eficiente é necessârio**\n"
   ]
  },
  {
   "cell_type": "markdown",
   "metadata": {},
   "source": [
    "Usando o a decomposição **LU** da matriz ${\\bf A}$ é mais simples encontrar o determinante.\n",
    "\n",
    "$$\n",
    "det\\{\\bf A\\} = det \\{\\bf L\\} \\times det \\{\\bf U\\} = det \\{\\bf U \\}\n",
    "$$\n",
    "\n",
    "pois os elementos da diagonal de ${\\bf L}$ sao igual a 1.\n",
    "Logo o determinante pode ser calculado como\n",
    "\n",
    "$$\n",
    "det\\{\\bf A\\} = \\prod_{k=1}^{N} {\\bf u}_{kk} \\;.\n",
    "$$\n",
    "\n",
    "Encontrar a inversa de uma matriz consiste agora em resolver um grupo de equações lineares. Note que se a inversa da matriz existe,  ${\\bf A}^{-1} {\\bf A} = {\\bf I}$. Que pode ser escrito como:\n",
    "\n",
    "$$\n",
    "{\\bf LUA}^{-1} = {\\bf I} \\;.\n",
    "$$ \n",
    "\n",
    "Podemos então assumir que a primeira coluna da matriz inversa pode ser escrita como um vetor com componentes desconhecidas:\n",
    "\n",
    "$$\n",
    "\\mathbf{A}_1^{-1}= \\begin{bmatrix}\n",
    "                              a_{11}^{-1} \\\\\n",
    "                              a_{21}^{-1} \\\\\n",
    "                              \\dots \\\\\n",
    "                              a_{n1}^{-1} \\\\\n",
    "                    \\end{bmatrix},\n",
    "$$\n",
    "\n",
    "Então teremoso o seguinte sistema de equações lineares:\n",
    "\n",
    "$$\n",
    "\\mathbf{LU}\\begin{bmatrix}\n",
    "                              a_{11}^{-1} \\\\\n",
    "                              a_{21}^{-1} \\\\\n",
    "                              \\dots \\\\\n",
    "                              a_{n1}^{-1} \\\\\n",
    "                    \\end{bmatrix} =\\begin{bmatrix}\n",
    "                               1 \\\\\n",
    "                              0 \\\\\n",
    "                              \\dots \\\\\n",
    "                              0 \\\\\n",
    "                    \\end{bmatrix}.\n",
    "$$\n",
    "\n",
    "Para a segunda coluna teremos:\n",
    "\n",
    "$$\n",
    "\\mathbf{LU}\\begin{bmatrix}\n",
    "                              a_{12}^{-1} \\\\\n",
    "                              a_{22}^{-1} \\\\\n",
    "                              \\dots \\\\\n",
    "                              a_{n2}^{-1} \\\\\n",
    "                    \\end{bmatrix}=\\begin{bmatrix}\n",
    "                                0 \\\\\n",
    "                              1 \\\\\n",
    "                              \\dots \\\\\n",
    "                              0 \\\\\n",
    "                    \\end{bmatrix},\n",
    "$$\n",
    "\n",
    "E assim suscesivamente até resolvermos $n$ sistemas lineares de equações.\n"
   ]
  },
  {
   "cell_type": "markdown",
   "metadata": {},
   "source": [
    "### Calculando a inversa de uma matriz\n",
    "\n",
    "Encontre a inversa da matriz\n",
    "\n",
    "$$\n",
    "A = \\begin{bmatrix}\n",
    "     1 & 3 & 4\\\\\n",
    "     3 & 4 & 6\\\\\n",
    "     4 & 6 & 8\\\\\n",
    "     \\end{bmatrix},\n",
    "$$\n",
    "\n",
    "Para encontrar a inversa usamos `scipy.linalg`,"
   ]
  },
  {
   "cell_type": "code",
   "execution_count": 1,
   "metadata": {},
   "outputs": [],
   "source": [
    "import scipy.linalg\n",
    "import numpy as np"
   ]
  },
  {
   "cell_type": "code",
   "execution_count": 2,
   "metadata": {},
   "outputs": [],
   "source": [
    "A = np.array([[1.,3.,4.],[3.,4.,6.],[4.,6.,8.]])"
   ]
  },
  {
   "cell_type": "code",
   "execution_count": 3,
   "metadata": {},
   "outputs": [],
   "source": [
    "P, L, U = scipy.linalg.lu(A)"
   ]
  },
  {
   "cell_type": "code",
   "execution_count": 4,
   "metadata": {},
   "outputs": [
    {
     "data": {
      "text/plain": [
       "array([[0., 1., 0.],\n",
       "       [0., 0., 1.],\n",
       "       [1., 0., 0.]])"
      ]
     },
     "execution_count": 4,
     "metadata": {},
     "output_type": "execute_result"
    }
   ],
   "source": [
    "P"
   ]
  },
  {
   "cell_type": "code",
   "execution_count": 5,
   "metadata": {},
   "outputs": [
    {
     "data": {
      "text/plain": [
       "array([[ 1.        ,  0.        ,  0.        ],\n",
       "       [ 0.25      ,  1.        ,  0.        ],\n",
       "       [ 0.75      , -0.33333333,  1.        ]])"
      ]
     },
     "execution_count": 5,
     "metadata": {},
     "output_type": "execute_result"
    }
   ],
   "source": [
    "L"
   ]
  },
  {
   "cell_type": "code",
   "execution_count": 6,
   "metadata": {},
   "outputs": [
    {
     "data": {
      "text/plain": [
       "array([[4.        , 6.        , 8.        ],\n",
       "       [0.        , 1.5       , 2.        ],\n",
       "       [0.        , 0.        , 0.66666667]])"
      ]
     },
     "execution_count": 6,
     "metadata": {},
     "output_type": "execute_result"
    }
   ],
   "source": [
    "U"
   ]
  },
  {
   "cell_type": "code",
   "execution_count": 8,
   "metadata": {},
   "outputs": [
    {
     "data": {
      "text/plain": [
       "(array([[ 4.        ,  6.        ,  8.        ],\n",
       "        [ 0.25      ,  1.5       ,  2.        ],\n",
       "        [ 0.75      , -0.33333333,  0.66666667]]),\n",
       " array([2, 2, 2], dtype=int32))"
      ]
     },
     "execution_count": 8,
     "metadata": {},
     "output_type": "execute_result"
    }
   ],
   "source": [
    "LU = scipy.linalg.lu_factor(A)\n",
    "LU"
   ]
  },
  {
   "cell_type": "markdown",
   "metadata": {},
   "source": [
    "Para encontrar a inversa resolvemos o sistema\n",
    "\n",
    "$$\n",
    "{\\bf LUA}^{-1} = {\\bf I} \\;.\n",
    "$$ "
   ]
  },
  {
   "cell_type": "code",
   "execution_count": 10,
   "metadata": {},
   "outputs": [],
   "source": [
    "n=3\n",
    "I = np.zeros_like(A)\n",
    "for i in range (n):\n",
    "    I[i,i] = 1."
   ]
  },
  {
   "cell_type": "code",
   "execution_count": 11,
   "metadata": {},
   "outputs": [],
   "source": [
    "Ainv = scipy.linalg.lu_solve(LU, I)"
   ]
  },
  {
   "cell_type": "code",
   "execution_count": 12,
   "metadata": {},
   "outputs": [
    {
     "data": {
      "text/plain": [
       "array([[-1.00000000e+00,  0.00000000e+00,  5.00000000e-01],\n",
       "       [ 2.96059473e-16, -2.00000000e+00,  1.50000000e+00],\n",
       "       [ 5.00000000e-01,  1.50000000e+00, -1.25000000e+00]])"
      ]
     },
     "execution_count": 12,
     "metadata": {},
     "output_type": "execute_result"
    }
   ],
   "source": [
    "Ainv"
   ]
  },
  {
   "cell_type": "markdown",
   "metadata": {},
   "source": [
    "Para verificar que é a inversa de ${\\bf A}$ usamos `matmul`"
   ]
  },
  {
   "cell_type": "code",
   "execution_count": 13,
   "metadata": {},
   "outputs": [
    {
     "data": {
      "text/plain": [
       "array([[1., 0., 0.],\n",
       "       [0., 1., 0.],\n",
       "       [0., 0., 1.]])"
      ]
     },
     "execution_count": 13,
     "metadata": {},
     "output_type": "execute_result"
    }
   ],
   "source": [
    "np.matmul(A,Ainv)"
   ]
  },
  {
   "cell_type": "markdown",
   "metadata": {},
   "source": [
    "**Agora vamos encontrar a inversa de uma matriz $4 \\times 4$,**"
   ]
  },
  {
   "cell_type": "code",
   "execution_count": 14,
   "metadata": {},
   "outputs": [],
   "source": [
    "B = np.array([[1.,1.,1.,-1],[1.,1.,-1.,1.],[1.,-1.,1.,1.],[-1.,1.,1.,1.]])"
   ]
  },
  {
   "cell_type": "code",
   "execution_count": 15,
   "metadata": {},
   "outputs": [
    {
     "data": {
      "text/plain": [
       "array([[ 1.,  1.,  1., -1.],\n",
       "       [ 1.,  1., -1.,  1.],\n",
       "       [ 1., -1.,  1.,  1.],\n",
       "       [-1.,  1.,  1.,  1.]])"
      ]
     },
     "execution_count": 15,
     "metadata": {},
     "output_type": "execute_result"
    }
   ],
   "source": [
    "B"
   ]
  },
  {
   "cell_type": "code",
   "execution_count": 25,
   "metadata": {},
   "outputs": [],
   "source": [
    "LUB = scipy.linalg.lu_factor(B)"
   ]
  },
  {
   "cell_type": "code",
   "execution_count": 26,
   "metadata": {},
   "outputs": [
    {
     "data": {
      "text/plain": [
       "(array([[ 1.,  1.,  1., -1.],\n",
       "        [ 1., -2.,  0.,  2.],\n",
       "        [ 1., -0., -2.,  2.],\n",
       "        [-1., -1., -1.,  4.]]), array([0, 2, 2, 3], dtype=int32))"
      ]
     },
     "execution_count": 26,
     "metadata": {},
     "output_type": "execute_result"
    }
   ],
   "source": [
    "LUB"
   ]
  },
  {
   "cell_type": "code",
   "execution_count": 27,
   "metadata": {},
   "outputs": [],
   "source": [
    "n=4\n",
    "I = np.zeros_like(B)\n",
    "for i in range (n):\n",
    "    I[i,i] = 1."
   ]
  },
  {
   "cell_type": "code",
   "execution_count": 28,
   "metadata": {},
   "outputs": [],
   "source": [
    "Binv = scipy.linalg.lu_solve(LUB, I)"
   ]
  },
  {
   "cell_type": "code",
   "execution_count": 29,
   "metadata": {},
   "outputs": [
    {
     "data": {
      "text/plain": [
       "array([[ 0.25,  0.25,  0.25, -0.25],\n",
       "       [ 0.25,  0.25, -0.25,  0.25],\n",
       "       [ 0.25, -0.25,  0.25,  0.25],\n",
       "       [-0.25,  0.25,  0.25,  0.25]])"
      ]
     },
     "execution_count": 29,
     "metadata": {},
     "output_type": "execute_result"
    }
   ],
   "source": [
    "Binv"
   ]
  },
  {
   "cell_type": "code",
   "execution_count": 30,
   "metadata": {},
   "outputs": [
    {
     "data": {
      "text/plain": [
       "array([[1., 0., 0., 0.],\n",
       "       [0., 1., 0., 0.],\n",
       "       [0., 0., 1., 0.],\n",
       "       [0., 0., 0., 1.]])"
      ]
     },
     "execution_count": 30,
     "metadata": {},
     "output_type": "execute_result"
    }
   ],
   "source": [
    "np.matmul(B,Binv)"
   ]
  },
  {
   "cell_type": "markdown",
   "metadata": {},
   "source": [
    "### Atividade \n",
    "\n",
    "Utilize decomposição LU para resolver o sistema de equações derivado para resolver o  problema de mecânica apresentado na figura seguinte, \n",
    "\n",
    "<img src=\"Figs/Image165.gif\" width=70% >\n",
    "\n",
    "Escreva as equações que mantém o sistema estatico, e encontre as forçãs $F_1$, $F_2$ e $F_3$.\n"
   ]
  },
  {
   "cell_type": "code",
   "execution_count": 33,
   "metadata": {},
   "outputs": [],
   "source": [
    "scipy.linalg.lu_solve?"
   ]
  }
 ],
 "metadata": {
  "kernelspec": {
   "display_name": "Python 3 (ipykernel)",
   "language": "python",
   "name": "python3"
  },
  "language_info": {
   "codemirror_mode": {
    "name": "ipython",
    "version": 3
   },
   "file_extension": ".py",
   "mimetype": "text/x-python",
   "name": "python",
   "nbconvert_exporter": "python",
   "pygments_lexer": "ipython3",
   "version": "3.9.13"
  }
 },
 "nbformat": 4,
 "nbformat_minor": 2
}
