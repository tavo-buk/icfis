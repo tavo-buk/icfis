{
 "cells": [
  {
   "cell_type": "markdown",
   "metadata": {},
   "source": [
    "# Solução de equações diferenciais ordinárias (EDO)\n",
    "\n",
    "\n",
    "## Modelos de compartimentos para doenças infecciosas\n",
    "\n",
    "Os modelos de compartimentos são uma técnica comum para modelagem matemática de doenças infecciosas. O modelo mais simples é o SIR, que contém 3 compartimentos onde uma população pode ser designada: Suscetível, Infecciosa, e Recuperada. Quando o modelo evolui a partir de uma determinada condição, a população vai mudando de compartimento. Os modelos foram desenvolvidos, entre outros,  por [Ross](https://royalsocietypublishing.org/doi/10.1098/rspa.1916.0007) em 1916, [Kermack & McKendrick](https://royalsocietypublishing.org/doi/10.1098/rspa.1927.0118) em 1927, [Kendal](https://projecteuclid.org/ebooks/berkeley-symposium-on-mathematical-statistics-and-probability/Proceedings-of-the-Third-Berkeley-Symposium-on-Mathematical-Statistics-and/chapter/Deterministic-and-Stochastic-Epidemics-in-Closed-Populations/bsmsp/1200502553) em 1956.\n",
    "\n",
    "\n",
    "Os modelos resolvem equações diferenciais ordinárias (EDO), mas podem utilizar variáveis randômicas para introduzir mais realismo na modelagem das epidemias. \n",
    "\n",
    "\n",
    "## Modelo SIR\n",
    "\n",
    "<img src=\"Figs/SIR.png\" width=50% >\n",
    "\n",
    "\n",
    "É um dos modelos mais simples, contudo, muitos outros modelos mais sofisticados são derivados deste modelo.  Possui 3 compartimentos \n",
    "\n",
    "\n",
    "* **S**: O número de indivíduos susceptíveis. Quando um indivíduo suscetível e um indivíduo infeccioso entram em \"contacto infeccioso\", o indivíduo suscetível contrai a doença e muda para o compartimento infeccioso.\n",
    "\n",
    "* **I**: O número de indivíduos infecciosos. Estes são indivíduos que foram infectados e são capazes de infectar os indivíduos susceptíveis.\n",
    "\n",
    "* **R**: Corresponde ao número de indivíduos removidos (e imunes) ou falecidos. Estes são indivíduos que foram infectados e recuperaram da doença e entraram no compartimento removido, ou morreram. Assume-se que o número de mortes é insignificante em relação à população total. Este compartimento também pode ser chamado \"recuperado\" ou \"resistente\".\n",
    "\n",
    "Este modelo é razoavelmente bom para fazer previsões de doenças infecciosas que são transmitidas de humano para humano, e onde a recuperação confere resistência duradoura, tais como sarampo, papeira e rubéola. \n",
    "\n",
    "\n",
    "A evolução entre compartimentos se dá através das seguintes EDOs:\n",
    "\n",
    "\\begin{eqnarray}\n",
    "\\frac{dS}{dt} &=& -\\frac{\\beta IS}{N}, \\\\\n",
    "\\frac{dI}{dt} &=& \\frac{\\beta IS}{N} - \\gamma I, \\\\\n",
    "\\frac{dR}{dt} &=& \\gamma I,\n",
    "\\end{eqnarray}\n",
    "\n",
    "Onde $\\beta$ é o número médio de contactos por pessoa por unidade de tempo, multiplicado pela probabilidade de transmissão da doença atraves de um contacto entre um indivíduo susceptível e um sujeito infeccioso, e $SI/N^2$ é a fracção dos contactos entre um indivíduo infeccioso e um sujeito susceptível que resultam na infecção da pessoa susceptível. $N$ é a população total. Entre $I$ e $R$ a taxa de transição, $\\gamma$, é considerada proporcional a $I$,\n",
    "\n",
    "Note que \n",
    "\n",
    "$$\n",
    "\\frac{dS}{dt} + \\frac{dI}{dt}  + \\frac{dR}{dt} = 0\n",
    "$$\n",
    "\n",
    "Logo $S + I + R = {\\rm constante} = N$.  \n",
    "\n",
    "A dinâmica da infecção depende do parâmetro:\n",
    "\n",
    "$$\n",
    "R_0 = \\frac{\\beta}{\\gamma}\n",
    "$$\n",
    "\n",
    "Que é chamado de número de reprodução.  $R_{0}$ representa a velocidade de reprodução no início da propagação quando todas as populações são consideradas susceptíveis, por exemplo, se $\\beta_0 = 0.4$ dias$^{-1}$, e $\\gamma_0 = 0.2$ dias$^{-1}$, significa que uma pessoa infecciosa em média infecta $0.4$ pessoas susceptíveis por dia,  e se recupera em $1/0.2=5$ dias. Assim, quando esta pessoa recuperou, ainda há duas pessoas infecciosas directamente infectadas por esta pessoa e $R_0 = 2$, ou seja, o número de pessoas infecciosas duplicou num ciclo de 5 dias. \n"
   ]
  },
  {
   "cell_type": "code",
   "execution_count": null,
   "metadata": {},
   "outputs": [],
   "source": []
  }
 ],
 "metadata": {
  "kernelspec": {
   "display_name": "Python 3 (ipykernel)",
   "language": "python",
   "name": "python3"
  },
  "language_info": {
   "codemirror_mode": {
    "name": "ipython",
    "version": 3
   },
   "file_extension": ".py",
   "mimetype": "text/x-python",
   "name": "python",
   "nbconvert_exporter": "python",
   "pygments_lexer": "ipython3",
   "version": "3.9.12"
  }
 },
 "nbformat": 4,
 "nbformat_minor": 2
}
