{
 "cells": [
  {
   "cell_type": "markdown",
   "metadata": {},
   "source": [
    "# Solução de equações diferenciais ordinarias (EDO)\n",
    "\n",
    "## Aplicações\n",
    "\n",
    "Veremos agora vários exemplos de como usar o método de Runge-Kutta, RK4, para resolver sistemas de equações diferenciais ordinárias. \n",
    "\n",
    "A função `RK4` permite evoluir unicamente uma variável, assim, deveriamos chamar ela várias vezes quando não temos uma senão várias EDO acopladas. \n",
    "\n",
    "podemos fazer uso de uma versão vetorizada da rotina RK4, que permite evoluir $m$ variáveis simultaneamente."
   ]
  },
  {
   "cell_type": "code",
   "execution_count": 1,
   "metadata": {},
   "outputs": [],
   "source": [
    "import numpy as np\n",
    "import matplotlib.pylab as plt\n",
    "%matplotlib inline"
   ]
  },
  {
   "cell_type": "code",
   "execution_count": 2,
   "metadata": {},
   "outputs": [],
   "source": [
    "def rk4vec( t0, m, u0, dt, f ):\n",
    "    \n",
    "    import numpy as np\n",
    "    \n",
    "    f0 = f ( t0, m, u0 )\n",
    "    t1 = t0 + dt / 2.0\n",
    "    u1 = np.zeros ( m )\n",
    "    u1[0:m] = u0[0:m] + dt * f0[0:m] / 2.0\n",
    "    f1 = f ( t1, m, u1 )\n",
    "    \n",
    "    t2 = t0 + dt / 2.0\n",
    "    u2 = np.zeros ( m )\n",
    "    u2[0:m] = u0[0:m] + dt * f1[0:m] / 2.0\n",
    "    f2 = f ( t2, m, u2 )\n",
    "    \n",
    "    t3 = t0 + dt\n",
    "    u3 = np.zeros ( m )\n",
    "    u3[0:m] = u0[0:m] + dt * f2[0:m]\n",
    "    f3 = f ( t3, m, u3 )\n",
    "    \n",
    "    u = np.zeros ( m )\n",
    "    u[0:m] = u0[0:m] + ( dt / 6.0 ) * ( \\\n",
    "                                       f0[0:m] \\\n",
    "                                       + 2.0 * f1[0:m] \\\n",
    "                                       + 2.0 * f2[0:m] \\\n",
    "                                       +       f3[0:m] )\n",
    "    return u"
   ]
  },
  {
   "cell_type": "markdown",
   "metadata": {},
   "source": [
    "### Movimento de um projetil\n",
    "\n",
    "O primeiro caso que vamos estudar é o movimento de um projetil.\n",
    "\n",
    "As equações que governam o movimento são as seguinte:\n",
    "\n",
    "$$\n",
    "\\frac{d^2x}{dt^2} = 0\\; \\;, \\frac{d^2y}{dt^2} =0 \\; \\;, \\frac{d^2z}{dt^2} = -g\n",
    "$$\n",
    "\n",
    "Para facilitar o problema podemos podemos trabalhar em duas dimensões, $x$ e $y$. Convertimos também as equações de segunda ordem em duas equaçòes de primeira ordem.\n",
    "\n",
    "$$\n",
    "\\frac{d v_x}{dt} = 0 \\; \\;,  \\frac{d v_z}{dt} = -g\n",
    "$$\n",
    "\n",
    "$$\n",
    "\\frac{d x}{dt} = v_x \\; \\;,  \\frac{d z}{dt} = v_z\n",
    "$$\n",
    "\n",
    "Dessa forma temos 4 equações diferenciais acopladas. Precisamos um programa principal onde chamar a rotina RK4vec e uma função que contenha as equações do projetil."
   ]
  },
  {
   "cell_type": "code",
   "execution_count": 3,
   "metadata": {},
   "outputs": [],
   "source": [
    "def projetil(angle=45.,v0=50.):\n",
    "    m = 4   # numero de equaçoes \n",
    "    n = 50 # numero de passos temporais\n",
    "    \n",
    "    tmin = 0.\n",
    "    tmax = 8.\n",
    "    t = np.linspace(tmin,tmax,n)\n",
    "    dt = t[1] - t[0]\n",
    "    \n",
    "    # agora criamos arrays para nossas variaveis\n",
    "    # u0 para valor inicial, u1 para valor final\n",
    "    # u0[0] : posiçao x\n",
    "    # u0[1] : vel x\n",
    "    # u0[2] : posiçao z\n",
    "    # u0[3] : vel z\n",
    "    \n",
    "    x  = np.zeros([n])\n",
    "    vx = np.zeros([n])\n",
    "    z  = np.zeros([n])\n",
    "    vz = np.zeros([n])\n",
    "    \n",
    "    u0 = np.zeros([m])\n",
    "    u1 = np.zeros_like(u0)\n",
    "    angulo = angle*np.pi/180.\n",
    "    \n",
    "    # condicoes iniciais\n",
    "    u0[0] = 0.\n",
    "    u0[1] = v0*np.cos(angulo)\n",
    "    u0[2] = 0.\n",
    "    u0[3] = v0*np.sin(angulo)\n",
    "    \n",
    "    t0 = t[0]\n",
    "    \n",
    "    for i in range(n):\n",
    "        \n",
    "        # colocamos os valores iniciais nos arrays das variaveis\n",
    "        \n",
    "        x[i]  = u0[0]\n",
    "        vx[i] = u0[1]\n",
    "        z[i]  = u0[2]\n",
    "        vz[i] = u0[3]\n",
    "        \n",
    "        # chamamos a rotina rk4vec\n",
    "        u1 = rk4vec( t[i], m, u0, dt, proj_f)\n",
    "        \n",
    "        u0 = np.copy(u1)\n",
    "        \n",
    "    return x,vx,z,vz,t"
   ]
  },
  {
   "cell_type": "code",
   "execution_count": 4,
   "metadata": {},
   "outputs": [],
   "source": [
    "# Funcao que tem as equacoes diferenciais\n",
    "\n",
    "def proj_f(t,m,u):\n",
    "    uprime = np.zeros_like(u)\n",
    "    \n",
    "    uprime[0] = u[1]\n",
    "    uprime[1] = 0.\n",
    "    uprime[2] = u[3]\n",
    "    uprime[3] = -9.8\n",
    "    \n",
    "    return uprime"
   ]
  },
  {
   "cell_type": "code",
   "execution_count": 5,
   "metadata": {},
   "outputs": [],
   "source": [
    "x, vx, z, vz, t = projetil(angle=65,v0=50)"
   ]
  },
  {
   "cell_type": "code",
   "execution_count": 6,
   "metadata": {
    "scrolled": false
   },
   "outputs": [
    {
     "data": {
      "image/png": "[encoded data removed]",
      "text/plain": [
       "<Figure size 640x480 with 1 Axes>"
      ]
     },
     "metadata": {},
     "output_type": "display_data"
    },
    {
     "data": {
      "text/plain": [
       "<Figure size 640x480 with 0 Axes>"
      ]
     },
     "metadata": {},
     "output_type": "display_data"
    }
   ],
   "source": [
    "from IPython import display\n",
    "import time\n",
    "\n",
    "for i in range(50):\n",
    "    plt.xlim(0.,300.)\n",
    "    plt.ylim(-10,70)\n",
    "    plt.xlabel('X')\n",
    "    plt.ylabel('Z')\n",
    "    plt.plot(x[i],z[i],'o',markersize=10)\n",
    "    plt.plot(x[0:i],z[0:i])\n",
    "    #plt.scatter(x[0:i],z[0:i])\n",
    "    display.clear_output(wait=True)\n",
    "    display.display(plt.gcf())\n",
    "    plt.gcf().clear()\n",
    "    time.sleep(0.1)\n",
    "\n"
   ]
  },
  {
   "cell_type": "markdown",
   "metadata": {},
   "source": [
    "## Atividade\n",
    "\n",
    "Uma forma conhecida de força de atrito que pode freiar o projetil é proporcional à velocidade do projetil elevada a uma potencia $n$, logo estaria dada por:\n",
    "\n",
    "$$\n",
    "F = - k m |v|^n \\frac{{\\bf v}}{|v|},\n",
    "$$\n",
    "\n",
    "onde o termo $-\\frac{{\\bf v}}{|v|}$  asegura que a força seja oposta ao movimento. As equações de movimento ficariam:\n",
    "\n",
    "$$\n",
    "\\frac{d v_x}{dt} = -k v_x^n \\frac{v_x}{|v|} \\; \\;,  \\frac{d v_z}{dt} = -g - k v_z^n \\frac{v_z}{|v|}\n",
    "$$\n",
    "\n",
    "$$\n",
    "\\frac{d x}{dt} = v_x \\; \\;,  \\frac{d z}{dt} = v_z\n",
    "$$\n",
    "\n",
    "com, $|v| = \\sqrt{v_x^2 + v_z^2}$.\n",
    "\n",
    "\n",
    "1) Adicione as forças de atrito no código acima, verifique o resultado para $n=1$. Experimente com diferentes valores de $k$, e.g., $k=0.01$, $k=0.1$ e $k=1$.\n",
    "\n",
    "2) O valor de $n=1$ é valido para baixas velocidades. Já para velocidades médias e\n",
    "altas $n=3/2$ e $n=2$, respectivamente.  Aumente a velocidade inicial do projetil para $100$\n",
    "e $200$ m/s e mude os valores de $n$ para cada caso. Estime o valor de $k$ de tal forma\n",
    "que a força de atrito inicial seja a mesma nos três casos. "
   ]
  },
  {
   "cell_type": "markdown",
   "metadata": {},
   "source": [
    "### O pendulo simples\n",
    "\n",
    "Vamos considerar um péndulo de massa $m$, no extremo de uma barra rigida de comprimento $l$ (veja figura).  A barra está fixa a um pivote, de tal forma que o pendulo se movimenta livremente no plano vertical sob a ação da gravidade.\n",
    "\n",
    "<img src=\"Figs/pendulum.png\" width=30% >\n",
    "\n",
    "Novamente, a equação que descreve o movimento do péndulo é a lei de Newton:\n",
    "\n",
    "$$\n",
    "ml \\frac{d^2 \\theta}{dt^2} + mg \\sin\\theta = 0\n",
    "$$\n",
    "\n",
    "A velocidade angular e a aceleração estão dadas por:\n",
    "\n",
    "$$\n",
    "v = l \\frac{d \\theta}{dt} \\; \\; a = l \\frac{d^2 \\theta}{dt^2} \n",
    "$$\n",
    "\n",
    "Para angulos pequenos podemos usar a aproximação\n",
    "\n",
    "$$\n",
    "\\sin \\theta \\simeq \\theta\n",
    "$$\n",
    "\n",
    "o que leva a\n",
    "\n",
    "$$\n",
    "\\frac{d^2 \\theta}{dt^2} = - \\frac{g}{l} \\theta\n",
    "$$\n",
    "\n",
    "Vamos a investigar inicialmente a solução dessa equação, para a qual sabemos que\n",
    "\n",
    "$$\n",
    "T = \\frac{2 \\pi}{\\sqrt{l/g}}\n",
    "$$\n",
    "\n"
   ]
  },
  {
   "cell_type": "markdown",
   "metadata": {},
   "source": [
    "No entanto, para um pendulo esperamos que seu movimento eventualmente vai parar devido a empuxo viscoso do ar. A equação acima fica então:\n",
    "\n",
    "$$\n",
    "ml \\frac{d^2 \\theta}{dt^2} + \\nu \\frac{d \\theta}{dt} +  mg \\sin\\theta = 0\n",
    "$$\n",
    "\n",
    "De forma similar aos circuitos eletricos, uma forma de manter o movimento a pesar da viscosidade, podemos adicionar um termo de forçamento\n",
    "\n",
    "$$\n",
    "ml \\frac{d^2 \\theta}{dt^2} + \\nu \\frac{d \\theta}{dt} + mg \\sin\\theta = A \\cos(\\omega t)\n",
    "$$\n",
    "\n",
    "Onde $A$ e $\\omega$ representam a amplitude e a frequencia angular do forçamento, repeitivamente. "
   ]
  },
  {
   "cell_type": "markdown",
   "metadata": {},
   "source": [
    "Vamos definir a frequencia natural do péndulo como:\n",
    "\n",
    "$$\n",
    "\\omega_0 = \\sqrt(g/l)\n",
    "$$\n",
    "\n",
    "E levar todo o sistema a uma forma não dimensional. Isto normalmente é util para ter grandeças que no computador diminuam os erros de *roundoff*.\n",
    "\n",
    "$$\n",
    "{\\hat t} = \\omega_0 t \\;, \\; {\\hat \\omega} = \\frac{\\omega}{\\omega_0}\n",
    "$$\n",
    "\n",
    "Também definimos o fator de qualidade do pendulo, e a amplitude não dimensional do forçamento.\n",
    "\n",
    "$$\n",
    "Q = \\frac{mg}{\\omega_0 \\nu} \\;, \\; {\\hat A} = \\frac{A}{mg}.\n",
    "$$\n"
   ]
  },
  {
   "cell_type": "markdown",
   "metadata": {},
   "source": [
    "Dessa forma, a equção do péndulo fica:\n",
    "\n",
    "$$\n",
    "\\frac{d^2 \\theta}{d{\\hat t}^2} + \\frac{1}{Q} \\frac{d \\theta}{d {\\hat t}} + \\sin\\theta = {\\hat A} \\cos ({\\hat \\omega} {\\hat t}) \n",
    "$$\n",
    "\n",
    "A qual pode ser escrita em forma de duas equações de primeira ordem:\n",
    "\n",
    "$$\n",
    "\\frac{d \\theta}{d {\\hat t}} = {\\hat v}\n",
    "$$\n",
    "\n",
    "$$\n",
    "\\frac{d {\\hat v}}{dt} = - \\frac{{\\hat v}}{Q} - \\sin\\theta + {\\hat A} \\cos ({\\hat \\omega} {\\hat t}) \n",
    "$$\n",
    "\n",
    "Essas são as equações que devem ser resolvidas. O fator de qualidade, $Q$, representa o número aproximado de oscilações que acontecerão no sistema sem forçamento, antes do pendulo parar devido à viscosidade.  A amplitude ${\\hat A}$ é medida em termos do torque gravitacional máximo, enquanto que a frequencia, ${\\hat w}$ é medida em termos da frequencia natural do pendulo. \n",
    "\n",
    "Vamos usar os seguintes parâmetros: $Q = 2$,  ${\\hat w} = 2/3$ e inicialmente ${\\hat A} = 0$.\n",
    "\n",
    "\n",
    "\n"
   ]
  },
  {
   "cell_type": "code",
   "execution_count": 35,
   "metadata": {},
   "outputs": [],
   "source": [
    "def pendulo(angle=10.):\n",
    "    tmin = 0.\n",
    "    tmax = 10.*np.pi\n",
    "    n = 1000\n",
    "    m = 2\n",
    "    #tempo\n",
    "    t = np.linspace(tmin,tmax,n)\n",
    "    dt = t[1] - t[0]\n",
    "    #variaveis\n",
    "    \n",
    "    #u0[0] = theta\n",
    "    #u0[1] = v\n",
    "    \n",
    "    u0 = np.zeros([m])\n",
    "    u1 = np.zeros_like(u0)\n",
    "    \n",
    "    theta = np.zeros([n])\n",
    "    v = np.zeros([n])\n",
    "    \n",
    "    angle = angle*np.pi/180.\n",
    "    \n",
    "    #condicoes iniciais\n",
    "    u0[0] = angle\n",
    "    u0[1] = 0.\n",
    "    \n",
    "    #evoluir no tempo\n",
    "    for i in range(n):\n",
    "        theta[i] = u0[0]\n",
    "        v[i]     = u0[1]\n",
    "        \n",
    "        u1 = rk4vec( t[i], m, u0, dt, pend_f)\n",
    "    \n",
    "        u0 = np.copy(u1)\n",
    "    \n",
    "    return theta, v, t"
   ]
  },
  {
   "cell_type": "code",
   "execution_count": 36,
   "metadata": {},
   "outputs": [],
   "source": [
    "def pend_f(t,m,u):\n",
    "    \n",
    "    uprime = np.zeros_like(u)\n",
    "    \n",
    "    Q = 10.\n",
    "    w = 2./3.\n",
    "    A = 0.\n",
    "    \n",
    "    uprime[0] =  u[1]\n",
    "    uprime[1] = -u[1]/Q - np.sin(u[0]) + A*np.cos(w*t)\n",
    "    \n",
    "    return uprime"
   ]
  },
  {
   "cell_type": "code",
   "execution_count": 37,
   "metadata": {},
   "outputs": [],
   "source": [
    "theta,v,t = pendulo(angle = 7.)"
   ]
  },
  {
   "cell_type": "code",
   "execution_count": 38,
   "metadata": {},
   "outputs": [
    {
     "data": {
      "text/plain": [
       "[<matplotlib.lines.Line2D at 0x7f11097f00f0>]"
      ]
     },
     "execution_count": 38,
     "metadata": {},
     "output_type": "execute_result"
    },
    {
     "data": {
      "image/png": "[encoded data removed]",
      "text/plain": [
       "<Figure size 432x288 with 1 Axes>"
      ]
     },
     "metadata": {
      "needs_background": "light"
     },
     "output_type": "display_data"
    }
   ],
   "source": [
    "plt.plot(t,theta)"
   ]
  },
  {
   "cell_type": "markdown",
   "metadata": {},
   "source": [
    "## Atividade\n",
    "\n",
    "1. Crie uma animação que permita visualizar os resultados do modelo do péndulo\n"
   ]
  },
  {
   "cell_type": "markdown",
   "metadata": {},
   "source": [
    "### Atividade\n",
    "\n",
    "1. O modulo scipy tem rotinas para resolver sistemas de equações diferenciais parciais. Utilize `scipy.integrate.odeint` para integrar o sistema de equações do péndulo.  Compare os resultados com aqueles obtidos com a rotina RK4.\n",
    "\n"
   ]
  },
  {
   "cell_type": "code",
   "execution_count": 2,
   "metadata": {},
   "outputs": [],
   "source": [
    "import scipy.integrate as si"
   ]
  },
  {
   "cell_type": "code",
   "execution_count": 4,
   "metadata": {},
   "outputs": [],
   "source": [
    "si.odeint?"
   ]
  },
  {
   "cell_type": "code",
   "execution_count": null,
   "metadata": {},
   "outputs": [],
   "source": []
  }
 ],
 "metadata": {
  "kernelspec": {
   "display_name": "Python 3 (ipykernel)",
   "language": "python",
   "name": "python3"
  },
  "language_info": {
   "codemirror_mode": {
    "name": "ipython",
    "version": 3
   },
   "file_extension": ".py",
   "mimetype": "text/x-python",
   "name": "python",
   "nbconvert_exporter": "python",
   "pygments_lexer": "ipython3",
   "version": "3.9.13"
  }
 },
 "nbformat": 4,
 "nbformat_minor": 2
}
